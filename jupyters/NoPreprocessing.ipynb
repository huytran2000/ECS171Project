{
  "nbformat": 4,
  "nbformat_minor": 0,
  "metadata": {
    "kernelspec": {
      "display_name": "Python 3",
      "language": "python",
      "name": "python3"
    },
    "language_info": {
      "codemirror_mode": {
        "name": "ipython",
        "version": 3
      },
      "file_extension": ".py",
      "mimetype": "text/x-python",
      "name": "python",
      "nbconvert_exporter": "python",
      "pygments_lexer": "ipython3",
      "version": "3.8.5"
    },
    "colab": {
      "name": "NoPreprocessing.ipynb",
      "provenance": [],
      "toc_visible": true
    }
  },
  "cells": [
    {
      "cell_type": "code",
      "metadata": {
        "id": "8uCuxXb_EQMD"
      },
      "source": [
        "import pandas as pd\n",
        "import numpy as np\n",
        "import matplotlib.pyplot as plt \n",
        "import seaborn as sns\n",
        "from sklearn.ensemble import IsolationForest\n",
        "from sklearn.neighbors import LocalOutlierFactor\n",
        "from sklearn.model_selection import validation_curve\n",
        "from sklearn.linear_model import LogisticRegression\n",
        "from sklearn.model_selection import train_test_split\n",
        "from sklearn.metrics import precision_score, recall_score\n",
        "#from sklearn.metrics import mean_squared_error\n",
        "from sklearn.ensemble import RandomForestClassifier\n",
        "\n",
        "#import pickle"
      ],
      "execution_count": 21,
      "outputs": []
    },
    {
      "cell_type": "code",
      "metadata": {
        "id": "aX_a8MVUEQME"
      },
      "source": [
        "colNames = list(range(1024))\n",
        "colNames.append(\"label\")\n",
        "df = pd.read_csv('../qsar_oral_toxicity.csv', sep=';',names=colNames)"
      ],
      "execution_count": 22,
      "outputs": []
    },
    {
      "cell_type": "code",
      "metadata": {
        "id": "K5jVhlPcEQMJ",
        "outputId": "af1d02fa-1211-4c26-9736-fc9f78f20d42",
        "colab": {
          "base_uri": "https://localhost:8080/",
          "height": 439
        }
      },
      "source": [
        "df"
      ],
      "execution_count": 23,
      "outputs": [
        {
          "output_type": "execute_result",
          "data": {
            "text/html": [
              "<div>\n",
              "<style scoped>\n",
              "    .dataframe tbody tr th:only-of-type {\n",
              "        vertical-align: middle;\n",
              "    }\n",
              "\n",
              "    .dataframe tbody tr th {\n",
              "        vertical-align: top;\n",
              "    }\n",
              "\n",
              "    .dataframe thead th {\n",
              "        text-align: right;\n",
              "    }\n",
              "</style>\n",
              "<table border=\"1\" class=\"dataframe\">\n",
              "  <thead>\n",
              "    <tr style=\"text-align: right;\">\n",
              "      <th></th>\n",
              "      <th>0</th>\n",
              "      <th>1</th>\n",
              "      <th>2</th>\n",
              "      <th>3</th>\n",
              "      <th>4</th>\n",
              "      <th>5</th>\n",
              "      <th>6</th>\n",
              "      <th>7</th>\n",
              "      <th>8</th>\n",
              "      <th>9</th>\n",
              "      <th>10</th>\n",
              "      <th>11</th>\n",
              "      <th>12</th>\n",
              "      <th>13</th>\n",
              "      <th>14</th>\n",
              "      <th>15</th>\n",
              "      <th>16</th>\n",
              "      <th>17</th>\n",
              "      <th>18</th>\n",
              "      <th>19</th>\n",
              "      <th>20</th>\n",
              "      <th>21</th>\n",
              "      <th>22</th>\n",
              "      <th>23</th>\n",
              "      <th>24</th>\n",
              "      <th>25</th>\n",
              "      <th>26</th>\n",
              "      <th>27</th>\n",
              "      <th>28</th>\n",
              "      <th>29</th>\n",
              "      <th>30</th>\n",
              "      <th>31</th>\n",
              "      <th>32</th>\n",
              "      <th>33</th>\n",
              "      <th>34</th>\n",
              "      <th>35</th>\n",
              "      <th>36</th>\n",
              "      <th>37</th>\n",
              "      <th>38</th>\n",
              "      <th>39</th>\n",
              "      <th>...</th>\n",
              "      <th>985</th>\n",
              "      <th>986</th>\n",
              "      <th>987</th>\n",
              "      <th>988</th>\n",
              "      <th>989</th>\n",
              "      <th>990</th>\n",
              "      <th>991</th>\n",
              "      <th>992</th>\n",
              "      <th>993</th>\n",
              "      <th>994</th>\n",
              "      <th>995</th>\n",
              "      <th>996</th>\n",
              "      <th>997</th>\n",
              "      <th>998</th>\n",
              "      <th>999</th>\n",
              "      <th>1000</th>\n",
              "      <th>1001</th>\n",
              "      <th>1002</th>\n",
              "      <th>1003</th>\n",
              "      <th>1004</th>\n",
              "      <th>1005</th>\n",
              "      <th>1006</th>\n",
              "      <th>1007</th>\n",
              "      <th>1008</th>\n",
              "      <th>1009</th>\n",
              "      <th>1010</th>\n",
              "      <th>1011</th>\n",
              "      <th>1012</th>\n",
              "      <th>1013</th>\n",
              "      <th>1014</th>\n",
              "      <th>1015</th>\n",
              "      <th>1016</th>\n",
              "      <th>1017</th>\n",
              "      <th>1018</th>\n",
              "      <th>1019</th>\n",
              "      <th>1020</th>\n",
              "      <th>1021</th>\n",
              "      <th>1022</th>\n",
              "      <th>1023</th>\n",
              "      <th>label</th>\n",
              "    </tr>\n",
              "  </thead>\n",
              "  <tbody>\n",
              "    <tr>\n",
              "      <th>0</th>\n",
              "      <td>0</td>\n",
              "      <td>0</td>\n",
              "      <td>0</td>\n",
              "      <td>0</td>\n",
              "      <td>0</td>\n",
              "      <td>0</td>\n",
              "      <td>0</td>\n",
              "      <td>0</td>\n",
              "      <td>0</td>\n",
              "      <td>0</td>\n",
              "      <td>1</td>\n",
              "      <td>0</td>\n",
              "      <td>0</td>\n",
              "      <td>0</td>\n",
              "      <td>0</td>\n",
              "      <td>0</td>\n",
              "      <td>1</td>\n",
              "      <td>0</td>\n",
              "      <td>0</td>\n",
              "      <td>0</td>\n",
              "      <td>0</td>\n",
              "      <td>0</td>\n",
              "      <td>0</td>\n",
              "      <td>0</td>\n",
              "      <td>0</td>\n",
              "      <td>0</td>\n",
              "      <td>0</td>\n",
              "      <td>0</td>\n",
              "      <td>0</td>\n",
              "      <td>0</td>\n",
              "      <td>0</td>\n",
              "      <td>0</td>\n",
              "      <td>0</td>\n",
              "      <td>0</td>\n",
              "      <td>0</td>\n",
              "      <td>0</td>\n",
              "      <td>0</td>\n",
              "      <td>0</td>\n",
              "      <td>0</td>\n",
              "      <td>0</td>\n",
              "      <td>...</td>\n",
              "      <td>1</td>\n",
              "      <td>0</td>\n",
              "      <td>0</td>\n",
              "      <td>0</td>\n",
              "      <td>1</td>\n",
              "      <td>0</td>\n",
              "      <td>0</td>\n",
              "      <td>0</td>\n",
              "      <td>0</td>\n",
              "      <td>0</td>\n",
              "      <td>0</td>\n",
              "      <td>0</td>\n",
              "      <td>0</td>\n",
              "      <td>0</td>\n",
              "      <td>0</td>\n",
              "      <td>0</td>\n",
              "      <td>0</td>\n",
              "      <td>0</td>\n",
              "      <td>0</td>\n",
              "      <td>0</td>\n",
              "      <td>0</td>\n",
              "      <td>0</td>\n",
              "      <td>0</td>\n",
              "      <td>0</td>\n",
              "      <td>0</td>\n",
              "      <td>0</td>\n",
              "      <td>0</td>\n",
              "      <td>0</td>\n",
              "      <td>0</td>\n",
              "      <td>0</td>\n",
              "      <td>0</td>\n",
              "      <td>0</td>\n",
              "      <td>0</td>\n",
              "      <td>0</td>\n",
              "      <td>0</td>\n",
              "      <td>0</td>\n",
              "      <td>0</td>\n",
              "      <td>0</td>\n",
              "      <td>0</td>\n",
              "      <td>negative</td>\n",
              "    </tr>\n",
              "    <tr>\n",
              "      <th>1</th>\n",
              "      <td>0</td>\n",
              "      <td>0</td>\n",
              "      <td>1</td>\n",
              "      <td>0</td>\n",
              "      <td>0</td>\n",
              "      <td>0</td>\n",
              "      <td>0</td>\n",
              "      <td>0</td>\n",
              "      <td>0</td>\n",
              "      <td>0</td>\n",
              "      <td>1</td>\n",
              "      <td>0</td>\n",
              "      <td>0</td>\n",
              "      <td>0</td>\n",
              "      <td>0</td>\n",
              "      <td>0</td>\n",
              "      <td>1</td>\n",
              "      <td>0</td>\n",
              "      <td>0</td>\n",
              "      <td>0</td>\n",
              "      <td>0</td>\n",
              "      <td>0</td>\n",
              "      <td>0</td>\n",
              "      <td>0</td>\n",
              "      <td>0</td>\n",
              "      <td>0</td>\n",
              "      <td>0</td>\n",
              "      <td>0</td>\n",
              "      <td>0</td>\n",
              "      <td>0</td>\n",
              "      <td>0</td>\n",
              "      <td>0</td>\n",
              "      <td>0</td>\n",
              "      <td>0</td>\n",
              "      <td>0</td>\n",
              "      <td>0</td>\n",
              "      <td>0</td>\n",
              "      <td>0</td>\n",
              "      <td>0</td>\n",
              "      <td>0</td>\n",
              "      <td>...</td>\n",
              "      <td>1</td>\n",
              "      <td>0</td>\n",
              "      <td>0</td>\n",
              "      <td>0</td>\n",
              "      <td>0</td>\n",
              "      <td>0</td>\n",
              "      <td>0</td>\n",
              "      <td>0</td>\n",
              "      <td>0</td>\n",
              "      <td>0</td>\n",
              "      <td>1</td>\n",
              "      <td>0</td>\n",
              "      <td>0</td>\n",
              "      <td>0</td>\n",
              "      <td>0</td>\n",
              "      <td>0</td>\n",
              "      <td>0</td>\n",
              "      <td>0</td>\n",
              "      <td>0</td>\n",
              "      <td>0</td>\n",
              "      <td>0</td>\n",
              "      <td>0</td>\n",
              "      <td>1</td>\n",
              "      <td>0</td>\n",
              "      <td>0</td>\n",
              "      <td>0</td>\n",
              "      <td>0</td>\n",
              "      <td>0</td>\n",
              "      <td>0</td>\n",
              "      <td>0</td>\n",
              "      <td>0</td>\n",
              "      <td>0</td>\n",
              "      <td>0</td>\n",
              "      <td>0</td>\n",
              "      <td>0</td>\n",
              "      <td>0</td>\n",
              "      <td>0</td>\n",
              "      <td>0</td>\n",
              "      <td>0</td>\n",
              "      <td>negative</td>\n",
              "    </tr>\n",
              "    <tr>\n",
              "      <th>2</th>\n",
              "      <td>0</td>\n",
              "      <td>0</td>\n",
              "      <td>0</td>\n",
              "      <td>0</td>\n",
              "      <td>0</td>\n",
              "      <td>0</td>\n",
              "      <td>0</td>\n",
              "      <td>0</td>\n",
              "      <td>0</td>\n",
              "      <td>0</td>\n",
              "      <td>1</td>\n",
              "      <td>0</td>\n",
              "      <td>0</td>\n",
              "      <td>0</td>\n",
              "      <td>0</td>\n",
              "      <td>0</td>\n",
              "      <td>1</td>\n",
              "      <td>0</td>\n",
              "      <td>0</td>\n",
              "      <td>0</td>\n",
              "      <td>0</td>\n",
              "      <td>0</td>\n",
              "      <td>0</td>\n",
              "      <td>0</td>\n",
              "      <td>0</td>\n",
              "      <td>0</td>\n",
              "      <td>0</td>\n",
              "      <td>0</td>\n",
              "      <td>0</td>\n",
              "      <td>0</td>\n",
              "      <td>0</td>\n",
              "      <td>0</td>\n",
              "      <td>0</td>\n",
              "      <td>0</td>\n",
              "      <td>0</td>\n",
              "      <td>0</td>\n",
              "      <td>0</td>\n",
              "      <td>0</td>\n",
              "      <td>0</td>\n",
              "      <td>0</td>\n",
              "      <td>...</td>\n",
              "      <td>1</td>\n",
              "      <td>0</td>\n",
              "      <td>0</td>\n",
              "      <td>0</td>\n",
              "      <td>0</td>\n",
              "      <td>0</td>\n",
              "      <td>0</td>\n",
              "      <td>0</td>\n",
              "      <td>0</td>\n",
              "      <td>1</td>\n",
              "      <td>1</td>\n",
              "      <td>0</td>\n",
              "      <td>0</td>\n",
              "      <td>0</td>\n",
              "      <td>0</td>\n",
              "      <td>0</td>\n",
              "      <td>0</td>\n",
              "      <td>0</td>\n",
              "      <td>0</td>\n",
              "      <td>0</td>\n",
              "      <td>0</td>\n",
              "      <td>0</td>\n",
              "      <td>0</td>\n",
              "      <td>0</td>\n",
              "      <td>0</td>\n",
              "      <td>0</td>\n",
              "      <td>0</td>\n",
              "      <td>0</td>\n",
              "      <td>0</td>\n",
              "      <td>0</td>\n",
              "      <td>0</td>\n",
              "      <td>0</td>\n",
              "      <td>1</td>\n",
              "      <td>0</td>\n",
              "      <td>0</td>\n",
              "      <td>0</td>\n",
              "      <td>0</td>\n",
              "      <td>0</td>\n",
              "      <td>0</td>\n",
              "      <td>negative</td>\n",
              "    </tr>\n",
              "    <tr>\n",
              "      <th>3</th>\n",
              "      <td>0</td>\n",
              "      <td>0</td>\n",
              "      <td>0</td>\n",
              "      <td>0</td>\n",
              "      <td>0</td>\n",
              "      <td>0</td>\n",
              "      <td>0</td>\n",
              "      <td>1</td>\n",
              "      <td>0</td>\n",
              "      <td>0</td>\n",
              "      <td>1</td>\n",
              "      <td>0</td>\n",
              "      <td>0</td>\n",
              "      <td>0</td>\n",
              "      <td>0</td>\n",
              "      <td>0</td>\n",
              "      <td>1</td>\n",
              "      <td>0</td>\n",
              "      <td>0</td>\n",
              "      <td>0</td>\n",
              "      <td>0</td>\n",
              "      <td>0</td>\n",
              "      <td>0</td>\n",
              "      <td>0</td>\n",
              "      <td>0</td>\n",
              "      <td>0</td>\n",
              "      <td>0</td>\n",
              "      <td>0</td>\n",
              "      <td>0</td>\n",
              "      <td>0</td>\n",
              "      <td>0</td>\n",
              "      <td>0</td>\n",
              "      <td>0</td>\n",
              "      <td>0</td>\n",
              "      <td>0</td>\n",
              "      <td>0</td>\n",
              "      <td>0</td>\n",
              "      <td>0</td>\n",
              "      <td>0</td>\n",
              "      <td>0</td>\n",
              "      <td>...</td>\n",
              "      <td>1</td>\n",
              "      <td>0</td>\n",
              "      <td>0</td>\n",
              "      <td>0</td>\n",
              "      <td>0</td>\n",
              "      <td>0</td>\n",
              "      <td>0</td>\n",
              "      <td>0</td>\n",
              "      <td>0</td>\n",
              "      <td>0</td>\n",
              "      <td>1</td>\n",
              "      <td>0</td>\n",
              "      <td>0</td>\n",
              "      <td>0</td>\n",
              "      <td>0</td>\n",
              "      <td>0</td>\n",
              "      <td>0</td>\n",
              "      <td>0</td>\n",
              "      <td>0</td>\n",
              "      <td>0</td>\n",
              "      <td>0</td>\n",
              "      <td>0</td>\n",
              "      <td>0</td>\n",
              "      <td>1</td>\n",
              "      <td>0</td>\n",
              "      <td>0</td>\n",
              "      <td>0</td>\n",
              "      <td>0</td>\n",
              "      <td>0</td>\n",
              "      <td>0</td>\n",
              "      <td>0</td>\n",
              "      <td>0</td>\n",
              "      <td>0</td>\n",
              "      <td>0</td>\n",
              "      <td>0</td>\n",
              "      <td>0</td>\n",
              "      <td>0</td>\n",
              "      <td>0</td>\n",
              "      <td>0</td>\n",
              "      <td>negative</td>\n",
              "    </tr>\n",
              "    <tr>\n",
              "      <th>4</th>\n",
              "      <td>0</td>\n",
              "      <td>0</td>\n",
              "      <td>0</td>\n",
              "      <td>0</td>\n",
              "      <td>0</td>\n",
              "      <td>0</td>\n",
              "      <td>0</td>\n",
              "      <td>0</td>\n",
              "      <td>0</td>\n",
              "      <td>0</td>\n",
              "      <td>0</td>\n",
              "      <td>0</td>\n",
              "      <td>0</td>\n",
              "      <td>1</td>\n",
              "      <td>0</td>\n",
              "      <td>0</td>\n",
              "      <td>1</td>\n",
              "      <td>0</td>\n",
              "      <td>0</td>\n",
              "      <td>0</td>\n",
              "      <td>0</td>\n",
              "      <td>0</td>\n",
              "      <td>0</td>\n",
              "      <td>0</td>\n",
              "      <td>0</td>\n",
              "      <td>0</td>\n",
              "      <td>0</td>\n",
              "      <td>0</td>\n",
              "      <td>0</td>\n",
              "      <td>0</td>\n",
              "      <td>0</td>\n",
              "      <td>0</td>\n",
              "      <td>0</td>\n",
              "      <td>0</td>\n",
              "      <td>0</td>\n",
              "      <td>0</td>\n",
              "      <td>0</td>\n",
              "      <td>0</td>\n",
              "      <td>0</td>\n",
              "      <td>0</td>\n",
              "      <td>...</td>\n",
              "      <td>1</td>\n",
              "      <td>0</td>\n",
              "      <td>0</td>\n",
              "      <td>0</td>\n",
              "      <td>0</td>\n",
              "      <td>0</td>\n",
              "      <td>0</td>\n",
              "      <td>0</td>\n",
              "      <td>0</td>\n",
              "      <td>0</td>\n",
              "      <td>1</td>\n",
              "      <td>0</td>\n",
              "      <td>1</td>\n",
              "      <td>0</td>\n",
              "      <td>0</td>\n",
              "      <td>0</td>\n",
              "      <td>0</td>\n",
              "      <td>0</td>\n",
              "      <td>0</td>\n",
              "      <td>0</td>\n",
              "      <td>0</td>\n",
              "      <td>0</td>\n",
              "      <td>1</td>\n",
              "      <td>0</td>\n",
              "      <td>0</td>\n",
              "      <td>0</td>\n",
              "      <td>0</td>\n",
              "      <td>0</td>\n",
              "      <td>0</td>\n",
              "      <td>0</td>\n",
              "      <td>0</td>\n",
              "      <td>0</td>\n",
              "      <td>0</td>\n",
              "      <td>0</td>\n",
              "      <td>0</td>\n",
              "      <td>0</td>\n",
              "      <td>0</td>\n",
              "      <td>0</td>\n",
              "      <td>0</td>\n",
              "      <td>negative</td>\n",
              "    </tr>\n",
              "    <tr>\n",
              "      <th>...</th>\n",
              "      <td>...</td>\n",
              "      <td>...</td>\n",
              "      <td>...</td>\n",
              "      <td>...</td>\n",
              "      <td>...</td>\n",
              "      <td>...</td>\n",
              "      <td>...</td>\n",
              "      <td>...</td>\n",
              "      <td>...</td>\n",
              "      <td>...</td>\n",
              "      <td>...</td>\n",
              "      <td>...</td>\n",
              "      <td>...</td>\n",
              "      <td>...</td>\n",
              "      <td>...</td>\n",
              "      <td>...</td>\n",
              "      <td>...</td>\n",
              "      <td>...</td>\n",
              "      <td>...</td>\n",
              "      <td>...</td>\n",
              "      <td>...</td>\n",
              "      <td>...</td>\n",
              "      <td>...</td>\n",
              "      <td>...</td>\n",
              "      <td>...</td>\n",
              "      <td>...</td>\n",
              "      <td>...</td>\n",
              "      <td>...</td>\n",
              "      <td>...</td>\n",
              "      <td>...</td>\n",
              "      <td>...</td>\n",
              "      <td>...</td>\n",
              "      <td>...</td>\n",
              "      <td>...</td>\n",
              "      <td>...</td>\n",
              "      <td>...</td>\n",
              "      <td>...</td>\n",
              "      <td>...</td>\n",
              "      <td>...</td>\n",
              "      <td>...</td>\n",
              "      <td>...</td>\n",
              "      <td>...</td>\n",
              "      <td>...</td>\n",
              "      <td>...</td>\n",
              "      <td>...</td>\n",
              "      <td>...</td>\n",
              "      <td>...</td>\n",
              "      <td>...</td>\n",
              "      <td>...</td>\n",
              "      <td>...</td>\n",
              "      <td>...</td>\n",
              "      <td>...</td>\n",
              "      <td>...</td>\n",
              "      <td>...</td>\n",
              "      <td>...</td>\n",
              "      <td>...</td>\n",
              "      <td>...</td>\n",
              "      <td>...</td>\n",
              "      <td>...</td>\n",
              "      <td>...</td>\n",
              "      <td>...</td>\n",
              "      <td>...</td>\n",
              "      <td>...</td>\n",
              "      <td>...</td>\n",
              "      <td>...</td>\n",
              "      <td>...</td>\n",
              "      <td>...</td>\n",
              "      <td>...</td>\n",
              "      <td>...</td>\n",
              "      <td>...</td>\n",
              "      <td>...</td>\n",
              "      <td>...</td>\n",
              "      <td>...</td>\n",
              "      <td>...</td>\n",
              "      <td>...</td>\n",
              "      <td>...</td>\n",
              "      <td>...</td>\n",
              "      <td>...</td>\n",
              "      <td>...</td>\n",
              "      <td>...</td>\n",
              "      <td>...</td>\n",
              "    </tr>\n",
              "    <tr>\n",
              "      <th>8987</th>\n",
              "      <td>0</td>\n",
              "      <td>0</td>\n",
              "      <td>0</td>\n",
              "      <td>0</td>\n",
              "      <td>0</td>\n",
              "      <td>0</td>\n",
              "      <td>0</td>\n",
              "      <td>1</td>\n",
              "      <td>0</td>\n",
              "      <td>0</td>\n",
              "      <td>1</td>\n",
              "      <td>0</td>\n",
              "      <td>0</td>\n",
              "      <td>1</td>\n",
              "      <td>0</td>\n",
              "      <td>0</td>\n",
              "      <td>1</td>\n",
              "      <td>0</td>\n",
              "      <td>0</td>\n",
              "      <td>0</td>\n",
              "      <td>0</td>\n",
              "      <td>0</td>\n",
              "      <td>0</td>\n",
              "      <td>0</td>\n",
              "      <td>0</td>\n",
              "      <td>0</td>\n",
              "      <td>0</td>\n",
              "      <td>0</td>\n",
              "      <td>0</td>\n",
              "      <td>0</td>\n",
              "      <td>0</td>\n",
              "      <td>0</td>\n",
              "      <td>0</td>\n",
              "      <td>0</td>\n",
              "      <td>0</td>\n",
              "      <td>0</td>\n",
              "      <td>0</td>\n",
              "      <td>0</td>\n",
              "      <td>0</td>\n",
              "      <td>0</td>\n",
              "      <td>...</td>\n",
              "      <td>1</td>\n",
              "      <td>0</td>\n",
              "      <td>0</td>\n",
              "      <td>0</td>\n",
              "      <td>0</td>\n",
              "      <td>1</td>\n",
              "      <td>0</td>\n",
              "      <td>0</td>\n",
              "      <td>0</td>\n",
              "      <td>0</td>\n",
              "      <td>1</td>\n",
              "      <td>0</td>\n",
              "      <td>0</td>\n",
              "      <td>1</td>\n",
              "      <td>0</td>\n",
              "      <td>0</td>\n",
              "      <td>0</td>\n",
              "      <td>0</td>\n",
              "      <td>0</td>\n",
              "      <td>0</td>\n",
              "      <td>0</td>\n",
              "      <td>0</td>\n",
              "      <td>0</td>\n",
              "      <td>0</td>\n",
              "      <td>0</td>\n",
              "      <td>0</td>\n",
              "      <td>0</td>\n",
              "      <td>0</td>\n",
              "      <td>0</td>\n",
              "      <td>0</td>\n",
              "      <td>0</td>\n",
              "      <td>0</td>\n",
              "      <td>0</td>\n",
              "      <td>1</td>\n",
              "      <td>0</td>\n",
              "      <td>0</td>\n",
              "      <td>0</td>\n",
              "      <td>0</td>\n",
              "      <td>0</td>\n",
              "      <td>negative</td>\n",
              "    </tr>\n",
              "    <tr>\n",
              "      <th>8988</th>\n",
              "      <td>0</td>\n",
              "      <td>1</td>\n",
              "      <td>0</td>\n",
              "      <td>0</td>\n",
              "      <td>0</td>\n",
              "      <td>1</td>\n",
              "      <td>0</td>\n",
              "      <td>1</td>\n",
              "      <td>0</td>\n",
              "      <td>0</td>\n",
              "      <td>1</td>\n",
              "      <td>0</td>\n",
              "      <td>0</td>\n",
              "      <td>1</td>\n",
              "      <td>0</td>\n",
              "      <td>0</td>\n",
              "      <td>1</td>\n",
              "      <td>0</td>\n",
              "      <td>0</td>\n",
              "      <td>0</td>\n",
              "      <td>0</td>\n",
              "      <td>1</td>\n",
              "      <td>0</td>\n",
              "      <td>0</td>\n",
              "      <td>0</td>\n",
              "      <td>0</td>\n",
              "      <td>0</td>\n",
              "      <td>0</td>\n",
              "      <td>0</td>\n",
              "      <td>0</td>\n",
              "      <td>0</td>\n",
              "      <td>0</td>\n",
              "      <td>0</td>\n",
              "      <td>0</td>\n",
              "      <td>0</td>\n",
              "      <td>0</td>\n",
              "      <td>0</td>\n",
              "      <td>0</td>\n",
              "      <td>0</td>\n",
              "      <td>0</td>\n",
              "      <td>...</td>\n",
              "      <td>1</td>\n",
              "      <td>0</td>\n",
              "      <td>0</td>\n",
              "      <td>0</td>\n",
              "      <td>0</td>\n",
              "      <td>1</td>\n",
              "      <td>0</td>\n",
              "      <td>0</td>\n",
              "      <td>0</td>\n",
              "      <td>0</td>\n",
              "      <td>1</td>\n",
              "      <td>0</td>\n",
              "      <td>0</td>\n",
              "      <td>0</td>\n",
              "      <td>0</td>\n",
              "      <td>0</td>\n",
              "      <td>0</td>\n",
              "      <td>0</td>\n",
              "      <td>0</td>\n",
              "      <td>0</td>\n",
              "      <td>0</td>\n",
              "      <td>1</td>\n",
              "      <td>0</td>\n",
              "      <td>0</td>\n",
              "      <td>0</td>\n",
              "      <td>1</td>\n",
              "      <td>0</td>\n",
              "      <td>0</td>\n",
              "      <td>0</td>\n",
              "      <td>0</td>\n",
              "      <td>0</td>\n",
              "      <td>0</td>\n",
              "      <td>0</td>\n",
              "      <td>1</td>\n",
              "      <td>0</td>\n",
              "      <td>0</td>\n",
              "      <td>0</td>\n",
              "      <td>0</td>\n",
              "      <td>0</td>\n",
              "      <td>negative</td>\n",
              "    </tr>\n",
              "    <tr>\n",
              "      <th>8989</th>\n",
              "      <td>0</td>\n",
              "      <td>0</td>\n",
              "      <td>0</td>\n",
              "      <td>0</td>\n",
              "      <td>0</td>\n",
              "      <td>0</td>\n",
              "      <td>0</td>\n",
              "      <td>1</td>\n",
              "      <td>0</td>\n",
              "      <td>0</td>\n",
              "      <td>1</td>\n",
              "      <td>0</td>\n",
              "      <td>0</td>\n",
              "      <td>0</td>\n",
              "      <td>0</td>\n",
              "      <td>0</td>\n",
              "      <td>1</td>\n",
              "      <td>0</td>\n",
              "      <td>0</td>\n",
              "      <td>0</td>\n",
              "      <td>0</td>\n",
              "      <td>0</td>\n",
              "      <td>0</td>\n",
              "      <td>0</td>\n",
              "      <td>0</td>\n",
              "      <td>0</td>\n",
              "      <td>0</td>\n",
              "      <td>0</td>\n",
              "      <td>0</td>\n",
              "      <td>0</td>\n",
              "      <td>0</td>\n",
              "      <td>0</td>\n",
              "      <td>0</td>\n",
              "      <td>0</td>\n",
              "      <td>0</td>\n",
              "      <td>0</td>\n",
              "      <td>0</td>\n",
              "      <td>0</td>\n",
              "      <td>0</td>\n",
              "      <td>0</td>\n",
              "      <td>...</td>\n",
              "      <td>1</td>\n",
              "      <td>0</td>\n",
              "      <td>0</td>\n",
              "      <td>0</td>\n",
              "      <td>0</td>\n",
              "      <td>1</td>\n",
              "      <td>0</td>\n",
              "      <td>0</td>\n",
              "      <td>0</td>\n",
              "      <td>0</td>\n",
              "      <td>1</td>\n",
              "      <td>0</td>\n",
              "      <td>0</td>\n",
              "      <td>0</td>\n",
              "      <td>0</td>\n",
              "      <td>0</td>\n",
              "      <td>0</td>\n",
              "      <td>0</td>\n",
              "      <td>0</td>\n",
              "      <td>0</td>\n",
              "      <td>0</td>\n",
              "      <td>0</td>\n",
              "      <td>0</td>\n",
              "      <td>0</td>\n",
              "      <td>0</td>\n",
              "      <td>0</td>\n",
              "      <td>0</td>\n",
              "      <td>0</td>\n",
              "      <td>0</td>\n",
              "      <td>0</td>\n",
              "      <td>0</td>\n",
              "      <td>0</td>\n",
              "      <td>0</td>\n",
              "      <td>0</td>\n",
              "      <td>0</td>\n",
              "      <td>0</td>\n",
              "      <td>0</td>\n",
              "      <td>1</td>\n",
              "      <td>0</td>\n",
              "      <td>negative</td>\n",
              "    </tr>\n",
              "    <tr>\n",
              "      <th>8990</th>\n",
              "      <td>0</td>\n",
              "      <td>0</td>\n",
              "      <td>0</td>\n",
              "      <td>0</td>\n",
              "      <td>0</td>\n",
              "      <td>0</td>\n",
              "      <td>0</td>\n",
              "      <td>0</td>\n",
              "      <td>0</td>\n",
              "      <td>0</td>\n",
              "      <td>0</td>\n",
              "      <td>0</td>\n",
              "      <td>0</td>\n",
              "      <td>0</td>\n",
              "      <td>0</td>\n",
              "      <td>1</td>\n",
              "      <td>1</td>\n",
              "      <td>0</td>\n",
              "      <td>0</td>\n",
              "      <td>0</td>\n",
              "      <td>0</td>\n",
              "      <td>0</td>\n",
              "      <td>0</td>\n",
              "      <td>0</td>\n",
              "      <td>0</td>\n",
              "      <td>0</td>\n",
              "      <td>0</td>\n",
              "      <td>0</td>\n",
              "      <td>0</td>\n",
              "      <td>0</td>\n",
              "      <td>0</td>\n",
              "      <td>0</td>\n",
              "      <td>0</td>\n",
              "      <td>0</td>\n",
              "      <td>0</td>\n",
              "      <td>0</td>\n",
              "      <td>0</td>\n",
              "      <td>0</td>\n",
              "      <td>0</td>\n",
              "      <td>0</td>\n",
              "      <td>...</td>\n",
              "      <td>0</td>\n",
              "      <td>0</td>\n",
              "      <td>0</td>\n",
              "      <td>0</td>\n",
              "      <td>0</td>\n",
              "      <td>0</td>\n",
              "      <td>0</td>\n",
              "      <td>0</td>\n",
              "      <td>0</td>\n",
              "      <td>0</td>\n",
              "      <td>1</td>\n",
              "      <td>0</td>\n",
              "      <td>0</td>\n",
              "      <td>0</td>\n",
              "      <td>0</td>\n",
              "      <td>1</td>\n",
              "      <td>0</td>\n",
              "      <td>0</td>\n",
              "      <td>0</td>\n",
              "      <td>0</td>\n",
              "      <td>0</td>\n",
              "      <td>0</td>\n",
              "      <td>0</td>\n",
              "      <td>1</td>\n",
              "      <td>0</td>\n",
              "      <td>0</td>\n",
              "      <td>0</td>\n",
              "      <td>0</td>\n",
              "      <td>0</td>\n",
              "      <td>0</td>\n",
              "      <td>0</td>\n",
              "      <td>0</td>\n",
              "      <td>0</td>\n",
              "      <td>0</td>\n",
              "      <td>0</td>\n",
              "      <td>0</td>\n",
              "      <td>0</td>\n",
              "      <td>0</td>\n",
              "      <td>0</td>\n",
              "      <td>negative</td>\n",
              "    </tr>\n",
              "    <tr>\n",
              "      <th>8991</th>\n",
              "      <td>0</td>\n",
              "      <td>0</td>\n",
              "      <td>1</td>\n",
              "      <td>0</td>\n",
              "      <td>0</td>\n",
              "      <td>0</td>\n",
              "      <td>0</td>\n",
              "      <td>0</td>\n",
              "      <td>0</td>\n",
              "      <td>0</td>\n",
              "      <td>0</td>\n",
              "      <td>0</td>\n",
              "      <td>0</td>\n",
              "      <td>0</td>\n",
              "      <td>0</td>\n",
              "      <td>0</td>\n",
              "      <td>0</td>\n",
              "      <td>0</td>\n",
              "      <td>0</td>\n",
              "      <td>0</td>\n",
              "      <td>0</td>\n",
              "      <td>0</td>\n",
              "      <td>0</td>\n",
              "      <td>0</td>\n",
              "      <td>0</td>\n",
              "      <td>0</td>\n",
              "      <td>0</td>\n",
              "      <td>0</td>\n",
              "      <td>0</td>\n",
              "      <td>0</td>\n",
              "      <td>0</td>\n",
              "      <td>0</td>\n",
              "      <td>0</td>\n",
              "      <td>0</td>\n",
              "      <td>0</td>\n",
              "      <td>0</td>\n",
              "      <td>0</td>\n",
              "      <td>0</td>\n",
              "      <td>0</td>\n",
              "      <td>0</td>\n",
              "      <td>...</td>\n",
              "      <td>0</td>\n",
              "      <td>0</td>\n",
              "      <td>0</td>\n",
              "      <td>0</td>\n",
              "      <td>0</td>\n",
              "      <td>0</td>\n",
              "      <td>0</td>\n",
              "      <td>0</td>\n",
              "      <td>0</td>\n",
              "      <td>0</td>\n",
              "      <td>1</td>\n",
              "      <td>0</td>\n",
              "      <td>0</td>\n",
              "      <td>0</td>\n",
              "      <td>0</td>\n",
              "      <td>0</td>\n",
              "      <td>0</td>\n",
              "      <td>0</td>\n",
              "      <td>0</td>\n",
              "      <td>0</td>\n",
              "      <td>0</td>\n",
              "      <td>0</td>\n",
              "      <td>0</td>\n",
              "      <td>0</td>\n",
              "      <td>0</td>\n",
              "      <td>0</td>\n",
              "      <td>1</td>\n",
              "      <td>0</td>\n",
              "      <td>0</td>\n",
              "      <td>0</td>\n",
              "      <td>1</td>\n",
              "      <td>0</td>\n",
              "      <td>0</td>\n",
              "      <td>0</td>\n",
              "      <td>0</td>\n",
              "      <td>0</td>\n",
              "      <td>0</td>\n",
              "      <td>0</td>\n",
              "      <td>0</td>\n",
              "      <td>negative</td>\n",
              "    </tr>\n",
              "  </tbody>\n",
              "</table>\n",
              "<p>8992 rows × 1025 columns</p>\n",
              "</div>"
            ],
            "text/plain": [
              "      0  1  2  3  4  5  6  ...  1018  1019  1020  1021  1022  1023     label\n",
              "0     0  0  0  0  0  0  0  ...     0     0     0     0     0     0  negative\n",
              "1     0  0  1  0  0  0  0  ...     0     0     0     0     0     0  negative\n",
              "2     0  0  0  0  0  0  0  ...     0     0     0     0     0     0  negative\n",
              "3     0  0  0  0  0  0  0  ...     0     0     0     0     0     0  negative\n",
              "4     0  0  0  0  0  0  0  ...     0     0     0     0     0     0  negative\n",
              "...  .. .. .. .. .. .. ..  ...   ...   ...   ...   ...   ...   ...       ...\n",
              "8987  0  0  0  0  0  0  0  ...     1     0     0     0     0     0  negative\n",
              "8988  0  1  0  0  0  1  0  ...     1     0     0     0     0     0  negative\n",
              "8989  0  0  0  0  0  0  0  ...     0     0     0     0     1     0  negative\n",
              "8990  0  0  0  0  0  0  0  ...     0     0     0     0     0     0  negative\n",
              "8991  0  0  1  0  0  0  0  ...     0     0     0     0     0     0  negative\n",
              "\n",
              "[8992 rows x 1025 columns]"
            ]
          },
          "metadata": {
            "tags": []
          },
          "execution_count": 23
        }
      ]
    },
    {
      "cell_type": "code",
      "metadata": {
        "id": "nf6hfrIPEQMP"
      },
      "source": [
        "#label 1 is positive; otherwise negative\n",
        "df = pd.get_dummies(df)\n",
        "df.drop(\"label_negative\",1,inplace=True)\n",
        "df = df.rename({\"label_positive\":\"label\"},axis=1)"
      ],
      "execution_count": 24,
      "outputs": []
    },
    {
      "cell_type": "code",
      "metadata": {
        "id": "4MdoisJtEQMP",
        "outputId": "c86ec2b2-e11b-42aa-809f-f2e02206c7e6",
        "colab": {
          "base_uri": "https://localhost:8080/"
        }
      },
      "source": [
        "df[df[\"label\"]==1].shape\n",
        "#according to paper's table, this means we have VT data, with ECFP_1024_02 or ECFP_1024_02R"
      ],
      "execution_count": 25,
      "outputs": [
        {
          "output_type": "execute_result",
          "data": {
            "text/plain": [
              "(741, 1025)"
            ]
          },
          "metadata": {
            "tags": []
          },
          "execution_count": 25
        }
      ]
    },
    {
      "cell_type": "code",
      "metadata": {
        "id": "DB8jWFZvEQMQ",
        "outputId": "f2d74e80-6a51-4242-f577-26c9860efadb",
        "colab": {
          "base_uri": "https://localhost:8080/"
        }
      },
      "source": [
        "df.info()"
      ],
      "execution_count": 26,
      "outputs": [
        {
          "output_type": "stream",
          "text": [
            "<class 'pandas.core.frame.DataFrame'>\n",
            "RangeIndex: 8992 entries, 0 to 8991\n",
            "Columns: 1025 entries, 0 to label\n",
            "dtypes: int64(1024), uint8(1)\n",
            "memory usage: 70.3 MB\n"
          ],
          "name": "stdout"
        }
      ]
    },
    {
      "cell_type": "code",
      "metadata": {
        "id": "3okuksFeEQMS",
        "outputId": "c3f27f93-4537-49c0-c6cc-74b422afb443",
        "colab": {
          "base_uri": "https://localhost:8080/"
        }
      },
      "source": [
        "df[\"label\"].value_counts()"
      ],
      "execution_count": 27,
      "outputs": [
        {
          "output_type": "execute_result",
          "data": {
            "text/plain": [
              "0    8251\n",
              "1     741\n",
              "Name: label, dtype: int64"
            ]
          },
          "metadata": {
            "tags": []
          },
          "execution_count": 27
        }
      ]
    },
    {
      "cell_type": "code",
      "metadata": {
        "id": "Gm6FmoWvEQMT"
      },
      "source": [
        "#train, test split\n",
        "train, test=train_test_split(df, test_size=0.3, random_state=1)\n",
        "train.reset_index(drop=True, inplace=True)"
      ],
      "execution_count": 28,
      "outputs": []
    },
    {
      "cell_type": "code",
      "metadata": {
        "id": "bxNAiFQAEQMT"
      },
      "source": [
        "#######<--"
      ],
      "execution_count": 29,
      "outputs": []
    },
    {
      "cell_type": "code",
      "metadata": {
        "id": "d3rrsEfWEQMU"
      },
      "source": [
        "#######-->"
      ],
      "execution_count": 30,
      "outputs": []
    },
    {
      "cell_type": "code",
      "metadata": {
        "id": "Dwvcask2EQMV",
        "outputId": "45511a43-ca65-49a8-96a8-608a33dec6d8",
        "colab": {
          "base_uri": "https://localhost:8080/"
        }
      },
      "source": [
        "train[\"label\"].value_counts()"
      ],
      "execution_count": 31,
      "outputs": [
        {
          "output_type": "execute_result",
          "data": {
            "text/plain": [
              "0    5765\n",
              "1     529\n",
              "Name: label, dtype: int64"
            ]
          },
          "metadata": {
            "tags": []
          },
          "execution_count": 31
        }
      ]
    },
    {
      "cell_type": "code",
      "metadata": {
        "id": "1hUYvClHEQMW"
      },
      "source": [
        "#!pip install imblearn"
      ],
      "execution_count": 32,
      "outputs": []
    },
    {
      "cell_type": "code",
      "metadata": {
        "id": "a32SUi4TEQMW"
      },
      "source": [
        "###<--"
      ],
      "execution_count": 33,
      "outputs": []
    },
    {
      "cell_type": "code",
      "metadata": {
        "id": "S1eIvYFHEQMW"
      },
      "source": [
        "#upsampling: https://www.kaggle.com/rafjaa/resampling-strategies-for-imbalanced-datasets#t10\n",
        "#from imblearn.over_sampling import SMOTE\n",
        "\n",
        "#smote = SMOTE(random_state=12, sampling_strategy=1)#'minority')\n",
        "#X_train, y_train = smote.fit_resample(train.drop([\"label\"],1), train[\"label\"])\n",
        "\n",
        "#plot_2d_space(X_train, y_train, 'SMOTE over-sampling')\n",
        "#X_test=test.drop([\"label\"],1)\n",
        "#y_test=test[\"label\"]"
      ],
      "execution_count": 34,
      "outputs": []
    },
    {
      "cell_type": "code",
      "metadata": {
        "id": "XS-wQfL8EQMX"
      },
      "source": [
        "###-->"
      ],
      "execution_count": 35,
      "outputs": []
    },
    {
      "cell_type": "code",
      "metadata": {
        "id": "Qmd8vX7BEQMX"
      },
      "source": [
        "#y_train.value_counts()"
      ],
      "execution_count": 36,
      "outputs": []
    },
    {
      "cell_type": "code",
      "metadata": {
        "id": "tkN5Wtz7EQMY"
      },
      "source": [
        "#y_train[y_train==0].shape"
      ],
      "execution_count": 37,
      "outputs": []
    },
    {
      "cell_type": "code",
      "metadata": {
        "id": "JLKyn6aQEQMY"
      },
      "source": [
        "X_train=train.drop([\"label\"],1)\n",
        "y_train=train[\"label\"]"
      ],
      "execution_count": 38,
      "outputs": []
    },
    {
      "cell_type": "markdown",
      "metadata": {
        "id": "9Hg-Y-KgEQMe"
      },
      "source": [
        "# Optimizing"
      ]
    },
    {
      "cell_type": "code",
      "metadata": {
        "id": "PxAqIKJGEQMf"
      },
      "source": [
        "#https://stackoverflow.com/questions/58815016/cross-validating-with-imblearn-pipeline-and-gridsearchcv\n",
        "\n",
        "from imblearn.pipeline import Pipeline\n",
        "from imblearn.over_sampling import SMOTE\n",
        "from sklearn.model_selection import RandomizedSearchCV\n",
        "\n",
        "def imb_pipeline(clf, X, y, params):\n",
        "\n",
        "    model = Pipeline([\n",
        "        ('classification', clf)\n",
        "    ])\n",
        "    #optimizing bal_accuracy instead of accuracy score bc we didnt upsampled and have a imbalanced training set; can check that accuracy score later, make suree it is low\n",
        "    score={'BALANCED_ACCURACY':'balanced_accuracy', 'RECALL':'recall', 'F1':'f1'}\n",
        "\n",
        "    gcv = RandomizedSearchCV(estimator=model, param_distributions=params, cv=5, scoring=score, n_jobs=12, refit='BALANCED_ACCURACY')\n",
        "    gcv.fit(X, y)\n",
        "\n",
        "    return gcv\n",
        "\n",
        "def print_scores(grid_result):\n",
        "    print(\"Best ACCURACY: %f using %s\" % (grid_result.best_score_, grid_result.best_params_))\n",
        "    means = grid_result.cv_results_['mean_test_BALANCED_ACCURACY']\n",
        "    stds = grid_result.cv_results_['std_test_BALANCED_ACCURACY']\n",
        "    means2 = grid_result.cv_results_['mean_test_RECALL']\n",
        "    stds2 = grid_result.cv_results_['std_test_RECALL']\n",
        "    means3 = grid_result.cv_results_['mean_test_F1']\n",
        "    stds3 = grid_result.cv_results_['std_test_F1']\n",
        "    params = grid_result.cv_results_['params']\n",
        "    print(\"BALANCED_ACCURACY, RECALL, F1 with PARAMS\")\n",
        "    for mean, std, mean2, std2, mean3, std3, param in zip(means, stds, means2, stds2, means3, stds3, params):\n",
        "        print(\"%f (%f), %f (%f), %f (%f) with: %r\" % (mean, std, mean2, std2, mean3, std3, param))"
      ],
      "execution_count": 39,
      "outputs": []
    },
    {
      "cell_type": "code",
      "metadata": {
        "id": "iJPU_IWgEQMf",
        "outputId": "8c687077-87a2-4314-ca3d-66142997c0ea",
        "colab": {
          "base_uri": "https://localhost:8080/"
        }
      },
      "source": [
        "from scipy.stats import loguniform\n",
        "\n",
        "classifiers = LogisticRegression(C=1.0, penalty='l2',\n",
        "                     random_state=None, tol=0.0001, verbose=0,\n",
        "                     warm_start=False)\n",
        "\n",
        "#see solver in https://scikit-learn.org/stable/modules/generated/sklearn.linear_model.LogisticRegression.html\n",
        "params = [{'classification__penalty':['elasticnet'],\n",
        "          'classification__solver':['saga'],\n",
        "          'classification__C': loguniform(1e-5, 100)},\n",
        "          {'classification__penalty':['none','l2'],\n",
        "          'classification__solver':['newton-cg', 'lbfgs', 'sag','saga'],\n",
        "          'classification__C': loguniform(1e-5, 100)},\n",
        "          {'classification__penalty':['l1'],\n",
        "          'classification__solver':('liblinear','saga'),\n",
        "          'classification__C': loguniform(1e-5, 100)}\n",
        "         ]\n",
        "\n",
        "        \n",
        "    \n",
        "#for param, classifier in zip(params, classifiers):\n",
        "grid_result = imb_pipeline(classifiers, X_train, y_train, params) \n",
        "\n",
        "#print\n",
        "print_scores(grid_result)"
      ],
      "execution_count": 40,
      "outputs": [
        {
          "output_type": "stream",
          "text": [
            "Best ACCURACY: 0.711567 using {'classification__C': 6.67912745803965, 'classification__penalty': 'l2', 'classification__solver': 'lbfgs'}\n",
            "BALANCED_ACCURACY, RECALL, F1 with PARAMS\n",
            "0.711567 (0.027586), 0.466846 (0.055584), 0.479554 (0.041892) with: {'classification__C': 6.67912745803965, 'classification__penalty': 'l2', 'classification__solver': 'lbfgs'}\n",
            "nan (nan), nan (nan), nan (nan) with: {'classification__C': 0.00044815002061388763, 'classification__penalty': 'elasticnet', 'classification__solver': 'saga'}\n",
            "nan (nan), nan (nan), nan (nan) with: {'classification__C': 0.6565560393907693, 'classification__penalty': 'elasticnet', 'classification__solver': 'saga'}\n",
            "0.711083 (0.018369), 0.483917 (0.038631), 0.448422 (0.025037) with: {'classification__C': 0.07014423578143242, 'classification__penalty': 'none', 'classification__solver': 'lbfgs'}\n",
            "nan (nan), nan (nan), nan (nan) with: {'classification__C': 29.755767441386233, 'classification__penalty': 'elasticnet', 'classification__solver': 'saga'}\n",
            "nan (nan), nan (nan), nan (nan) with: {'classification__C': 2.0955800681048978e-05, 'classification__penalty': 'elasticnet', 'classification__solver': 'saga'}\n",
            "0.703600 (0.019802), 0.480054 (0.043432), 0.421703 (0.024268) with: {'classification__C': 0.20869994140748066, 'classification__penalty': 'none', 'classification__solver': 'newton-cg'}\n",
            "0.593689 (0.016218), 0.194663 (0.032223), 0.304646 (0.043684) with: {'classification__C': 0.0976738574098324, 'classification__penalty': 'l1', 'classification__solver': 'saga'}\n",
            "0.649675 (0.009342), 0.313747 (0.021110), 0.426433 (0.017346) with: {'classification__C': 0.42772846381660845, 'classification__penalty': 'l1', 'classification__solver': 'saga'}\n",
            "nan (nan), nan (nan), nan (nan) with: {'classification__C': 0.2399578065656625, 'classification__penalty': 'elasticnet', 'classification__solver': 'saga'}\n"
          ],
          "name": "stdout"
        },
        {
          "output_type": "stream",
          "text": [
            "/usr/local/lib/python3.7/dist-packages/sklearn/linear_model/_logistic.py:940: ConvergenceWarning: lbfgs failed to converge (status=1):\n",
            "STOP: TOTAL NO. of ITERATIONS REACHED LIMIT.\n",
            "\n",
            "Increase the number of iterations (max_iter) or scale the data as shown in:\n",
            "    https://scikit-learn.org/stable/modules/preprocessing.html\n",
            "Please also refer to the documentation for alternative solver options:\n",
            "    https://scikit-learn.org/stable/modules/linear_model.html#logistic-regression\n",
            "  extra_warning_msg=_LOGISTIC_SOLVER_CONVERGENCE_MSG)\n"
          ],
          "name": "stderr"
        }
      ]
    },
    {
      "cell_type": "code",
      "metadata": {
        "id": "ADJo9dpUEQMk",
        "outputId": "083dd684-e0e1-4f69-e307-80fea6265e47",
        "colab": {
          "base_uri": "https://localhost:8080/"
        }
      },
      "source": [
        "from scipy.stats import randint\n",
        "\n",
        "classifiers = RandomForestClassifier(n_estimators=50)\n",
        "\n",
        "#some selected params in https://scikit-learn.org/stable/modules/generated/sklearn.ensemble.RandomForestClassifier.html\n",
        "params = {'classification__n_estimators': randint(10, 1000), 'classification__max_depth': randint(10,100),\n",
        "         'classification__criterion':('gini', 'entropy'), 'classification__max_features':('auto', 'sqrt', 'log2')}\n",
        "    \n",
        "#for param, classifier in zip(params, classifiers):\n",
        "grid_result = imb_pipeline(classifiers, X_train, y_train, params) \n",
        "\n",
        "#print\n",
        "print_scores(grid_result)"
      ],
      "execution_count": 41,
      "outputs": [
        {
          "output_type": "stream",
          "text": [
            "Best ACCURACY: 0.691493 using {'classification__criterion': 'gini', 'classification__max_depth': 51, 'classification__max_features': 'auto', 'classification__n_estimators': 850}\n",
            "BALANCED_ACCURACY, RECALL, F1 with PARAMS\n",
            "0.689355 (0.017553), 0.389290 (0.036347), 0.516542 (0.033232) with: {'classification__criterion': 'gini', 'classification__max_depth': 90, 'classification__max_features': 'auto', 'classification__n_estimators': 915}\n",
            "0.638064 (0.019741), 0.283414 (0.040176), 0.414348 (0.046409) with: {'classification__criterion': 'gini', 'classification__max_depth': 12, 'classification__max_features': 'sqrt', 'classification__n_estimators': 824}\n",
            "0.667736 (0.015098), 0.343971 (0.030009), 0.478376 (0.033535) with: {'classification__criterion': 'gini', 'classification__max_depth': 50, 'classification__max_features': 'log2', 'classification__n_estimators': 668}\n",
            "0.645156 (0.010969), 0.296730 (0.022102), 0.433924 (0.025452) with: {'classification__criterion': 'gini', 'classification__max_depth': 19, 'classification__max_features': 'log2', 'classification__n_estimators': 675}\n",
            "0.679584 (0.015659), 0.368535 (0.031810), 0.500556 (0.031815) with: {'classification__criterion': 'entropy', 'classification__max_depth': 54, 'classification__max_features': 'log2', 'classification__n_estimators': 23}\n",
            "0.691493 (0.022063), 0.393046 (0.044624), 0.521831 (0.044246) with: {'classification__criterion': 'gini', 'classification__max_depth': 51, 'classification__max_features': 'auto', 'classification__n_estimators': 850}\n",
            "0.691250 (0.019279), 0.393082 (0.038411), 0.520343 (0.039145) with: {'classification__criterion': 'gini', 'classification__max_depth': 64, 'classification__max_features': 'sqrt', 'classification__n_estimators': 101}\n",
            "0.686420 (0.020832), 0.383594 (0.042617), 0.509879 (0.041010) with: {'classification__criterion': 'gini', 'classification__max_depth': 30, 'classification__max_features': 'auto', 'classification__n_estimators': 399}\n",
            "0.689346 (0.021973), 0.389272 (0.043381), 0.516482 (0.046960) with: {'classification__criterion': 'gini', 'classification__max_depth': 84, 'classification__max_features': 'auto', 'classification__n_estimators': 555}\n",
            "0.674253 (0.020221), 0.357179 (0.040761), 0.490956 (0.042257) with: {'classification__criterion': 'entropy', 'classification__max_depth': 86, 'classification__max_features': 'log2', 'classification__n_estimators': 817}\n"
          ],
          "name": "stdout"
        }
      ]
    },
    {
      "cell_type": "code",
      "metadata": {
        "id": "gyPTbBUUEQMo",
        "outputId": "6446e475-f948-4b61-a914-5d035afcabf5",
        "colab": {
          "base_uri": "https://localhost:8080/"
        }
      },
      "source": [
        "import numpy\n",
        "from sklearn.model_selection import RandomizedSearchCV\n",
        "from keras.wrappers.scikit_learn import KerasClassifier\n",
        "import tensorflow as tf\n",
        "from tensorflow import keras\n",
        "from tensorflow.keras import layers\n",
        "from scipy.stats import uniform\n",
        "from scipy.stats import randint\n",
        "from scipy.stats import loguniform\n",
        "\n",
        "#setting up NN model \n",
        "def setUpModel(n1, n2, lr=0.001, momentums=0.9):\n",
        "    #set up and compile a model\n",
        "    model = keras.Sequential()\n",
        "    \n",
        "    model.add(layers.Dense(n1, input_dim=X_train.shape[1], activation=\"sigmoid\"))\n",
        "    model.add(layers.Dense(n2, activation=\"sigmoid\"))\n",
        "    model.add(layers.Dense(1, activation=\"sigmoid\")) #1 output layer bc of binary output\n",
        "    \n",
        "    model.compile(loss='mse',\n",
        "         optimizer = keras.optimizers.SGD(momentum=momentums, learning_rate=lr),\n",
        "         metrics=['accuracy',\n",
        "             keras.metrics.Recall(name=\"recall\", thresholds=0.3)\n",
        "                 ])\n",
        "        \n",
        "    return model\n",
        "\n",
        "#create a scikilearn-compatible model\n",
        "Kmodel = KerasClassifier(build_fn=setUpModel, verbose=0, batch_size=100, epochs=100)\n",
        "# define the grid search parameters\n",
        "neurons1 = (5, 10, 15, 20)\n",
        "neurons2 = (5, 10, 15, 20)\n",
        "lr = [0.005,0.01,0.05,0.1]\n",
        "momentum = [0.1, 0.4,0.7,0.9,0.99]\n",
        "params = {\"classification__n1\":randint(5,15), \"classification__n2\":randint(5,15),\n",
        "         \"classification__lr\":loguniform(0.0001,10), \"classification__momentums\": uniform(0.01,0.999999)}\n",
        "\n",
        "#for param, classifier in zip(params, classifiers):\n",
        "grid_result = imb_pipeline(Kmodel, X_train, y_train, params) \n",
        "\n",
        "#print\n",
        "print_scores(grid_result)"
      ],
      "execution_count": 42,
      "outputs": [
        {
          "output_type": "stream",
          "text": [
            "/usr/local/lib/python3.7/dist-packages/joblib/externals/loky/process_executor.py:691: UserWarning: A worker stopped while some jobs were given to the executor. This can be caused by a too short worker timeout or by a memory leak.\n",
            "  \"timeout or by a memory leak.\", UserWarning\n"
          ],
          "name": "stderr"
        },
        {
          "output_type": "stream",
          "text": [
            "Best ACCURACY: 0.720099 using {'classification__lr': 3.388001161548313, 'classification__momentums': 0.07785545260401411, 'classification__n1': 6, 'classification__n2': 10}\n",
            "BALANCED_ACCURACY, RECALL, F1 with PARAMS\n",
            "0.500148 (0.000297), 0.594231 (0.485302), 0.088561 (0.072372) with: {'classification__lr': 0.00011998912369216542, 'classification__momentums': 0.07890272532581599, 'classification__n1': 14, 'classification__n2': 5}\n",
            "0.715737 (0.011886), 0.463882 (0.025354), 0.510299 (0.030323) with: {'classification__lr': 0.6738486038824141, 'classification__momentums': 0.20712523392409424, 'classification__n1': 8, 'classification__n2': 13}\n",
            "0.577130 (0.061734), 0.159610 (0.127935), 0.234120 (0.184854) with: {'classification__lr': 0.10566966368657793, 'classification__momentums': 0.4200881261023259, 'classification__n1': 13, 'classification__n2': 12}\n",
            "0.708937 (0.023269), 0.450672 (0.048305), 0.497466 (0.038251) with: {'classification__lr': 1.0322002545582214, 'classification__momentums': 0.516121204354664, 'classification__n1': 10, 'classification__n2': 6}\n",
            "0.549265 (0.045864), 0.101648 (0.094403), 0.162978 (0.145432) with: {'classification__lr': 0.13435872160032197, 'classification__momentums': 0.3726707089533201, 'classification__n1': 8, 'classification__n2': 6}\n",
            "0.500000 (0.000000), 0.000000 (0.000000), 0.000000 (0.000000) with: {'classification__lr': 0.005422220805641007, 'classification__momentums': 0.16706451069554856, 'classification__n1': 8, 'classification__n2': 5}\n",
            "0.500000 (0.000000), 0.000000 (0.000000), 0.000000 (0.000000) with: {'classification__lr': 0.16838863930442322, 'classification__momentums': 0.9698250183586534, 'classification__n1': 9, 'classification__n2': 13}\n",
            "0.500000 (0.000000), 0.000000 (0.000000), 0.000000 (0.000000) with: {'classification__lr': 0.0004183741041086221, 'classification__momentums': 0.7898438426463102, 'classification__n1': 5, 'classification__n2': 14}\n",
            "0.500000 (0.000000), 0.000000 (0.000000), 0.000000 (0.000000) with: {'classification__lr': 6.713954130746673, 'classification__momentums': 0.988750858697333, 'classification__n1': 7, 'classification__n2': 9}\n",
            "0.720099 (0.022199), 0.469016 (0.043599), 0.526406 (0.043253) with: {'classification__lr': 3.388001161548313, 'classification__momentums': 0.07785545260401411, 'classification__n1': 6, 'classification__n2': 10}\n"
          ],
          "name": "stdout"
        }
      ]
    },
    {
      "cell_type": "markdown",
      "metadata": {
        "id": "xCixaIyhEQMw"
      },
      "source": [
        "# Get optimized models' scores"
      ]
    },
    {
      "cell_type": "code",
      "metadata": {
        "id": "RGI6O0WwEQOD"
      },
      "source": [
        "# evaluate the model using a given test condition\n",
        "#def evaluate_model(cv, model):\n",
        "#    #pipeline\n",
        "#    steps=[('scaler',MinMaxScaler()),('model', model)]\n",
        "#    pipeline = Pipeline(steps=steps)\n",
        "#    # evaluate the model\n",
        "#    scores = cross_validate(pipeline, X, y, scoring=['accuracy','precision', 'recall'], cv=cv, n_jobs=-1)\n",
        "    # return scores\n",
        "#    return [mean(scores['test_accuracy']),mean(scores['test_precision']),mean(scores['test_recall'])]"
      ],
      "execution_count": null,
      "outputs": []
    },
    {
      "cell_type": "markdown",
      "metadata": {
        "id": "4sLJzr7KEQOE"
      },
      "source": [
        "# Result (using best parameters)"
      ]
    },
    {
      "cell_type": "markdown",
      "metadata": {
        "id": "J-N5DCPVEQOF"
      },
      "source": [
        "## Precision, Recall vs Threshold"
      ]
    },
    {
      "cell_type": "code",
      "metadata": {
        "id": "6BeOOI79EQOF",
        "outputId": "8860b655-d00d-4be4-c4ec-e707d3e7b6e3"
      },
      "source": [
        "from sklearn.metrics import plot_precision_recall_curve\n",
        "from sklearn.metrics import plot_roc_curve\n",
        "from sklearn.metrics import precision_recall_curve\n",
        "import matplotlib.pyplot as plt\n",
        "\n",
        "train[\"label\"].value_counts()"
      ],
      "execution_count": null,
      "outputs": [
        {
          "output_type": "execute_result",
          "data": {
            "text/plain": [
              "0    5765\n",
              "1     529\n",
              "Name: label, dtype: int64"
            ]
          },
          "metadata": {
            "tags": []
          },
          "execution_count": 23
        }
      ]
    },
    {
      "cell_type": "code",
      "metadata": {
        "id": "21vueNh0EQOG"
      },
      "source": [
        ""
      ],
      "execution_count": null,
      "outputs": []
    },
    {
      "cell_type": "code",
      "metadata": {
        "id": "UrW2OF3CEQOG",
        "outputId": "4fc3fbbb-203a-487a-9d8d-40c0027e2f2e"
      },
      "source": [
        "#log\n",
        "X_test = test.drop([\"label\"],1)\n",
        "y_test = test[\"label\"]\n",
        "\n",
        "log = LogisticRegression(C=0.1, max_iter=2000)\n",
        "\n",
        "log.fit(X_train, y_train)\n",
        "\n",
        "#plot_precision_recall_curve(log, X_test, y_test)"
      ],
      "execution_count": null,
      "outputs": [
        {
          "output_type": "execute_result",
          "data": {
            "text/plain": [
              "LogisticRegression(C=0.1, max_iter=2000)"
            ]
          },
          "metadata": {
            "tags": []
          },
          "execution_count": 24
        }
      ]
    },
    {
      "cell_type": "code",
      "metadata": {
        "id": "TJxbVaZ0EQOG",
        "outputId": "ebb02049-298e-4827-a55f-02208ec5d628"
      },
      "source": [
        "y_scores=log.predict_proba(X_test)\n",
        "prec, rec, tre = precision_recall_curve(y_test, y_scores[:,1])\n",
        "plt.plot(tre, prec[:-1], linestyle='--', label='Precision')\n",
        "plt.plot(tre, rec[:-1], linestyle='--', color = 'b', label='Recall')\n",
        "plt.xlabel(\"Threshold\")\n",
        "plt.ylabel(\"Scores\")\n",
        "plt.legend()\n",
        "plt.show()"
      ],
      "execution_count": null,
      "outputs": [
        {
          "output_type": "display_data",
          "data": {
            "image/png": "[encoded data removed]",
            "text/plain": [
              "<Figure size 432x288 with 1 Axes>"
            ]
          },
          "metadata": {
            "tags": [],
            "needs_background": "light"
          }
        }
      ]
    },
    {
      "cell_type": "code",
      "metadata": {
        "id": "iYUDS52DEQOH",
        "outputId": "bb89c45a-4a87-49dd-891c-83fc1c03a565"
      },
      "source": [
        "#forest; grid search 2 vars\n",
        "classifier = RandomForestClassifier(n_estimators=300, max_depth=30)\n",
        "classifier.fit(X_train, y_train)\n",
        "#plot_precision_recall_curve(classifier, X_test, y_test)\n",
        "y_scores=classifier.predict_proba(X_test)\n",
        "prec, rec, tre = precision_recall_curve(y_test, y_scores[:,1])\n",
        "plt.plot(tre, prec[:-1], linestyle='--', label='Precision')\n",
        "plt.plot(tre, rec[:-1], linestyle='--', color = 'b', label='Recall')\n",
        "plt.xlabel(\"Threshold\")\n",
        "plt.ylabel(\"Scores\")\n",
        "plt.legend()\n",
        "plt.show()"
      ],
      "execution_count": null,
      "outputs": [
        {
          "output_type": "display_data",
          "data": {
            "image/png": "[encoded data removed]",
            "text/plain": [
              "<Figure size 432x288 with 1 Axes>"
            ]
          },
          "metadata": {
            "tags": [],
            "needs_background": "light"
          }
        }
      ]
    },
    {
      "cell_type": "code",
      "metadata": {
        "id": "fm-qYizwEQOI",
        "outputId": "04edd218-8b47-4dcb-e7b3-41d9aa505a04"
      },
      "source": [
        "X_train.shape"
      ],
      "execution_count": null,
      "outputs": [
        {
          "output_type": "execute_result",
          "data": {
            "text/plain": [
              "(6294, 1024)"
            ]
          },
          "metadata": {
            "tags": []
          },
          "execution_count": 34
        }
      ]
    },
    {
      "cell_type": "code",
      "metadata": {
        "id": "M5PofTdQEQOJ",
        "outputId": "6933e911-b9c9-4dc0-ba51-3d9aa043a882"
      },
      "source": [
        "def setUpModel(n1=2, n2=2):\n",
        "    #set up and compile a model\n",
        "    model = keras.Sequential()\n",
        "    \n",
        "    model.add(layers.Dense(n1, input_dim=X_train.shape[1], activation=\"sigmoid\"))\n",
        "    model.add(layers.Dense(n2, activation=\"sigmoid\"))\n",
        "    model.add(layers.Dense(1, activation=\"sigmoid\")) #1 output layer bc of binary output\n",
        "    \n",
        "    model.compile(loss='mse',\n",
        "         optimizer = keras.optimizers.SGD(momentum=0.99, learning_rate=0.01),\n",
        "         metrics=['accuracy',\n",
        "             keras.metrics.Recall(name=\"recall\", thresholds=0.3)\n",
        "                 ])\n",
        "        \n",
        "    return model\n",
        "\n",
        "#create a scikilearn-compatible model\n",
        "Kmodel = KerasClassifier(build_fn=setUpModel, verbose=0, batch_size=400, epochs=50)\n",
        "Kmodel.fit(X_train, y_train)\n",
        "#plot_precision_recall_curve(Kmodel, X_test, y_test)"
      ],
      "execution_count": null,
      "outputs": [
        {
          "output_type": "stream",
          "text": [
            "WARNING:tensorflow:Falling back from v2 loop because of error: Failed to find data adapter that can handle input: <class 'pandas.core.frame.DataFrame'>, <class 'NoneType'>\n"
          ],
          "name": "stdout"
        },
        {
          "output_type": "execute_result",
          "data": {
            "text/plain": [
              "<tensorflow.python.keras.callbacks.History at 0x7fa4ea6059d0>"
            ]
          },
          "metadata": {
            "tags": []
          },
          "execution_count": 27
        }
      ]
    },
    {
      "cell_type": "code",
      "metadata": {
        "id": "2makvEA1EQOJ",
        "outputId": "ca5e602a-9c56-4c28-f797-2ebb98bfc12c"
      },
      "source": [
        "y_scores=Kmodel.predict_proba(X_test)\n",
        "prec, rec, tre = precision_recall_curve(y_test, y_scores[:,1])\n",
        "plt.plot(tre, prec[:-1], linestyle='--', label='Precision')\n",
        "plt.plot(tre, rec[:-1], linestyle='--', color = 'b', label='Recall')\n",
        "plt.xlabel(\"Threshold\")\n",
        "plt.ylabel(\"Scores\")\n",
        "plt.legend()\n",
        "plt.show()"
      ],
      "execution_count": null,
      "outputs": [
        {
          "output_type": "stream",
          "text": [
            "WARNING:tensorflow:Falling back from v2 loop because of error: Failed to find data adapter that can handle input: <class 'pandas.core.frame.DataFrame'>, <class 'NoneType'>\n"
          ],
          "name": "stdout"
        },
        {
          "output_type": "display_data",
          "data": {
            "image/png": "[encoded data removed]",
            "text/plain": [
              "<Figure size 432x288 with 1 Axes>"
            ]
          },
          "metadata": {
            "tags": [],
            "needs_background": "light"
          }
        }
      ]
    },
    {
      "cell_type": "code",
      "metadata": {
        "id": "UK4SgGHDEQOJ",
        "outputId": "4be6ad8d-c214-4361-8c7b-f58ff3ea8ed4"
      },
      "source": [
        "prec"
      ],
      "execution_count": null,
      "outputs": [
        {
          "output_type": "execute_result",
          "data": {
            "text/plain": [
              "array([0.07857672, 0.07823508, 0.07826409, 0.0783222 , 0.07835128,\n",
              "       0.07838039, 0.07843866, 0.07846783, 0.07849702, 0.07852624,\n",
              "       0.07855547, 0.078908  , 0.07913111, 0.08142494, 0.08415609,\n",
              "       0.09284116, 0.09353421, 0.09189189, 0.09293948, 0.09815951,\n",
              "       0.0994295 , 0.1       , 0.09973046, 0.09859155, 0.09920635,\n",
              "       0.09969168, 0.09979424, 0.1028632 , 0.10186199, 0.10215664,\n",
              "       0.10377358, 0.10576923, 0.10834371, 0.10727969, 0.10789474,\n",
              "       0.10762943, 0.10629371, 0.1062591 , 0.10447761, 0.10413476,\n",
              "       0.10062893, 0.0987055 , 0.0921273 , 0.09262436, 0.09380531,\n",
              "       0.09272727, 0.08955224, 0.08829175, 0.09108911, 0.09255533,\n",
              "       0.09034908, 0.09166667, 0.092827  , 0.09032258, 0.09131403,\n",
              "       0.09382151, 0.09280742, 0.09069212, 0.09046455, 0.0920398 ,\n",
              "       0.09367089, 0.09536082, 0.09473684, 0.09408602, 0.09289617,\n",
              "       0.09418283, 0.09550562, 0.09798271, 0.09649123, 0.09552239,\n",
              "       0.09846154, 0.09968847, 0.10223642, 0.10322581, 0.10491803,\n",
              "       0.10631229, 0.10666667, 0.10738255, 0.10847458, 0.10996564,\n",
              "       0.11111111, 0.1130742 , 0.10992908, 0.10752688, 0.10780669,\n",
              "       0.11026616, 0.11153846, 0.11023622, 0.11155378, 0.10931174,\n",
              "       0.10833333, 0.10548523, 0.10729614, 0.10775862, 0.10964912,\n",
              "       0.11160714, 0.11520737, 0.11111111, 0.11267606, 0.11428571,\n",
              "       0.11764706, 0.11940299, 0.1122449 , 0.11340206, 0.11518325,\n",
              "       0.11827957, 0.12087912, 0.11797753, 0.12138728, 0.12352941,\n",
              "       0.11377246, 0.11585366, 0.11801242, 0.11875   , 0.12025316,\n",
              "       0.12258065, 0.12162162, 0.11643836, 0.11724138, 0.11188811,\n",
              "       0.10791367, 0.0962963 , 0.09375   , 0.08730159, 0.088     ,\n",
              "       0.08870968, 0.09090909, 0.07627119, 0.07758621, 0.07826087,\n",
              "       0.08035714, 0.08181818, 0.08571429, 0.08910891, 0.09090909,\n",
              "       0.09375   , 0.07608696, 0.07954545, 0.08045977, 0.08333333,\n",
              "       0.08433735, 0.08641975, 0.08860759, 0.09333333, 0.09459459,\n",
              "       0.09859155, 0.10294118, 0.09090909, 0.09375   , 0.09677419,\n",
              "       0.1       , 0.10526316, 0.09433962, 0.09615385, 0.09803922,\n",
              "       0.1       , 0.10204082, 0.10638298, 0.11363636, 0.11627907,\n",
              "       0.11904762, 0.09756098, 0.10526316, 0.11111111, 0.11428571,\n",
              "       0.12121212, 0.125     , 0.16      , 0.16666667, 0.13636364,\n",
              "       0.15      , 0.16666667, 0.17647059, 0.125     , 0.13333333,\n",
              "       0.14285714, 0.18181818, 0.2       , 0.22222222, 0.28571429,\n",
              "       0.33333333, 0.25      , 0.33333333, 0.5       , 0.        ,\n",
              "       1.        ])"
            ]
          },
          "metadata": {
            "tags": []
          },
          "execution_count": 29
        }
      ]
    },
    {
      "cell_type": "code",
      "metadata": {
        "id": "pPnaC-oXEQOK",
        "outputId": "ae7c4db3-6404-4125-e8bd-51a7fe6efe1f"
      },
      "source": [
        "plt.plot(rec,prec )"
      ],
      "execution_count": null,
      "outputs": [
        {
          "output_type": "execute_result",
          "data": {
            "text/plain": [
              "[<matplotlib.lines.Line2D at 0x7fa4eabe8390>]"
            ]
          },
          "metadata": {
            "tags": []
          },
          "execution_count": 30
        },
        {
          "output_type": "display_data",
          "data": {
            "image/png": "[encoded data removed]",
            "text/plain": [
              "<Figure size 432x288 with 1 Axes>"
            ]
          },
          "metadata": {
            "tags": [],
            "needs_background": "light"
          }
        }
      ]
    },
    {
      "cell_type": "markdown",
      "metadata": {
        "id": "-UDTRsqDEQOK"
      },
      "source": [
        "## ROC"
      ]
    },
    {
      "cell_type": "code",
      "metadata": {
        "id": "WDYbxeBGEQOK"
      },
      "source": [
        ""
      ],
      "execution_count": null,
      "outputs": []
    },
    {
      "cell_type": "code",
      "metadata": {
        "id": "xnZt5wgXEQOL"
      },
      "source": [
        ""
      ],
      "execution_count": null,
      "outputs": []
    }
  ]
}