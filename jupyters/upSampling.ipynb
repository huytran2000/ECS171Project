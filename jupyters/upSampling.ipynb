{
 "cells": [
  {
   "cell_type": "code",
   "execution_count": 1,
   "metadata": {},
   "outputs": [],
   "source": [
    "import pandas as pd\n",
    "import numpy as np\n",
    "import matplotlib.pyplot as plt \n",
    "import seaborn as sns\n",
    "from sklearn.ensemble import IsolationForest\n",
    "from sklearn.neighbors import LocalOutlierFactor\n",
    "from sklearn.model_selection import validation_curve\n",
    "from sklearn.linear_model import LogisticRegression\n",
    "from sklearn.model_selection import train_test_split\n",
    "from sklearn.metrics import precision_score, recall_score\n",
    "#from sklearn.metrics import mean_squared_error\n",
    "from sklearn.ensemble import RandomForestClassifier\n",
    "\n",
    "#import pickle"
   ]
  },
  {
   "cell_type": "code",
   "execution_count": 2,
   "metadata": {},
   "outputs": [],
   "source": [
    "colNames = list(range(1024))\n",
    "colNames.append(\"label\")\n",
    "df = pd.read_csv('../qsar_oral_toxicity.csv', sep=';',names=colNames)"
   ]
  },
  {
   "cell_type": "code",
   "execution_count": 3,
   "metadata": {},
   "outputs": [
    {
     "data": {
      "text/html": [
       "<div>\n",
       "<style scoped>\n",
       "    .dataframe tbody tr th:only-of-type {\n",
       "        vertical-align: middle;\n",
       "    }\n",
       "\n",
       "    .dataframe tbody tr th {\n",
       "        vertical-align: top;\n",
       "    }\n",
       "\n",
       "    .dataframe thead th {\n",
       "        text-align: right;\n",
       "    }\n",
       "</style>\n",
       "<table border=\"1\" class=\"dataframe\">\n",
       "  <thead>\n",
       "    <tr style=\"text-align: right;\">\n",
       "      <th></th>\n",
       "      <th>0</th>\n",
       "      <th>1</th>\n",
       "      <th>2</th>\n",
       "      <th>3</th>\n",
       "      <th>4</th>\n",
       "      <th>5</th>\n",
       "      <th>6</th>\n",
       "      <th>7</th>\n",
       "      <th>8</th>\n",
       "      <th>9</th>\n",
       "      <th>...</th>\n",
       "      <th>1015</th>\n",
       "      <th>1016</th>\n",
       "      <th>1017</th>\n",
       "      <th>1018</th>\n",
       "      <th>1019</th>\n",
       "      <th>1020</th>\n",
       "      <th>1021</th>\n",
       "      <th>1022</th>\n",
       "      <th>1023</th>\n",
       "      <th>label</th>\n",
       "    </tr>\n",
       "  </thead>\n",
       "  <tbody>\n",
       "    <tr>\n",
       "      <th>0</th>\n",
       "      <td>0</td>\n",
       "      <td>0</td>\n",
       "      <td>0</td>\n",
       "      <td>0</td>\n",
       "      <td>0</td>\n",
       "      <td>0</td>\n",
       "      <td>0</td>\n",
       "      <td>0</td>\n",
       "      <td>0</td>\n",
       "      <td>0</td>\n",
       "      <td>...</td>\n",
       "      <td>0</td>\n",
       "      <td>0</td>\n",
       "      <td>0</td>\n",
       "      <td>0</td>\n",
       "      <td>0</td>\n",
       "      <td>0</td>\n",
       "      <td>0</td>\n",
       "      <td>0</td>\n",
       "      <td>0</td>\n",
       "      <td>negative</td>\n",
       "    </tr>\n",
       "    <tr>\n",
       "      <th>1</th>\n",
       "      <td>0</td>\n",
       "      <td>0</td>\n",
       "      <td>1</td>\n",
       "      <td>0</td>\n",
       "      <td>0</td>\n",
       "      <td>0</td>\n",
       "      <td>0</td>\n",
       "      <td>0</td>\n",
       "      <td>0</td>\n",
       "      <td>0</td>\n",
       "      <td>...</td>\n",
       "      <td>0</td>\n",
       "      <td>0</td>\n",
       "      <td>0</td>\n",
       "      <td>0</td>\n",
       "      <td>0</td>\n",
       "      <td>0</td>\n",
       "      <td>0</td>\n",
       "      <td>0</td>\n",
       "      <td>0</td>\n",
       "      <td>negative</td>\n",
       "    </tr>\n",
       "    <tr>\n",
       "      <th>2</th>\n",
       "      <td>0</td>\n",
       "      <td>0</td>\n",
       "      <td>0</td>\n",
       "      <td>0</td>\n",
       "      <td>0</td>\n",
       "      <td>0</td>\n",
       "      <td>0</td>\n",
       "      <td>0</td>\n",
       "      <td>0</td>\n",
       "      <td>0</td>\n",
       "      <td>...</td>\n",
       "      <td>0</td>\n",
       "      <td>0</td>\n",
       "      <td>1</td>\n",
       "      <td>0</td>\n",
       "      <td>0</td>\n",
       "      <td>0</td>\n",
       "      <td>0</td>\n",
       "      <td>0</td>\n",
       "      <td>0</td>\n",
       "      <td>negative</td>\n",
       "    </tr>\n",
       "    <tr>\n",
       "      <th>3</th>\n",
       "      <td>0</td>\n",
       "      <td>0</td>\n",
       "      <td>0</td>\n",
       "      <td>0</td>\n",
       "      <td>0</td>\n",
       "      <td>0</td>\n",
       "      <td>0</td>\n",
       "      <td>1</td>\n",
       "      <td>0</td>\n",
       "      <td>0</td>\n",
       "      <td>...</td>\n",
       "      <td>0</td>\n",
       "      <td>0</td>\n",
       "      <td>0</td>\n",
       "      <td>0</td>\n",
       "      <td>0</td>\n",
       "      <td>0</td>\n",
       "      <td>0</td>\n",
       "      <td>0</td>\n",
       "      <td>0</td>\n",
       "      <td>negative</td>\n",
       "    </tr>\n",
       "    <tr>\n",
       "      <th>4</th>\n",
       "      <td>0</td>\n",
       "      <td>0</td>\n",
       "      <td>0</td>\n",
       "      <td>0</td>\n",
       "      <td>0</td>\n",
       "      <td>0</td>\n",
       "      <td>0</td>\n",
       "      <td>0</td>\n",
       "      <td>0</td>\n",
       "      <td>0</td>\n",
       "      <td>...</td>\n",
       "      <td>0</td>\n",
       "      <td>0</td>\n",
       "      <td>0</td>\n",
       "      <td>0</td>\n",
       "      <td>0</td>\n",
       "      <td>0</td>\n",
       "      <td>0</td>\n",
       "      <td>0</td>\n",
       "      <td>0</td>\n",
       "      <td>negative</td>\n",
       "    </tr>\n",
       "    <tr>\n",
       "      <th>...</th>\n",
       "      <td>...</td>\n",
       "      <td>...</td>\n",
       "      <td>...</td>\n",
       "      <td>...</td>\n",
       "      <td>...</td>\n",
       "      <td>...</td>\n",
       "      <td>...</td>\n",
       "      <td>...</td>\n",
       "      <td>...</td>\n",
       "      <td>...</td>\n",
       "      <td>...</td>\n",
       "      <td>...</td>\n",
       "      <td>...</td>\n",
       "      <td>...</td>\n",
       "      <td>...</td>\n",
       "      <td>...</td>\n",
       "      <td>...</td>\n",
       "      <td>...</td>\n",
       "      <td>...</td>\n",
       "      <td>...</td>\n",
       "      <td>...</td>\n",
       "    </tr>\n",
       "    <tr>\n",
       "      <th>8987</th>\n",
       "      <td>0</td>\n",
       "      <td>0</td>\n",
       "      <td>0</td>\n",
       "      <td>0</td>\n",
       "      <td>0</td>\n",
       "      <td>0</td>\n",
       "      <td>0</td>\n",
       "      <td>1</td>\n",
       "      <td>0</td>\n",
       "      <td>0</td>\n",
       "      <td>...</td>\n",
       "      <td>0</td>\n",
       "      <td>0</td>\n",
       "      <td>0</td>\n",
       "      <td>1</td>\n",
       "      <td>0</td>\n",
       "      <td>0</td>\n",
       "      <td>0</td>\n",
       "      <td>0</td>\n",
       "      <td>0</td>\n",
       "      <td>negative</td>\n",
       "    </tr>\n",
       "    <tr>\n",
       "      <th>8988</th>\n",
       "      <td>0</td>\n",
       "      <td>1</td>\n",
       "      <td>0</td>\n",
       "      <td>0</td>\n",
       "      <td>0</td>\n",
       "      <td>1</td>\n",
       "      <td>0</td>\n",
       "      <td>1</td>\n",
       "      <td>0</td>\n",
       "      <td>0</td>\n",
       "      <td>...</td>\n",
       "      <td>0</td>\n",
       "      <td>0</td>\n",
       "      <td>0</td>\n",
       "      <td>1</td>\n",
       "      <td>0</td>\n",
       "      <td>0</td>\n",
       "      <td>0</td>\n",
       "      <td>0</td>\n",
       "      <td>0</td>\n",
       "      <td>negative</td>\n",
       "    </tr>\n",
       "    <tr>\n",
       "      <th>8989</th>\n",
       "      <td>0</td>\n",
       "      <td>0</td>\n",
       "      <td>0</td>\n",
       "      <td>0</td>\n",
       "      <td>0</td>\n",
       "      <td>0</td>\n",
       "      <td>0</td>\n",
       "      <td>1</td>\n",
       "      <td>0</td>\n",
       "      <td>0</td>\n",
       "      <td>...</td>\n",
       "      <td>0</td>\n",
       "      <td>0</td>\n",
       "      <td>0</td>\n",
       "      <td>0</td>\n",
       "      <td>0</td>\n",
       "      <td>0</td>\n",
       "      <td>0</td>\n",
       "      <td>1</td>\n",
       "      <td>0</td>\n",
       "      <td>negative</td>\n",
       "    </tr>\n",
       "    <tr>\n",
       "      <th>8990</th>\n",
       "      <td>0</td>\n",
       "      <td>0</td>\n",
       "      <td>0</td>\n",
       "      <td>0</td>\n",
       "      <td>0</td>\n",
       "      <td>0</td>\n",
       "      <td>0</td>\n",
       "      <td>0</td>\n",
       "      <td>0</td>\n",
       "      <td>0</td>\n",
       "      <td>...</td>\n",
       "      <td>0</td>\n",
       "      <td>0</td>\n",
       "      <td>0</td>\n",
       "      <td>0</td>\n",
       "      <td>0</td>\n",
       "      <td>0</td>\n",
       "      <td>0</td>\n",
       "      <td>0</td>\n",
       "      <td>0</td>\n",
       "      <td>negative</td>\n",
       "    </tr>\n",
       "    <tr>\n",
       "      <th>8991</th>\n",
       "      <td>0</td>\n",
       "      <td>0</td>\n",
       "      <td>1</td>\n",
       "      <td>0</td>\n",
       "      <td>0</td>\n",
       "      <td>0</td>\n",
       "      <td>0</td>\n",
       "      <td>0</td>\n",
       "      <td>0</td>\n",
       "      <td>0</td>\n",
       "      <td>...</td>\n",
       "      <td>1</td>\n",
       "      <td>0</td>\n",
       "      <td>0</td>\n",
       "      <td>0</td>\n",
       "      <td>0</td>\n",
       "      <td>0</td>\n",
       "      <td>0</td>\n",
       "      <td>0</td>\n",
       "      <td>0</td>\n",
       "      <td>negative</td>\n",
       "    </tr>\n",
       "  </tbody>\n",
       "</table>\n",
       "<p>8992 rows × 1025 columns</p>\n",
       "</div>"
      ],
      "text/plain": [
       "      0  1  2  3  4  5  6  7  8  9  ...  1015  1016  1017  1018  1019  1020  \\\n",
       "0     0  0  0  0  0  0  0  0  0  0  ...     0     0     0     0     0     0   \n",
       "1     0  0  1  0  0  0  0  0  0  0  ...     0     0     0     0     0     0   \n",
       "2     0  0  0  0  0  0  0  0  0  0  ...     0     0     1     0     0     0   \n",
       "3     0  0  0  0  0  0  0  1  0  0  ...     0     0     0     0     0     0   \n",
       "4     0  0  0  0  0  0  0  0  0  0  ...     0     0     0     0     0     0   \n",
       "...  .. .. .. .. .. .. .. .. .. ..  ...   ...   ...   ...   ...   ...   ...   \n",
       "8987  0  0  0  0  0  0  0  1  0  0  ...     0     0     0     1     0     0   \n",
       "8988  0  1  0  0  0  1  0  1  0  0  ...     0     0     0     1     0     0   \n",
       "8989  0  0  0  0  0  0  0  1  0  0  ...     0     0     0     0     0     0   \n",
       "8990  0  0  0  0  0  0  0  0  0  0  ...     0     0     0     0     0     0   \n",
       "8991  0  0  1  0  0  0  0  0  0  0  ...     1     0     0     0     0     0   \n",
       "\n",
       "      1021  1022  1023     label  \n",
       "0        0     0     0  negative  \n",
       "1        0     0     0  negative  \n",
       "2        0     0     0  negative  \n",
       "3        0     0     0  negative  \n",
       "4        0     0     0  negative  \n",
       "...    ...   ...   ...       ...  \n",
       "8987     0     0     0  negative  \n",
       "8988     0     0     0  negative  \n",
       "8989     0     1     0  negative  \n",
       "8990     0     0     0  negative  \n",
       "8991     0     0     0  negative  \n",
       "\n",
       "[8992 rows x 1025 columns]"
      ]
     },
     "execution_count": 3,
     "metadata": {},
     "output_type": "execute_result"
    }
   ],
   "source": [
    "df"
   ]
  },
  {
   "cell_type": "code",
   "execution_count": 4,
   "metadata": {},
   "outputs": [],
   "source": [
    "#label 1 is positive; otherwise negative\n",
    "df = pd.get_dummies(df)\n",
    "df.drop(\"label_negative\",1,inplace=True)\n",
    "df = df.rename({\"label_positive\":\"label\"},axis=1)"
   ]
  },
  {
   "cell_type": "code",
   "execution_count": 5,
   "metadata": {},
   "outputs": [
    {
     "data": {
      "text/plain": [
       "(741, 1025)"
      ]
     },
     "execution_count": 5,
     "metadata": {},
     "output_type": "execute_result"
    }
   ],
   "source": [
    "df[df[\"label\"]==1].shape\n",
    "#according to paper's table, this means we have VT data, with ECFP_1024_02 or ECFP_1024_02R"
   ]
  },
  {
   "cell_type": "code",
   "execution_count": 6,
   "metadata": {},
   "outputs": [
    {
     "name": "stdout",
     "output_type": "stream",
     "text": [
      "<class 'pandas.core.frame.DataFrame'>\n",
      "RangeIndex: 8992 entries, 0 to 8991\n",
      "Columns: 1025 entries, 0 to label\n",
      "dtypes: int64(1024), uint8(1)\n",
      "memory usage: 70.3 MB\n"
     ]
    }
   ],
   "source": [
    "df.info()"
   ]
  },
  {
   "cell_type": "code",
   "execution_count": 7,
   "metadata": {},
   "outputs": [
    {
     "data": {
      "text/plain": [
       "0    8251\n",
       "1     741\n",
       "Name: label, dtype: int64"
      ]
     },
     "execution_count": 7,
     "metadata": {},
     "output_type": "execute_result"
    }
   ],
   "source": [
    "df[\"label\"].value_counts()"
   ]
  },
  {
   "cell_type": "code",
   "execution_count": 8,
   "metadata": {},
   "outputs": [],
   "source": [
    "#train, test split\n",
    "train, test=train_test_split(df, test_size=0.3, random_state=1)\n",
    "train.reset_index(drop=True, inplace=True)"
   ]
  },
  {
   "cell_type": "code",
   "execution_count": 9,
   "metadata": {},
   "outputs": [],
   "source": [
    "#######<--"
   ]
  },
  {
   "cell_type": "code",
   "execution_count": 10,
   "metadata": {},
   "outputs": [],
   "source": [
    "#######-->"
   ]
  },
  {
   "cell_type": "code",
   "execution_count": 11,
   "metadata": {},
   "outputs": [
    {
     "data": {
      "text/plain": [
       "0    5765\n",
       "1     529\n",
       "Name: label, dtype: int64"
      ]
     },
     "execution_count": 11,
     "metadata": {},
     "output_type": "execute_result"
    }
   ],
   "source": [
    "train[\"label\"].value_counts()"
   ]
  },
  {
   "cell_type": "code",
   "execution_count": 12,
   "metadata": {},
   "outputs": [],
   "source": [
    "#!pip install imblearn"
   ]
  },
  {
   "cell_type": "code",
   "execution_count": 13,
   "metadata": {},
   "outputs": [],
   "source": [
    "###<--"
   ]
  },
  {
   "cell_type": "code",
   "execution_count": 14,
   "metadata": {},
   "outputs": [],
   "source": [
    "#upsampling: https://www.kaggle.com/rafjaa/resampling-strategies-for-imbalanced-datasets#t10\n",
    "#from imblearn.over_sampling import SMOTE\n",
    "\n",
    "#smote = SMOTE(random_state=12, sampling_strategy=1)#'minority')\n",
    "#X_train, y_train = smote.fit_resample(train.drop([\"label\"],1), train[\"label\"])\n",
    "\n",
    "#plot_2d_space(X_train, y_train, 'SMOTE over-sampling')\n",
    "#X_test=test.drop([\"label\"],1)\n",
    "#y_test=test[\"label\"]"
   ]
  },
  {
   "cell_type": "code",
   "execution_count": 15,
   "metadata": {},
   "outputs": [],
   "source": [
    "###-->"
   ]
  },
  {
   "cell_type": "code",
   "execution_count": 16,
   "metadata": {},
   "outputs": [],
   "source": [
    "#y_train.value_counts()"
   ]
  },
  {
   "cell_type": "code",
   "execution_count": null,
   "metadata": {},
   "outputs": [],
   "source": []
  },
  {
   "cell_type": "code",
   "execution_count": 17,
   "metadata": {},
   "outputs": [],
   "source": [
    "X_train=train.drop([\"label\"],1)\n",
    "y_train=train[\"label\"]"
   ]
  },
  {
   "cell_type": "markdown",
   "metadata": {},
   "source": [
    "# Optimizing"
   ]
  },
  {
   "cell_type": "code",
   "execution_count": 18,
   "metadata": {},
   "outputs": [],
   "source": [
    "#https://stackoverflow.com/questions/58815016/cross-validating-with-imblearn-pipeline-and-gridsearchcv\n",
    "\n",
    "from imblearn.pipeline import Pipeline\n",
    "from imblearn.over_sampling import SMOTE\n",
    "from sklearn.model_selection import GridSearchCV\n",
    "\n",
    "def imb_pipeline(clf, X, y, params):\n",
    "\n",
    "    model = Pipeline([\n",
    "        ('sampling', SMOTE(random_state=1, sampling_strategy=1)),\n",
    "        ('classification', clf)\n",
    "    ])\n",
    "    #optimizing balanced_accuracy instead of accuracy score bc wee upsampled and have a balanced training set; can check accuracy score later, make suree it is low\n",
    "    score={'BALANCED_ACCURACY':'balanced_accuracy', 'RECALL':'recall', 'F1':'f1'}\n",
    "\n",
    "    gcv = GridSearchCV(estimator=model, param_grid=params, cv=5, scoring=score, n_jobs=12, refit='AUC')\n",
    "    gcv.fit(X, y)\n",
    "\n",
    "    return gcv\n",
    "\n",
    "def print_scores(grid_result):\n",
    "    print(\"Best BALANCED_ACCURACY: %f using %s\" % (grid_result.best_score_, grid_result.best_params_))\n",
    "    means = grid_result.cv_results_['mean_test_BALANCED_ACCURACY']\n",
    "    stds = grid_result.cv_results_['std_test_BALANCED_ACCURACY']\n",
    "    means2 = grid_result.cv_results_['mean_test_RECALL']\n",
    "    stds2 = grid_result.cv_results_['std_test_RECALL']\n",
    "    means3 = grid_result.cv_results_['mean_test_F1']\n",
    "    stds3 = grid_result.cv_results_['std_test_F1']\n",
    "    params = grid_result.cv_results_['params']\n",
    "    print(\"BALANCED_ACCURACY, RECALL, F1 with PARAMS\")\n",
    "    for mean, std, mean2, std2, mean3, std3, param in zip(means, stds, means2, stds2, means3, stds3, params):\n",
    "        print(\"%f (%f), %f (%f), %f (%f) with: %r\" % (mean, std, mean2, std2, mean3, std3, param))"
   ]
  },
  {
   "cell_type": "code",
   "execution_count": 19,
   "metadata": {},
   "outputs": [
    {
     "name": "stdout",
     "output_type": "stream",
     "text": [
      "Best AUC: 0.828202 using {'classification__C': 0.1}\n",
      "AUC, RECALL, PRECISION with PARAMS\n",
      "0.810211 (0.025646), 0.572650 (0.042133), 0.344704 (0.031989) with: {'classification__C': 0.01}\n",
      "0.828202 (0.023182), 0.525355 (0.048645), 0.402873 (0.045083) with: {'classification__C': 0.1}\n",
      "0.822192 (0.023967), 0.521581 (0.049722), 0.389926 (0.045080) with: {'classification__C': 1.0}\n",
      "0.805173 (0.022899), 0.506541 (0.024989), 0.362203 (0.037521) with: {'classification__C': 10}\n"
     ]
    }
   ],
   "source": [
    "from scipy.stats import loguniform\n",
    "\n",
    "classifiers = LogisticRegression(C=1.0, penalty='l2',\n",
    "                     random_state=None, tol=0.0001, verbose=0,\n",
    "                     warm_start=False)\n",
    "\n",
    "#see solver in https://scikit-learn.org/stable/modules/generated/sklearn.linear_model.LogisticRegression.html\n",
    "params = [{'classification__penalty':['elasticnet'],\n",
    "          'classification__solver':['saga'],\n",
    "          'classification__C': loguniform(1e-5, 100)},\n",
    "          {'classification__penalty':['none','l2'],\n",
    "          'classification__solver':['newton-cg', 'lbfgs', 'sag','saga'],\n",
    "          'classification__C': loguniform(1e-5, 100)},\n",
    "          {'classification__penalty':['l1'],\n",
    "          'classification__solver':('liblinear','saga'),\n",
    "          'classification__C': loguniform(1e-5, 100)}\n",
    "         ]\n",
    "\n",
    "        \n",
    "    \n",
    "#for param, classifier in zip(params, classifiers):\n",
    "grid_result = imb_pipeline(classifiers, X_train, y_train, params) \n",
    "\n",
    "#print\n",
    "print_scores(grid_result)"
   ]
  },
  {
   "cell_type": "code",
   "execution_count": 20,
   "metadata": {},
   "outputs": [
    {
     "name": "stdout",
     "output_type": "stream",
     "text": [
      "Best AUC: 0.891250 using {'classification__max_depth': 70, 'classification__n_estimators': 500}\n",
      "AUC, RECALL, PRECISION with PARAMS\n",
      "0.884374 (0.018674), 0.549937 (0.042272), 0.525365 (0.040136) with: {'classification__max_depth': 30, 'classification__n_estimators': 100}\n",
      "0.884860 (0.017919), 0.540503 (0.038046), 0.525635 (0.039765) with: {'classification__max_depth': 30, 'classification__n_estimators': 300}\n",
      "0.885272 (0.019077), 0.546181 (0.039925), 0.532990 (0.044363) with: {'classification__max_depth': 30, 'classification__n_estimators': 500}\n",
      "0.885276 (0.018924), 0.496981 (0.048628), 0.571775 (0.045356) with: {'classification__max_depth': 50, 'classification__n_estimators': 100}\n",
      "0.887726 (0.017712), 0.515921 (0.040865), 0.591633 (0.034520) with: {'classification__max_depth': 50, 'classification__n_estimators': 300}\n",
      "0.889533 (0.015074), 0.523468 (0.044473), 0.595462 (0.026525) with: {'classification__max_depth': 50, 'classification__n_estimators': 500}\n",
      "0.883086 (0.018083), 0.508320 (0.051687), 0.598046 (0.023172) with: {'classification__max_depth': 70, 'classification__n_estimators': 100}\n",
      "0.888554 (0.012768), 0.506415 (0.056611), 0.599117 (0.031428) with: {'classification__max_depth': 70, 'classification__n_estimators': 300}\n",
      "0.891250 (0.015303), 0.515849 (0.063320), 0.600333 (0.041552) with: {'classification__max_depth': 70, 'classification__n_estimators': 500}\n"
     ]
    }
   ],
   "source": [
    "from scipy.stats import randint\n",
    "\n",
    "classifiers = RandomForestClassifier(n_estimators=50)\n",
    "\n",
    "#some selected params in https://scikit-learn.org/stable/modules/generated/sklearn.ensemble.RandomForestClassifier.html\n",
    "params = {'classification__n_estimators': randint(10, 1000), 'classification__max_depth': randint(10,100),\n",
    "         'classification__criterion':('gini', 'entropy'), 'classification__max_features':('auto', 'sqrt', 'log2')}\n",
    "    \n",
    "#for param, classifier in zip(params, classifiers):\n",
    "grid_result = imb_pipeline(classifiers, X_train, y_train, params) \n",
    "\n",
    "#print\n",
    "print_scores(grid_result)"
   ]
  },
  {
   "cell_type": "code",
   "execution_count": 21,
   "metadata": {},
   "outputs": [
    {
     "name": "stderr",
     "output_type": "stream",
     "text": [
      "Using TensorFlow backend.\n"
     ]
    },
    {
     "name": "stdout",
     "output_type": "stream",
     "text": [
      "WARNING:tensorflow:Falling back from v2 loop because of error: Failed to find data adapter that can handle input: <class 'pandas.core.frame.DataFrame'>, <class 'NoneType'>\n",
      "Best AUC: 0.751617 using {'classification__n1': 3, 'classification__n2': 3}\n",
      "AUC, RECALL, PRECISION with PARAMS\n",
      "0.728944 (0.044374), 0.697217 (0.167380), 0.186264 (0.056960) with: {'classification__n1': 2, 'classification__n2': 2}\n",
      "0.742906 (0.015757), 0.656411 (0.137872), 0.207137 (0.057048) with: {'classification__n1': 2, 'classification__n2': 3}\n",
      "0.742653 (0.027647), 0.481739 (0.307786), 0.205072 (0.158900) with: {'classification__n1': 3, 'classification__n2': 2}\n",
      "0.751617 (0.037186), 0.570058 (0.113862), 0.297035 (0.047895) with: {'classification__n1': 3, 'classification__n2': 3}\n"
     ]
    }
   ],
   "source": [
    "import numpy\n",
    "from sklearn.model_selection import RandomizedSearchCV\n",
    "from keras.wrappers.scikit_learn import KerasClassifier\n",
    "import tensorflow as tf\n",
    "from tensorflow import keras\n",
    "from tensorflow.keras import layers\n",
    "from scipy.stats import uniform\n",
    "from scipy.stats import randint\n",
    "from scipy.stats import loguniform\n",
    "\n",
    "#setting up NN model \n",
    "def setUpModel(n1, n2, lr=0.001, momentums=0.9):\n",
    "    #set up and compile a model\n",
    "    model = keras.Sequential()\n",
    "    \n",
    "    model.add(layers.Dense(n1, input_dim=X_train.shape[1], activation=\"sigmoid\"))\n",
    "    model.add(layers.Dense(n2, activation=\"sigmoid\"))\n",
    "    model.add(layers.Dense(1, activation=\"sigmoid\")) #1 output layer bc of binary output\n",
    "    \n",
    "    model.compile(loss='mse',\n",
    "         optimizer = keras.optimizers.SGD(momentum=momentums, learning_rate=lr),\n",
    "         metrics=['accuracy',\n",
    "             keras.metrics.Recall(name=\"recall\", thresholds=0.3)\n",
    "                 ])\n",
    "        \n",
    "    return model\n",
    "\n",
    "#create a scikilearn-compatible model\n",
    "Kmodel = KerasClassifier(build_fn=setUpModel, verbose=0, batch_size=100, epochs=100)\n",
    "# define the grid search parameters\n",
    "neurons1 = (5, 10, 15, 20)\n",
    "neurons2 = (5, 10, 15, 20)\n",
    "lr = [0.005,0.01,0.05,0.1]\n",
    "momentum = [0.1, 0.4,0.7,0.9,0.99]\n",
    "params = {\"classification__n1\":randint(5,15), \"classification__n2\":randint(5,15),\n",
    "         \"classification__lr\":loguniform(0.0001,10), \"classification__momentums\": uniform(0.01,0.999999)}\n",
    "\n",
    "#for param, classifier in zip(params, classifiers):\n",
    "grid_result = imb_pipeline(Kmodel, X_train, y_train, params) \n",
    "\n",
    "#print\n",
    "print_scores(grid_result)"
   ]
  },
  {
   "cell_type": "markdown",
   "metadata": {},
   "source": [
    "# Get optimized models' scores"
   ]
  },
  {
   "cell_type": "code",
   "execution_count": 22,
   "metadata": {},
   "outputs": [],
   "source": [
    "# evaluate the model using a given test condition\n",
    "#def evaluate_model(cv, model):\n",
    "#    #pipeline\n",
    "#    steps=[('scaler',MinMaxScaler()),('model', model)]\n",
    "#    pipeline = Pipeline(steps=steps)\n",
    "#    # evaluate the model\n",
    "#    scores = cross_validate(pipeline, X, y, scoring=['accuracy','precision', 'recall'], cv=cv, n_jobs=-1)\n",
    "    # return scores\n",
    "#    return [mean(scores['test_accuracy']),mean(scores['test_precision']),mean(scores['test_recall'])]"
   ]
  },
  {
   "cell_type": "markdown",
   "metadata": {},
   "source": [
    "# Result (using best parameters)"
   ]
  },
  {
   "cell_type": "markdown",
   "metadata": {},
   "source": [
    "## Precision, Recall vs Threshold"
   ]
  },
  {
   "cell_type": "code",
   "execution_count": 23,
   "metadata": {},
   "outputs": [
    {
     "data": {
      "text/plain": [
       "0    5765\n",
       "1     529\n",
       "Name: label, dtype: int64"
      ]
     },
     "execution_count": 23,
     "metadata": {},
     "output_type": "execute_result"
    }
   ],
   "source": [
    "from sklearn.metrics import plot_precision_recall_curve\n",
    "from sklearn.metrics import plot_roc_curve\n",
    "from sklearn.metrics import precision_recall_curve\n",
    "import matplotlib.pyplot as plt\n",
    "\n",
    "train[\"label\"].value_counts()"
   ]
  },
  {
   "cell_type": "code",
   "execution_count": null,
   "metadata": {},
   "outputs": [],
   "source": []
  },
  {
   "cell_type": "code",
   "execution_count": 31,
   "metadata": {},
   "outputs": [
    {
     "data": {
      "text/plain": [
       "LogisticRegression(C=0.1, max_iter=2000)"
      ]
     },
     "execution_count": 31,
     "metadata": {},
     "output_type": "execute_result"
    }
   ],
   "source": [
    "#log\n",
    "X_test = test.drop([\"label\"],1)\n",
    "y_test = test[\"label\"]\n",
    "\n",
    "log = LogisticRegression(C=0.1, max_iter=2000)\n",
    "\n",
    "log.fit(X_train, y_train)\n",
    "\n",
    "#plot_precision_recall_curve(log, X_test, y_test)"
   ]
  },
  {
   "cell_type": "code",
   "execution_count": 32,
   "metadata": {},
   "outputs": [
    {
     "data": {
      "image/png": "[encoded data removed]",
      "text/plain": [
       "<Figure size 432x288 with 1 Axes>"
      ]
     },
     "metadata": {
      "needs_background": "light"
     },
     "output_type": "display_data"
    }
   ],
   "source": [
    "y_scores=log.predict_proba(X_test)\n",
    "prec, rec, tre = precision_recall_curve(y_test, y_scores[:,1])\n",
    "plt.plot(tre, prec[:-1], linestyle='--', label='Precision')\n",
    "plt.plot(tre, rec[:-1], linestyle='--', color = 'b', label='Recall')\n",
    "plt.xlabel(\"Threshold\")\n",
    "plt.ylabel(\"Scores\")\n",
    "plt.legend()\n",
    "plt.show()"
   ]
  },
  {
   "cell_type": "code",
   "execution_count": 26,
   "metadata": {},
   "outputs": [
    {
     "data": {
      "image/png": "[encoded data removed]",
      "text/plain": [
       "<Figure size 432x288 with 1 Axes>"
      ]
     },
     "metadata": {
      "needs_background": "light"
     },
     "output_type": "display_data"
    }
   ],
   "source": [
    "#forest; grid search 2 vars\n",
    "classifier = RandomForestClassifier(n_estimators=500, max_depth=70)\n",
    "classifier.fit(X_train, y_train)\n",
    "#plot_precision_recall_curve(classifier, X_test, y_test)\n",
    "y_scores=classifier.predict_proba(X_test)\n",
    "prec, rec, tre = precision_recall_curve(y_test, y_scores[:,1])\n",
    "plt.plot(tre, prec[:-1], linestyle='--', label='Precision')\n",
    "plt.plot(tre, rec[:-1], linestyle='--', color = 'b', label='Recall')\n",
    "plt.xlabel(\"Threshold\")\n",
    "plt.ylabel(\"Scores\")\n",
    "plt.legend()\n",
    "plt.show()"
   ]
  },
  {
   "cell_type": "code",
   "execution_count": 27,
   "metadata": {},
   "outputs": [
    {
     "name": "stdout",
     "output_type": "stream",
     "text": [
      "WARNING:tensorflow:Falling back from v2 loop because of error: Failed to find data adapter that can handle input: <class 'pandas.core.frame.DataFrame'>, <class 'NoneType'>\n"
     ]
    },
    {
     "data": {
      "text/plain": [
       "<tensorflow.python.keras.callbacks.History at 0x7fa5ce25c2d0>"
      ]
     },
     "execution_count": 27,
     "metadata": {},
     "output_type": "execute_result"
    }
   ],
   "source": [
    "def setUpModel(n1=5, n2=5):\n",
    "    #set up and compile a model\n",
    "    model = keras.Sequential()\n",
    "    \n",
    "    model.add(layers.Dense(n1, input_dim=X_train.shape[1], activation=\"sigmoid\"))\n",
    "    model.add(layers.Dense(n2, activation=\"sigmoid\"))\n",
    "    model.add(layers.Dense(1, activation=\"sigmoid\")) #1 output layer bc of binary output\n",
    "    \n",
    "    model.compile(loss='mse',\n",
    "         optimizer = keras.optimizers.SGD(momentum=0.99, learning_rate=0.01),\n",
    "         metrics=['accuracy',\n",
    "             keras.metrics.Recall(name=\"recall\", thresholds=0.3)\n",
    "                 ])\n",
    "        \n",
    "    return model\n",
    "\n",
    "#create a scikilearn-compatible model\n",
    "Kmodel = KerasClassifier(build_fn=setUpModel, verbose=0, batch_size=1000, epochs=30)\n",
    "Kmodel.fit(X_train, y_train)\n",
    "#plot_precision_recall_curve(Kmodel, X_test, y_test)"
   ]
  },
  {
   "cell_type": "code",
   "execution_count": 28,
   "metadata": {},
   "outputs": [
    {
     "name": "stdout",
     "output_type": "stream",
     "text": [
      "WARNING:tensorflow:Falling back from v2 loop because of error: Failed to find data adapter that can handle input: <class 'pandas.core.frame.DataFrame'>, <class 'NoneType'>\n"
     ]
    },
    {
     "data": {
      "image/png": "[encoded data removed]",
      "text/plain": [
       "<Figure size 432x288 with 1 Axes>"
      ]
     },
     "metadata": {
      "needs_background": "light"
     },
     "output_type": "display_data"
    }
   ],
   "source": [
    "y_scores=Kmodel.predict_proba(X_test)\n",
    "prec, rec, tre = precision_recall_curve(y_test, y_scores[:,1])\n",
    "plt.plot(tre, prec[:-1], linestyle='--', label='Precision')\n",
    "plt.plot(tre, rec[:-1], linestyle='--', color = 'b', label='Recall')\n",
    "plt.xlabel(\"Threshold\")\n",
    "plt.ylabel(\"Scores\")\n",
    "plt.legend()\n",
    "plt.show()"
   ]
  },
  {
   "cell_type": "code",
   "execution_count": 29,
   "metadata": {},
   "outputs": [
    {
     "data": {
      "text/plain": [
       "array([0.07901603, 0.07870198, 0.07873134, ..., 0.5       , 0.        ,\n",
       "       1.        ])"
      ]
     },
     "execution_count": 29,
     "metadata": {},
     "output_type": "execute_result"
    }
   ],
   "source": [
    "prec"
   ]
  },
  {
   "cell_type": "code",
   "execution_count": 30,
   "metadata": {},
   "outputs": [
    {
     "data": {
      "text/plain": [
       "[<matplotlib.lines.Line2D at 0x7fa5f0011610>]"
      ]
     },
     "execution_count": 30,
     "metadata": {},
     "output_type": "execute_result"
    },
    {
     "data": {
      "image/png": "[encoded data removed]",
      "text/plain": [
       "<Figure size 432x288 with 1 Axes>"
      ]
     },
     "metadata": {
      "needs_background": "light"
     },
     "output_type": "display_data"
    }
   ],
   "source": [
    "plt.plot(rec,prec )"
   ]
  },
  {
   "cell_type": "markdown",
   "metadata": {},
   "source": [
    "## ROC"
   ]
  },
  {
   "cell_type": "code",
   "execution_count": null,
   "metadata": {},
   "outputs": [],
   "source": []
  },
  {
   "cell_type": "code",
   "execution_count": null,
   "metadata": {},
   "outputs": [],
   "source": []
  }
 ],
 "metadata": {
  "kernelspec": {
   "display_name": "Python 3",
   "language": "python",
   "name": "python3"
  },
  "language_info": {
   "codemirror_mode": {
    "name": "ipython",
    "version": 3
   },
   "file_extension": ".py",
   "mimetype": "text/x-python",
   "name": "python",
   "nbconvert_exporter": "python",
   "pygments_lexer": "ipython3",
   "version": "3.8.5"
  }
 },
 "nbformat": 4,
 "nbformat_minor": 4
}
