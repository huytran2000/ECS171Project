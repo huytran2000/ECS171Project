{
 "cells": [
  {
   "cell_type": "code",
   "execution_count": 4,
   "metadata": {
    "id": "IfmzADaFGKOt"
   },
   "outputs": [],
   "source": [
    "import pandas as pd\n",
    "import numpy as np\n",
    "import matplotlib.pyplot as plt \n",
    "import seaborn as sns\n",
    "from sklearn.ensemble import IsolationForest\n",
    "from sklearn.neighbors import LocalOutlierFactor\n",
    "from sklearn.model_selection import validation_curve\n",
    "from sklearn.linear_model import LogisticRegression\n",
    "from sklearn.model_selection import train_test_split\n",
    "from sklearn.metrics import precision_score, recall_score\n",
    "#from sklearn.metrics import mean_squared_error\n",
    "from sklearn.ensemble import RandomForestClassifier\n",
    "\n",
    "# preliminary testing shows outlier DN affect perf much -> we'll ignore it here"
   ]
  },
  {
   "cell_type": "code",
   "execution_count": 5,
   "metadata": {
    "id": "flGRzxNWGKO9"
   },
   "outputs": [],
   "source": [
    "colNames = list(range(1024))\n",
    "colNames.append(\"label\")\n",
    "df = pd.read_csv('../qsar_oral_toxicity.csv', sep=';',names=colNames)"
   ]
  },
  {
   "cell_type": "code",
   "execution_count": 6,
   "metadata": {
    "colab": {
     "base_uri": "https://localhost:8080/",
     "height": 253
    },
    "id": "WUTCTDOgGKO-",
    "outputId": "6f0eb0d5-a0fa-4ff5-c978-810d22d65444"
   },
   "outputs": [
    {
     "data": {
      "text/html": [
       "<div>\n",
       "<style scoped>\n",
       "    .dataframe tbody tr th:only-of-type {\n",
       "        vertical-align: middle;\n",
       "    }\n",
       "\n",
       "    .dataframe tbody tr th {\n",
       "        vertical-align: top;\n",
       "    }\n",
       "\n",
       "    .dataframe thead th {\n",
       "        text-align: right;\n",
       "    }\n",
       "</style>\n",
       "<table border=\"1\" class=\"dataframe\">\n",
       "  <thead>\n",
       "    <tr style=\"text-align: right;\">\n",
       "      <th></th>\n",
       "      <th>0</th>\n",
       "      <th>1</th>\n",
       "      <th>2</th>\n",
       "      <th>3</th>\n",
       "      <th>4</th>\n",
       "      <th>5</th>\n",
       "      <th>6</th>\n",
       "      <th>7</th>\n",
       "      <th>8</th>\n",
       "      <th>9</th>\n",
       "      <th>...</th>\n",
       "      <th>1015</th>\n",
       "      <th>1016</th>\n",
       "      <th>1017</th>\n",
       "      <th>1018</th>\n",
       "      <th>1019</th>\n",
       "      <th>1020</th>\n",
       "      <th>1021</th>\n",
       "      <th>1022</th>\n",
       "      <th>1023</th>\n",
       "      <th>label</th>\n",
       "    </tr>\n",
       "  </thead>\n",
       "  <tbody>\n",
       "    <tr>\n",
       "      <th>0</th>\n",
       "      <td>0</td>\n",
       "      <td>0</td>\n",
       "      <td>0</td>\n",
       "      <td>0</td>\n",
       "      <td>0</td>\n",
       "      <td>0</td>\n",
       "      <td>0</td>\n",
       "      <td>0</td>\n",
       "      <td>0</td>\n",
       "      <td>0</td>\n",
       "      <td>...</td>\n",
       "      <td>0</td>\n",
       "      <td>0</td>\n",
       "      <td>0</td>\n",
       "      <td>0</td>\n",
       "      <td>0</td>\n",
       "      <td>0</td>\n",
       "      <td>0</td>\n",
       "      <td>0</td>\n",
       "      <td>0</td>\n",
       "      <td>negative</td>\n",
       "    </tr>\n",
       "    <tr>\n",
       "      <th>1</th>\n",
       "      <td>0</td>\n",
       "      <td>0</td>\n",
       "      <td>1</td>\n",
       "      <td>0</td>\n",
       "      <td>0</td>\n",
       "      <td>0</td>\n",
       "      <td>0</td>\n",
       "      <td>0</td>\n",
       "      <td>0</td>\n",
       "      <td>0</td>\n",
       "      <td>...</td>\n",
       "      <td>0</td>\n",
       "      <td>0</td>\n",
       "      <td>0</td>\n",
       "      <td>0</td>\n",
       "      <td>0</td>\n",
       "      <td>0</td>\n",
       "      <td>0</td>\n",
       "      <td>0</td>\n",
       "      <td>0</td>\n",
       "      <td>negative</td>\n",
       "    </tr>\n",
       "    <tr>\n",
       "      <th>2</th>\n",
       "      <td>0</td>\n",
       "      <td>0</td>\n",
       "      <td>0</td>\n",
       "      <td>0</td>\n",
       "      <td>0</td>\n",
       "      <td>0</td>\n",
       "      <td>0</td>\n",
       "      <td>0</td>\n",
       "      <td>0</td>\n",
       "      <td>0</td>\n",
       "      <td>...</td>\n",
       "      <td>0</td>\n",
       "      <td>0</td>\n",
       "      <td>1</td>\n",
       "      <td>0</td>\n",
       "      <td>0</td>\n",
       "      <td>0</td>\n",
       "      <td>0</td>\n",
       "      <td>0</td>\n",
       "      <td>0</td>\n",
       "      <td>negative</td>\n",
       "    </tr>\n",
       "    <tr>\n",
       "      <th>3</th>\n",
       "      <td>0</td>\n",
       "      <td>0</td>\n",
       "      <td>0</td>\n",
       "      <td>0</td>\n",
       "      <td>0</td>\n",
       "      <td>0</td>\n",
       "      <td>0</td>\n",
       "      <td>1</td>\n",
       "      <td>0</td>\n",
       "      <td>0</td>\n",
       "      <td>...</td>\n",
       "      <td>0</td>\n",
       "      <td>0</td>\n",
       "      <td>0</td>\n",
       "      <td>0</td>\n",
       "      <td>0</td>\n",
       "      <td>0</td>\n",
       "      <td>0</td>\n",
       "      <td>0</td>\n",
       "      <td>0</td>\n",
       "      <td>negative</td>\n",
       "    </tr>\n",
       "    <tr>\n",
       "      <th>4</th>\n",
       "      <td>0</td>\n",
       "      <td>0</td>\n",
       "      <td>0</td>\n",
       "      <td>0</td>\n",
       "      <td>0</td>\n",
       "      <td>0</td>\n",
       "      <td>0</td>\n",
       "      <td>0</td>\n",
       "      <td>0</td>\n",
       "      <td>0</td>\n",
       "      <td>...</td>\n",
       "      <td>0</td>\n",
       "      <td>0</td>\n",
       "      <td>0</td>\n",
       "      <td>0</td>\n",
       "      <td>0</td>\n",
       "      <td>0</td>\n",
       "      <td>0</td>\n",
       "      <td>0</td>\n",
       "      <td>0</td>\n",
       "      <td>negative</td>\n",
       "    </tr>\n",
       "  </tbody>\n",
       "</table>\n",
       "<p>5 rows × 1025 columns</p>\n",
       "</div>"
      ],
      "text/plain": [
       "   0  1  2  3  4  5  6  7  8  9  ...  1015  1016  1017  1018  1019  1020  \\\n",
       "0  0  0  0  0  0  0  0  0  0  0  ...     0     0     0     0     0     0   \n",
       "1  0  0  1  0  0  0  0  0  0  0  ...     0     0     0     0     0     0   \n",
       "2  0  0  0  0  0  0  0  0  0  0  ...     0     0     1     0     0     0   \n",
       "3  0  0  0  0  0  0  0  1  0  0  ...     0     0     0     0     0     0   \n",
       "4  0  0  0  0  0  0  0  0  0  0  ...     0     0     0     0     0     0   \n",
       "\n",
       "   1021  1022  1023     label  \n",
       "0     0     0     0  negative  \n",
       "1     0     0     0  negative  \n",
       "2     0     0     0  negative  \n",
       "3     0     0     0  negative  \n",
       "4     0     0     0  negative  \n",
       "\n",
       "[5 rows x 1025 columns]"
      ]
     },
     "execution_count": 6,
     "metadata": {},
     "output_type": "execute_result"
    }
   ],
   "source": [
    "df.head()"
   ]
  },
  {
   "cell_type": "code",
   "execution_count": 7,
   "metadata": {},
   "outputs": [
    {
     "data": {
      "text/plain": [
       "(8992, 1025)"
      ]
     },
     "execution_count": 7,
     "metadata": {},
     "output_type": "execute_result"
    }
   ],
   "source": [
    "df.shape"
   ]
  },
  {
   "cell_type": "code",
   "execution_count": 8,
   "metadata": {
    "colab": {
     "base_uri": "https://localhost:8080/"
    },
    "id": "g9eR7DWmGKPH",
    "outputId": "b04efd73-ebf4-4204-cc9d-e606d9ba4caa"
   },
   "outputs": [
    {
     "name": "stdout",
     "output_type": "stream",
     "text": [
      "<class 'pandas.core.frame.DataFrame'>\n",
      "RangeIndex: 8992 entries, 0 to 8991\n",
      "Columns: 1025 entries, 0 to label\n",
      "dtypes: int64(1024), object(1)\n",
      "memory usage: 70.3+ MB\n"
     ]
    },
    {
     "data": {
      "text/plain": [
       "0         int64\n",
       "1         int64\n",
       "2         int64\n",
       "3         int64\n",
       "4         int64\n",
       "          ...  \n",
       "1020      int64\n",
       "1021      int64\n",
       "1022      int64\n",
       "1023      int64\n",
       "label    object\n",
       "Length: 1025, dtype: object"
      ]
     },
     "execution_count": 8,
     "metadata": {},
     "output_type": "execute_result"
    }
   ],
   "source": [
    "#checking if values are valid\n",
    "df.info()\n",
    "df.dtypes"
   ]
  },
  {
   "cell_type": "code",
   "execution_count": 9,
   "metadata": {
    "id": "VjCG_nKzGKPK"
   },
   "outputs": [],
   "source": [
    "#label 1 is positive; otherwise negative\n",
    "df = pd.get_dummies(df)\n",
    "df.drop(\"label_negative\",1,inplace=True)\n",
    "df = df.rename({\"label_positive\":\"label\"},axis=1)"
   ]
  },
  {
   "cell_type": "code",
   "execution_count": null,
   "metadata": {
    "colab": {
     "base_uri": "https://localhost:8080/"
    },
    "id": "Ol0ONnLfGKPL",
    "outputId": "5b49107b-cf65-46d9-9713-b77a95103c1d"
   },
   "outputs": [
    {
     "data": {
      "text/plain": [
       "(741, 1025)"
      ]
     },
     "execution_count": 7,
     "metadata": {
      "tags": []
     },
     "output_type": "execute_result"
    }
   ],
   "source": [
    "df[df[\"label\"]==1].shape\n",
    "#according to paper's table, this means we have VT data, with ECFP_1024_02 or ECFP_1024_02R"
   ]
  },
  {
   "cell_type": "code",
   "execution_count": null,
   "metadata": {
    "colab": {
     "base_uri": "https://localhost:8080/"
    },
    "id": "EBA962M4GKPQ",
    "outputId": "8c91097a-1e6e-493e-c819-1f68befac0f0"
   },
   "outputs": [
    {
     "name": "stdout",
     "output_type": "stream",
     "text": [
      "<class 'pandas.core.frame.DataFrame'>\n",
      "RangeIndex: 8992 entries, 0 to 8991\n",
      "Columns: 1025 entries, 0 to label\n",
      "dtypes: int64(1024), uint8(1)\n",
      "memory usage: 70.3 MB\n"
     ]
    }
   ],
   "source": [
    "df.info()"
   ]
  },
  {
   "cell_type": "code",
   "execution_count": null,
   "metadata": {
    "colab": {
     "base_uri": "https://localhost:8080/"
    },
    "id": "C1Q1HYW4GKPQ",
    "outputId": "c50de290-6b74-4486-9fee-f29276d8cf9c"
   },
   "outputs": [
    {
     "data": {
      "text/plain": [
       "0    8251\n",
       "1     741\n",
       "Name: label, dtype: int64"
      ]
     },
     "execution_count": 9,
     "metadata": {
      "tags": []
     },
     "output_type": "execute_result"
    }
   ],
   "source": [
    "df[\"label\"].value_counts()"
   ]
  },
  {
   "cell_type": "markdown",
   "metadata": {
    "id": "OXwdHuwoGKPS"
   },
   "source": [
    "# Dimensionality reduction using corr map"
   ]
  },
  {
   "cell_type": "code",
   "execution_count": null,
   "metadata": {
    "colab": {
     "base_uri": "https://localhost:8080/",
     "height": 439
    },
    "id": "q4DeP-QRGKPZ",
    "outputId": "ad6c4020-5189-46e9-aecd-2b1d4bcfb407"
   },
   "outputs": [
    {
     "data": {
      "text/html": [
       "<div>\n",
       "<style scoped>\n",
       "    .dataframe tbody tr th:only-of-type {\n",
       "        vertical-align: middle;\n",
       "    }\n",
       "\n",
       "    .dataframe tbody tr th {\n",
       "        vertical-align: top;\n",
       "    }\n",
       "\n",
       "    .dataframe thead th {\n",
       "        text-align: right;\n",
       "    }\n",
       "</style>\n",
       "<table border=\"1\" class=\"dataframe\">\n",
       "  <thead>\n",
       "    <tr style=\"text-align: right;\">\n",
       "      <th></th>\n",
       "      <th>0</th>\n",
       "      <th>1</th>\n",
       "      <th>2</th>\n",
       "      <th>3</th>\n",
       "      <th>4</th>\n",
       "      <th>5</th>\n",
       "      <th>6</th>\n",
       "      <th>7</th>\n",
       "      <th>8</th>\n",
       "      <th>9</th>\n",
       "      <th>10</th>\n",
       "      <th>11</th>\n",
       "      <th>12</th>\n",
       "      <th>13</th>\n",
       "      <th>14</th>\n",
       "      <th>15</th>\n",
       "      <th>16</th>\n",
       "      <th>17</th>\n",
       "      <th>18</th>\n",
       "      <th>19</th>\n",
       "      <th>20</th>\n",
       "      <th>21</th>\n",
       "      <th>22</th>\n",
       "      <th>23</th>\n",
       "      <th>24</th>\n",
       "      <th>25</th>\n",
       "      <th>26</th>\n",
       "      <th>27</th>\n",
       "      <th>28</th>\n",
       "      <th>29</th>\n",
       "      <th>30</th>\n",
       "      <th>31</th>\n",
       "      <th>32</th>\n",
       "      <th>33</th>\n",
       "      <th>34</th>\n",
       "      <th>35</th>\n",
       "      <th>36</th>\n",
       "      <th>37</th>\n",
       "      <th>38</th>\n",
       "      <th>39</th>\n",
       "      <th>...</th>\n",
       "      <th>985</th>\n",
       "      <th>986</th>\n",
       "      <th>987</th>\n",
       "      <th>988</th>\n",
       "      <th>989</th>\n",
       "      <th>990</th>\n",
       "      <th>991</th>\n",
       "      <th>992</th>\n",
       "      <th>993</th>\n",
       "      <th>994</th>\n",
       "      <th>995</th>\n",
       "      <th>996</th>\n",
       "      <th>997</th>\n",
       "      <th>998</th>\n",
       "      <th>999</th>\n",
       "      <th>1000</th>\n",
       "      <th>1001</th>\n",
       "      <th>1002</th>\n",
       "      <th>1003</th>\n",
       "      <th>1004</th>\n",
       "      <th>1005</th>\n",
       "      <th>1006</th>\n",
       "      <th>1007</th>\n",
       "      <th>1008</th>\n",
       "      <th>1009</th>\n",
       "      <th>1010</th>\n",
       "      <th>1011</th>\n",
       "      <th>1012</th>\n",
       "      <th>1013</th>\n",
       "      <th>1014</th>\n",
       "      <th>1015</th>\n",
       "      <th>1016</th>\n",
       "      <th>1017</th>\n",
       "      <th>1018</th>\n",
       "      <th>1019</th>\n",
       "      <th>1020</th>\n",
       "      <th>1021</th>\n",
       "      <th>1022</th>\n",
       "      <th>1023</th>\n",
       "      <th>label</th>\n",
       "    </tr>\n",
       "  </thead>\n",
       "  <tbody>\n",
       "    <tr>\n",
       "      <th>0</th>\n",
       "      <td>1.000000</td>\n",
       "      <td>-0.022492</td>\n",
       "      <td>-0.042534</td>\n",
       "      <td>0.027393</td>\n",
       "      <td>-0.007580</td>\n",
       "      <td>-0.029552</td>\n",
       "      <td>0.025832</td>\n",
       "      <td>0.113414</td>\n",
       "      <td>0.089892</td>\n",
       "      <td>0.009939</td>\n",
       "      <td>0.115141</td>\n",
       "      <td>-0.009674</td>\n",
       "      <td>0.168576</td>\n",
       "      <td>0.011919</td>\n",
       "      <td>-0.048482</td>\n",
       "      <td>0.279227</td>\n",
       "      <td>0.318407</td>\n",
       "      <td>0.017465</td>\n",
       "      <td>0.020755</td>\n",
       "      <td>0.041678</td>\n",
       "      <td>0.011413</td>\n",
       "      <td>-0.006701</td>\n",
       "      <td>0.013618</td>\n",
       "      <td>0.123604</td>\n",
       "      <td>0.061193</td>\n",
       "      <td>0.069034</td>\n",
       "      <td>0.086197</td>\n",
       "      <td>0.099963</td>\n",
       "      <td>-0.020414</td>\n",
       "      <td>0.016215</td>\n",
       "      <td>0.043148</td>\n",
       "      <td>0.046193</td>\n",
       "      <td>-0.013538</td>\n",
       "      <td>0.096510</td>\n",
       "      <td>0.014719</td>\n",
       "      <td>0.037900</td>\n",
       "      <td>0.010000</td>\n",
       "      <td>-0.021880</td>\n",
       "      <td>0.370257</td>\n",
       "      <td>0.024299</td>\n",
       "      <td>...</td>\n",
       "      <td>-0.037026</td>\n",
       "      <td>-0.010999</td>\n",
       "      <td>-0.004352</td>\n",
       "      <td>0.044612</td>\n",
       "      <td>0.063260</td>\n",
       "      <td>0.075113</td>\n",
       "      <td>0.002390</td>\n",
       "      <td>0.067835</td>\n",
       "      <td>0.079224</td>\n",
       "      <td>0.115557</td>\n",
       "      <td>-0.074503</td>\n",
       "      <td>0.003279</td>\n",
       "      <td>-0.011516</td>\n",
       "      <td>0.023447</td>\n",
       "      <td>0.023662</td>\n",
       "      <td>0.057418</td>\n",
       "      <td>-0.011364</td>\n",
       "      <td>0.087672</td>\n",
       "      <td>0.097461</td>\n",
       "      <td>0.098068</td>\n",
       "      <td>-0.004462</td>\n",
       "      <td>0.081945</td>\n",
       "      <td>-0.018111</td>\n",
       "      <td>0.103853</td>\n",
       "      <td>0.056558</td>\n",
       "      <td>0.034392</td>\n",
       "      <td>-0.022213</td>\n",
       "      <td>0.013126</td>\n",
       "      <td>0.049442</td>\n",
       "      <td>0.055422</td>\n",
       "      <td>0.016598</td>\n",
       "      <td>0.019205</td>\n",
       "      <td>0.005303</td>\n",
       "      <td>0.019321</td>\n",
       "      <td>-0.005535</td>\n",
       "      <td>0.034860</td>\n",
       "      <td>-0.027423</td>\n",
       "      <td>-0.012507</td>\n",
       "      <td>0.112294</td>\n",
       "      <td>-0.045251</td>\n",
       "    </tr>\n",
       "    <tr>\n",
       "      <th>1</th>\n",
       "      <td>-0.022492</td>\n",
       "      <td>1.000000</td>\n",
       "      <td>-0.009623</td>\n",
       "      <td>0.017658</td>\n",
       "      <td>0.000012</td>\n",
       "      <td>0.210397</td>\n",
       "      <td>0.041014</td>\n",
       "      <td>-0.010899</td>\n",
       "      <td>0.044065</td>\n",
       "      <td>0.038704</td>\n",
       "      <td>0.002347</td>\n",
       "      <td>0.053103</td>\n",
       "      <td>0.061304</td>\n",
       "      <td>-0.021335</td>\n",
       "      <td>0.045725</td>\n",
       "      <td>0.000341</td>\n",
       "      <td>-0.071170</td>\n",
       "      <td>-0.007038</td>\n",
       "      <td>-0.005735</td>\n",
       "      <td>0.232404</td>\n",
       "      <td>0.018262</td>\n",
       "      <td>0.305335</td>\n",
       "      <td>0.107131</td>\n",
       "      <td>0.010817</td>\n",
       "      <td>-0.021382</td>\n",
       "      <td>0.008543</td>\n",
       "      <td>-0.003697</td>\n",
       "      <td>0.076075</td>\n",
       "      <td>-0.013658</td>\n",
       "      <td>0.001401</td>\n",
       "      <td>-0.006789</td>\n",
       "      <td>-0.019584</td>\n",
       "      <td>0.052906</td>\n",
       "      <td>0.040798</td>\n",
       "      <td>0.037878</td>\n",
       "      <td>0.009588</td>\n",
       "      <td>0.001948</td>\n",
       "      <td>0.027367</td>\n",
       "      <td>-0.018149</td>\n",
       "      <td>0.006943</td>\n",
       "      <td>...</td>\n",
       "      <td>0.088374</td>\n",
       "      <td>0.012707</td>\n",
       "      <td>0.000151</td>\n",
       "      <td>0.018663</td>\n",
       "      <td>-0.045930</td>\n",
       "      <td>0.009665</td>\n",
       "      <td>0.039609</td>\n",
       "      <td>0.032960</td>\n",
       "      <td>0.066927</td>\n",
       "      <td>0.022265</td>\n",
       "      <td>0.007917</td>\n",
       "      <td>0.095065</td>\n",
       "      <td>-0.014805</td>\n",
       "      <td>0.021740</td>\n",
       "      <td>0.130800</td>\n",
       "      <td>0.052079</td>\n",
       "      <td>0.013386</td>\n",
       "      <td>0.010813</td>\n",
       "      <td>0.007948</td>\n",
       "      <td>0.093975</td>\n",
       "      <td>0.042317</td>\n",
       "      <td>0.274858</td>\n",
       "      <td>-0.030339</td>\n",
       "      <td>0.025566</td>\n",
       "      <td>0.101088</td>\n",
       "      <td>0.257294</td>\n",
       "      <td>0.037455</td>\n",
       "      <td>-0.011177</td>\n",
       "      <td>-0.021554</td>\n",
       "      <td>0.001567</td>\n",
       "      <td>0.010822</td>\n",
       "      <td>-0.001660</td>\n",
       "      <td>-0.027110</td>\n",
       "      <td>-0.015061</td>\n",
       "      <td>0.003191</td>\n",
       "      <td>-0.004363</td>\n",
       "      <td>0.020537</td>\n",
       "      <td>0.060108</td>\n",
       "      <td>0.013688</td>\n",
       "      <td>0.022991</td>\n",
       "    </tr>\n",
       "    <tr>\n",
       "      <th>2</th>\n",
       "      <td>-0.042534</td>\n",
       "      <td>-0.009623</td>\n",
       "      <td>1.000000</td>\n",
       "      <td>-0.016200</td>\n",
       "      <td>-0.001773</td>\n",
       "      <td>-0.039329</td>\n",
       "      <td>0.007918</td>\n",
       "      <td>-0.046407</td>\n",
       "      <td>-0.001969</td>\n",
       "      <td>-0.002429</td>\n",
       "      <td>-0.027322</td>\n",
       "      <td>0.042837</td>\n",
       "      <td>0.011967</td>\n",
       "      <td>-0.064073</td>\n",
       "      <td>-0.025287</td>\n",
       "      <td>-0.080187</td>\n",
       "      <td>-0.114769</td>\n",
       "      <td>-0.002625</td>\n",
       "      <td>0.039907</td>\n",
       "      <td>-0.013012</td>\n",
       "      <td>-0.033709</td>\n",
       "      <td>-0.030980</td>\n",
       "      <td>-0.025777</td>\n",
       "      <td>-0.015972</td>\n",
       "      <td>-0.006974</td>\n",
       "      <td>0.005849</td>\n",
       "      <td>-0.021622</td>\n",
       "      <td>0.035592</td>\n",
       "      <td>0.007909</td>\n",
       "      <td>0.038650</td>\n",
       "      <td>0.030586</td>\n",
       "      <td>-0.029169</td>\n",
       "      <td>-0.003794</td>\n",
       "      <td>-0.018909</td>\n",
       "      <td>0.008421</td>\n",
       "      <td>0.009460</td>\n",
       "      <td>-0.023567</td>\n",
       "      <td>-0.019439</td>\n",
       "      <td>-0.023873</td>\n",
       "      <td>-0.027021</td>\n",
       "      <td>...</td>\n",
       "      <td>-0.057533</td>\n",
       "      <td>-0.011211</td>\n",
       "      <td>-0.003749</td>\n",
       "      <td>-0.013451</td>\n",
       "      <td>0.008706</td>\n",
       "      <td>-0.034091</td>\n",
       "      <td>0.002338</td>\n",
       "      <td>0.011244</td>\n",
       "      <td>-0.033494</td>\n",
       "      <td>-0.020746</td>\n",
       "      <td>0.076010</td>\n",
       "      <td>-0.004388</td>\n",
       "      <td>-0.032110</td>\n",
       "      <td>-0.007926</td>\n",
       "      <td>0.039633</td>\n",
       "      <td>-0.000606</td>\n",
       "      <td>0.018387</td>\n",
       "      <td>-0.029435</td>\n",
       "      <td>-0.023110</td>\n",
       "      <td>-0.027710</td>\n",
       "      <td>0.044463</td>\n",
       "      <td>-0.010942</td>\n",
       "      <td>-0.027224</td>\n",
       "      <td>-0.012165</td>\n",
       "      <td>0.049845</td>\n",
       "      <td>-0.029711</td>\n",
       "      <td>0.085438</td>\n",
       "      <td>-0.016328</td>\n",
       "      <td>-0.012367</td>\n",
       "      <td>-0.016034</td>\n",
       "      <td>0.297159</td>\n",
       "      <td>-0.014790</td>\n",
       "      <td>-0.007804</td>\n",
       "      <td>-0.039886</td>\n",
       "      <td>0.035943</td>\n",
       "      <td>0.007165</td>\n",
       "      <td>-0.013458</td>\n",
       "      <td>0.012447</td>\n",
       "      <td>0.014993</td>\n",
       "      <td>0.062461</td>\n",
       "    </tr>\n",
       "    <tr>\n",
       "      <th>3</th>\n",
       "      <td>0.027393</td>\n",
       "      <td>0.017658</td>\n",
       "      <td>-0.016200</td>\n",
       "      <td>1.000000</td>\n",
       "      <td>0.038395</td>\n",
       "      <td>0.013307</td>\n",
       "      <td>0.026514</td>\n",
       "      <td>0.093829</td>\n",
       "      <td>0.004583</td>\n",
       "      <td>-0.005713</td>\n",
       "      <td>0.006269</td>\n",
       "      <td>0.057098</td>\n",
       "      <td>0.024677</td>\n",
       "      <td>0.012179</td>\n",
       "      <td>0.029725</td>\n",
       "      <td>0.098908</td>\n",
       "      <td>0.048709</td>\n",
       "      <td>-0.018395</td>\n",
       "      <td>0.024205</td>\n",
       "      <td>0.031408</td>\n",
       "      <td>-0.002194</td>\n",
       "      <td>-0.004199</td>\n",
       "      <td>-0.011007</td>\n",
       "      <td>0.104093</td>\n",
       "      <td>-0.005657</td>\n",
       "      <td>0.005273</td>\n",
       "      <td>0.031050</td>\n",
       "      <td>0.062594</td>\n",
       "      <td>-0.012110</td>\n",
       "      <td>-0.000662</td>\n",
       "      <td>-0.014740</td>\n",
       "      <td>0.030026</td>\n",
       "      <td>0.011633</td>\n",
       "      <td>0.036778</td>\n",
       "      <td>-0.003464</td>\n",
       "      <td>-0.018492</td>\n",
       "      <td>0.001620</td>\n",
       "      <td>0.022456</td>\n",
       "      <td>0.037964</td>\n",
       "      <td>-0.013657</td>\n",
       "      <td>...</td>\n",
       "      <td>0.009081</td>\n",
       "      <td>0.015174</td>\n",
       "      <td>0.038069</td>\n",
       "      <td>0.060536</td>\n",
       "      <td>-0.023270</td>\n",
       "      <td>-0.004984</td>\n",
       "      <td>0.015683</td>\n",
       "      <td>0.004921</td>\n",
       "      <td>0.040395</td>\n",
       "      <td>0.064344</td>\n",
       "      <td>0.008434</td>\n",
       "      <td>0.038483</td>\n",
       "      <td>0.021152</td>\n",
       "      <td>-0.004857</td>\n",
       "      <td>-0.019131</td>\n",
       "      <td>0.011970</td>\n",
       "      <td>-0.000433</td>\n",
       "      <td>0.014068</td>\n",
       "      <td>0.005763</td>\n",
       "      <td>0.024766</td>\n",
       "      <td>0.000724</td>\n",
       "      <td>-0.003326</td>\n",
       "      <td>0.055495</td>\n",
       "      <td>-0.021532</td>\n",
       "      <td>0.010967</td>\n",
       "      <td>0.031540</td>\n",
       "      <td>0.007768</td>\n",
       "      <td>0.076753</td>\n",
       "      <td>-0.004515</td>\n",
       "      <td>-0.002168</td>\n",
       "      <td>0.066144</td>\n",
       "      <td>0.009649</td>\n",
       "      <td>0.074674</td>\n",
       "      <td>-0.003916</td>\n",
       "      <td>-0.015626</td>\n",
       "      <td>0.001663</td>\n",
       "      <td>0.001954</td>\n",
       "      <td>0.001232</td>\n",
       "      <td>0.038928</td>\n",
       "      <td>0.072691</td>\n",
       "    </tr>\n",
       "    <tr>\n",
       "      <th>4</th>\n",
       "      <td>-0.007580</td>\n",
       "      <td>0.000012</td>\n",
       "      <td>-0.001773</td>\n",
       "      <td>0.038395</td>\n",
       "      <td>1.000000</td>\n",
       "      <td>0.036584</td>\n",
       "      <td>0.028291</td>\n",
       "      <td>-0.007370</td>\n",
       "      <td>-0.016316</td>\n",
       "      <td>0.000537</td>\n",
       "      <td>0.020565</td>\n",
       "      <td>0.025483</td>\n",
       "      <td>0.029741</td>\n",
       "      <td>0.033720</td>\n",
       "      <td>-0.029806</td>\n",
       "      <td>0.041797</td>\n",
       "      <td>0.003227</td>\n",
       "      <td>0.008669</td>\n",
       "      <td>0.002989</td>\n",
       "      <td>0.042908</td>\n",
       "      <td>-0.012199</td>\n",
       "      <td>0.009833</td>\n",
       "      <td>-0.018400</td>\n",
       "      <td>0.061854</td>\n",
       "      <td>-0.011105</td>\n",
       "      <td>0.058402</td>\n",
       "      <td>0.038474</td>\n",
       "      <td>0.043774</td>\n",
       "      <td>-0.015769</td>\n",
       "      <td>0.011787</td>\n",
       "      <td>-0.017070</td>\n",
       "      <td>0.005812</td>\n",
       "      <td>0.009050</td>\n",
       "      <td>0.057005</td>\n",
       "      <td>0.014601</td>\n",
       "      <td>0.025761</td>\n",
       "      <td>0.037074</td>\n",
       "      <td>0.000014</td>\n",
       "      <td>0.001118</td>\n",
       "      <td>0.036882</td>\n",
       "      <td>...</td>\n",
       "      <td>-0.003177</td>\n",
       "      <td>0.037173</td>\n",
       "      <td>0.004403</td>\n",
       "      <td>-0.004410</td>\n",
       "      <td>-0.005273</td>\n",
       "      <td>0.001338</td>\n",
       "      <td>0.012216</td>\n",
       "      <td>-0.001733</td>\n",
       "      <td>0.013333</td>\n",
       "      <td>0.048692</td>\n",
       "      <td>0.026045</td>\n",
       "      <td>0.023701</td>\n",
       "      <td>0.057425</td>\n",
       "      <td>0.020505</td>\n",
       "      <td>-0.010621</td>\n",
       "      <td>0.009783</td>\n",
       "      <td>-0.005290</td>\n",
       "      <td>0.027324</td>\n",
       "      <td>-0.003342</td>\n",
       "      <td>0.023867</td>\n",
       "      <td>0.010288</td>\n",
       "      <td>0.003645</td>\n",
       "      <td>0.042117</td>\n",
       "      <td>-0.000478</td>\n",
       "      <td>-0.005243</td>\n",
       "      <td>0.030414</td>\n",
       "      <td>0.017828</td>\n",
       "      <td>0.007246</td>\n",
       "      <td>0.009636</td>\n",
       "      <td>0.031682</td>\n",
       "      <td>-0.018131</td>\n",
       "      <td>0.001267</td>\n",
       "      <td>0.042962</td>\n",
       "      <td>0.028599</td>\n",
       "      <td>-0.015375</td>\n",
       "      <td>0.001683</td>\n",
       "      <td>0.013151</td>\n",
       "      <td>-0.004197</td>\n",
       "      <td>0.066497</td>\n",
       "      <td>-0.008495</td>\n",
       "    </tr>\n",
       "    <tr>\n",
       "      <th>...</th>\n",
       "      <td>...</td>\n",
       "      <td>...</td>\n",
       "      <td>...</td>\n",
       "      <td>...</td>\n",
       "      <td>...</td>\n",
       "      <td>...</td>\n",
       "      <td>...</td>\n",
       "      <td>...</td>\n",
       "      <td>...</td>\n",
       "      <td>...</td>\n",
       "      <td>...</td>\n",
       "      <td>...</td>\n",
       "      <td>...</td>\n",
       "      <td>...</td>\n",
       "      <td>...</td>\n",
       "      <td>...</td>\n",
       "      <td>...</td>\n",
       "      <td>...</td>\n",
       "      <td>...</td>\n",
       "      <td>...</td>\n",
       "      <td>...</td>\n",
       "      <td>...</td>\n",
       "      <td>...</td>\n",
       "      <td>...</td>\n",
       "      <td>...</td>\n",
       "      <td>...</td>\n",
       "      <td>...</td>\n",
       "      <td>...</td>\n",
       "      <td>...</td>\n",
       "      <td>...</td>\n",
       "      <td>...</td>\n",
       "      <td>...</td>\n",
       "      <td>...</td>\n",
       "      <td>...</td>\n",
       "      <td>...</td>\n",
       "      <td>...</td>\n",
       "      <td>...</td>\n",
       "      <td>...</td>\n",
       "      <td>...</td>\n",
       "      <td>...</td>\n",
       "      <td>...</td>\n",
       "      <td>...</td>\n",
       "      <td>...</td>\n",
       "      <td>...</td>\n",
       "      <td>...</td>\n",
       "      <td>...</td>\n",
       "      <td>...</td>\n",
       "      <td>...</td>\n",
       "      <td>...</td>\n",
       "      <td>...</td>\n",
       "      <td>...</td>\n",
       "      <td>...</td>\n",
       "      <td>...</td>\n",
       "      <td>...</td>\n",
       "      <td>...</td>\n",
       "      <td>...</td>\n",
       "      <td>...</td>\n",
       "      <td>...</td>\n",
       "      <td>...</td>\n",
       "      <td>...</td>\n",
       "      <td>...</td>\n",
       "      <td>...</td>\n",
       "      <td>...</td>\n",
       "      <td>...</td>\n",
       "      <td>...</td>\n",
       "      <td>...</td>\n",
       "      <td>...</td>\n",
       "      <td>...</td>\n",
       "      <td>...</td>\n",
       "      <td>...</td>\n",
       "      <td>...</td>\n",
       "      <td>...</td>\n",
       "      <td>...</td>\n",
       "      <td>...</td>\n",
       "      <td>...</td>\n",
       "      <td>...</td>\n",
       "      <td>...</td>\n",
       "      <td>...</td>\n",
       "      <td>...</td>\n",
       "      <td>...</td>\n",
       "      <td>...</td>\n",
       "    </tr>\n",
       "    <tr>\n",
       "      <th>1020</th>\n",
       "      <td>0.034860</td>\n",
       "      <td>-0.004363</td>\n",
       "      <td>0.007165</td>\n",
       "      <td>0.001663</td>\n",
       "      <td>0.001683</td>\n",
       "      <td>0.007173</td>\n",
       "      <td>0.068329</td>\n",
       "      <td>-0.006439</td>\n",
       "      <td>0.008250</td>\n",
       "      <td>0.003279</td>\n",
       "      <td>-0.001227</td>\n",
       "      <td>0.005987</td>\n",
       "      <td>0.048014</td>\n",
       "      <td>-0.000182</td>\n",
       "      <td>-0.005119</td>\n",
       "      <td>0.034971</td>\n",
       "      <td>0.036957</td>\n",
       "      <td>0.025928</td>\n",
       "      <td>-0.024533</td>\n",
       "      <td>0.011778</td>\n",
       "      <td>-0.000322</td>\n",
       "      <td>0.000260</td>\n",
       "      <td>0.010704</td>\n",
       "      <td>0.037465</td>\n",
       "      <td>-0.010078</td>\n",
       "      <td>0.014802</td>\n",
       "      <td>0.051744</td>\n",
       "      <td>0.049840</td>\n",
       "      <td>0.012200</td>\n",
       "      <td>-0.004506</td>\n",
       "      <td>0.000722</td>\n",
       "      <td>0.013635</td>\n",
       "      <td>0.024588</td>\n",
       "      <td>0.011750</td>\n",
       "      <td>0.019713</td>\n",
       "      <td>0.009854</td>\n",
       "      <td>0.018085</td>\n",
       "      <td>-0.012189</td>\n",
       "      <td>0.016865</td>\n",
       "      <td>0.008835</td>\n",
       "      <td>...</td>\n",
       "      <td>-0.001669</td>\n",
       "      <td>0.030725</td>\n",
       "      <td>0.010183</td>\n",
       "      <td>0.011214</td>\n",
       "      <td>-0.006687</td>\n",
       "      <td>0.043492</td>\n",
       "      <td>-0.004496</td>\n",
       "      <td>0.037722</td>\n",
       "      <td>0.015323</td>\n",
       "      <td>0.035107</td>\n",
       "      <td>0.012596</td>\n",
       "      <td>0.006564</td>\n",
       "      <td>0.014820</td>\n",
       "      <td>0.021876</td>\n",
       "      <td>-0.005172</td>\n",
       "      <td>0.004999</td>\n",
       "      <td>0.016494</td>\n",
       "      <td>0.009434</td>\n",
       "      <td>0.035492</td>\n",
       "      <td>0.045359</td>\n",
       "      <td>0.011776</td>\n",
       "      <td>0.031170</td>\n",
       "      <td>0.061738</td>\n",
       "      <td>0.029112</td>\n",
       "      <td>-0.016966</td>\n",
       "      <td>0.046914</td>\n",
       "      <td>0.044808</td>\n",
       "      <td>-0.016823</td>\n",
       "      <td>-0.010662</td>\n",
       "      <td>-0.014524</td>\n",
       "      <td>0.009060</td>\n",
       "      <td>-0.001793</td>\n",
       "      <td>-0.007249</td>\n",
       "      <td>0.004762</td>\n",
       "      <td>0.002823</td>\n",
       "      <td>1.000000</td>\n",
       "      <td>0.008741</td>\n",
       "      <td>-0.012436</td>\n",
       "      <td>0.024460</td>\n",
       "      <td>-0.006384</td>\n",
       "    </tr>\n",
       "    <tr>\n",
       "      <th>1021</th>\n",
       "      <td>-0.027423</td>\n",
       "      <td>0.020537</td>\n",
       "      <td>-0.013458</td>\n",
       "      <td>0.001954</td>\n",
       "      <td>0.013151</td>\n",
       "      <td>0.068435</td>\n",
       "      <td>0.057650</td>\n",
       "      <td>-0.021141</td>\n",
       "      <td>0.021533</td>\n",
       "      <td>0.026830</td>\n",
       "      <td>-0.021656</td>\n",
       "      <td>0.024528</td>\n",
       "      <td>0.001857</td>\n",
       "      <td>-0.009237</td>\n",
       "      <td>0.041660</td>\n",
       "      <td>0.012061</td>\n",
       "      <td>-0.023215</td>\n",
       "      <td>0.020942</td>\n",
       "      <td>0.004842</td>\n",
       "      <td>0.050946</td>\n",
       "      <td>-0.009886</td>\n",
       "      <td>0.037326</td>\n",
       "      <td>-0.007142</td>\n",
       "      <td>0.008427</td>\n",
       "      <td>-0.009852</td>\n",
       "      <td>0.015191</td>\n",
       "      <td>0.016611</td>\n",
       "      <td>0.032373</td>\n",
       "      <td>0.017561</td>\n",
       "      <td>0.022021</td>\n",
       "      <td>0.001014</td>\n",
       "      <td>0.026590</td>\n",
       "      <td>0.050440</td>\n",
       "      <td>0.016716</td>\n",
       "      <td>0.016416</td>\n",
       "      <td>0.004802</td>\n",
       "      <td>0.022307</td>\n",
       "      <td>0.031016</td>\n",
       "      <td>-0.010763</td>\n",
       "      <td>0.042090</td>\n",
       "      <td>...</td>\n",
       "      <td>0.053179</td>\n",
       "      <td>0.041043</td>\n",
       "      <td>0.000682</td>\n",
       "      <td>0.023640</td>\n",
       "      <td>0.026949</td>\n",
       "      <td>0.000231</td>\n",
       "      <td>0.061493</td>\n",
       "      <td>0.004530</td>\n",
       "      <td>0.007983</td>\n",
       "      <td>0.017111</td>\n",
       "      <td>0.041508</td>\n",
       "      <td>0.006784</td>\n",
       "      <td>0.024580</td>\n",
       "      <td>0.016237</td>\n",
       "      <td>-0.000547</td>\n",
       "      <td>0.028603</td>\n",
       "      <td>0.011805</td>\n",
       "      <td>0.006231</td>\n",
       "      <td>0.005446</td>\n",
       "      <td>0.004677</td>\n",
       "      <td>0.017562</td>\n",
       "      <td>0.023522</td>\n",
       "      <td>0.005584</td>\n",
       "      <td>-0.014247</td>\n",
       "      <td>0.003133</td>\n",
       "      <td>0.058960</td>\n",
       "      <td>0.008324</td>\n",
       "      <td>-0.016584</td>\n",
       "      <td>0.015321</td>\n",
       "      <td>0.036900</td>\n",
       "      <td>-0.009559</td>\n",
       "      <td>0.182740</td>\n",
       "      <td>-0.004554</td>\n",
       "      <td>-0.005076</td>\n",
       "      <td>0.013347</td>\n",
       "      <td>0.008741</td>\n",
       "      <td>1.000000</td>\n",
       "      <td>-0.017420</td>\n",
       "      <td>0.047422</td>\n",
       "      <td>-0.000420</td>\n",
       "    </tr>\n",
       "    <tr>\n",
       "      <th>1022</th>\n",
       "      <td>-0.012507</td>\n",
       "      <td>0.060108</td>\n",
       "      <td>0.012447</td>\n",
       "      <td>0.001232</td>\n",
       "      <td>-0.004197</td>\n",
       "      <td>-0.008773</td>\n",
       "      <td>0.023480</td>\n",
       "      <td>0.041992</td>\n",
       "      <td>0.091784</td>\n",
       "      <td>0.031764</td>\n",
       "      <td>0.029041</td>\n",
       "      <td>-0.003457</td>\n",
       "      <td>0.057872</td>\n",
       "      <td>0.057839</td>\n",
       "      <td>-0.011448</td>\n",
       "      <td>0.050281</td>\n",
       "      <td>0.063109</td>\n",
       "      <td>-0.006221</td>\n",
       "      <td>-0.008472</td>\n",
       "      <td>0.011230</td>\n",
       "      <td>-0.007411</td>\n",
       "      <td>-0.003583</td>\n",
       "      <td>-0.000674</td>\n",
       "      <td>-0.018030</td>\n",
       "      <td>-0.010415</td>\n",
       "      <td>0.059734</td>\n",
       "      <td>0.015566</td>\n",
       "      <td>0.000240</td>\n",
       "      <td>-0.008255</td>\n",
       "      <td>-0.014725</td>\n",
       "      <td>-0.012079</td>\n",
       "      <td>0.013111</td>\n",
       "      <td>-0.016844</td>\n",
       "      <td>-0.016278</td>\n",
       "      <td>-0.013992</td>\n",
       "      <td>-0.006322</td>\n",
       "      <td>0.002411</td>\n",
       "      <td>0.019196</td>\n",
       "      <td>-0.005441</td>\n",
       "      <td>0.050380</td>\n",
       "      <td>...</td>\n",
       "      <td>0.012613</td>\n",
       "      <td>-0.009072</td>\n",
       "      <td>-0.014438</td>\n",
       "      <td>0.040912</td>\n",
       "      <td>-0.013745</td>\n",
       "      <td>0.024649</td>\n",
       "      <td>0.034288</td>\n",
       "      <td>0.018098</td>\n",
       "      <td>0.010930</td>\n",
       "      <td>0.046274</td>\n",
       "      <td>-0.002590</td>\n",
       "      <td>0.018656</td>\n",
       "      <td>0.018339</td>\n",
       "      <td>0.039043</td>\n",
       "      <td>0.141465</td>\n",
       "      <td>0.001836</td>\n",
       "      <td>0.006128</td>\n",
       "      <td>-0.008863</td>\n",
       "      <td>-0.019006</td>\n",
       "      <td>0.011659</td>\n",
       "      <td>0.005926</td>\n",
       "      <td>0.014498</td>\n",
       "      <td>0.059951</td>\n",
       "      <td>0.004048</td>\n",
       "      <td>0.119587</td>\n",
       "      <td>0.003798</td>\n",
       "      <td>0.039986</td>\n",
       "      <td>0.042205</td>\n",
       "      <td>-0.021957</td>\n",
       "      <td>-0.010983</td>\n",
       "      <td>0.039783</td>\n",
       "      <td>0.015548</td>\n",
       "      <td>-0.000077</td>\n",
       "      <td>0.033451</td>\n",
       "      <td>-0.007693</td>\n",
       "      <td>-0.012436</td>\n",
       "      <td>-0.017420</td>\n",
       "      <td>1.000000</td>\n",
       "      <td>0.001617</td>\n",
       "      <td>-0.004278</td>\n",
       "    </tr>\n",
       "    <tr>\n",
       "      <th>1023</th>\n",
       "      <td>0.112294</td>\n",
       "      <td>0.013688</td>\n",
       "      <td>0.014993</td>\n",
       "      <td>0.038928</td>\n",
       "      <td>0.066497</td>\n",
       "      <td>0.110260</td>\n",
       "      <td>0.144742</td>\n",
       "      <td>-0.037959</td>\n",
       "      <td>0.047542</td>\n",
       "      <td>0.013415</td>\n",
       "      <td>-0.022042</td>\n",
       "      <td>0.001173</td>\n",
       "      <td>0.039384</td>\n",
       "      <td>0.065826</td>\n",
       "      <td>0.008214</td>\n",
       "      <td>0.067234</td>\n",
       "      <td>-0.023412</td>\n",
       "      <td>0.008961</td>\n",
       "      <td>0.032387</td>\n",
       "      <td>0.169756</td>\n",
       "      <td>-0.011868</td>\n",
       "      <td>0.032003</td>\n",
       "      <td>0.001632</td>\n",
       "      <td>0.210843</td>\n",
       "      <td>0.012590</td>\n",
       "      <td>0.088240</td>\n",
       "      <td>0.209613</td>\n",
       "      <td>0.239364</td>\n",
       "      <td>-0.004616</td>\n",
       "      <td>0.093891</td>\n",
       "      <td>0.001255</td>\n",
       "      <td>0.024383</td>\n",
       "      <td>0.043886</td>\n",
       "      <td>0.269499</td>\n",
       "      <td>0.128054</td>\n",
       "      <td>0.008831</td>\n",
       "      <td>0.016947</td>\n",
       "      <td>0.000383</td>\n",
       "      <td>-0.005221</td>\n",
       "      <td>0.048192</td>\n",
       "      <td>...</td>\n",
       "      <td>-0.014745</td>\n",
       "      <td>0.021502</td>\n",
       "      <td>0.036567</td>\n",
       "      <td>0.035398</td>\n",
       "      <td>-0.015761</td>\n",
       "      <td>0.025469</td>\n",
       "      <td>0.033905</td>\n",
       "      <td>0.019370</td>\n",
       "      <td>0.206580</td>\n",
       "      <td>0.126853</td>\n",
       "      <td>0.011220</td>\n",
       "      <td>0.010407</td>\n",
       "      <td>0.041120</td>\n",
       "      <td>0.027292</td>\n",
       "      <td>0.022851</td>\n",
       "      <td>0.052885</td>\n",
       "      <td>0.011234</td>\n",
       "      <td>0.175796</td>\n",
       "      <td>-0.017715</td>\n",
       "      <td>0.066387</td>\n",
       "      <td>0.004601</td>\n",
       "      <td>0.025959</td>\n",
       "      <td>0.003745</td>\n",
       "      <td>0.026432</td>\n",
       "      <td>0.027366</td>\n",
       "      <td>0.157496</td>\n",
       "      <td>0.036089</td>\n",
       "      <td>0.007639</td>\n",
       "      <td>-0.009866</td>\n",
       "      <td>0.019387</td>\n",
       "      <td>0.040744</td>\n",
       "      <td>0.033742</td>\n",
       "      <td>0.090761</td>\n",
       "      <td>0.023881</td>\n",
       "      <td>-0.004065</td>\n",
       "      <td>0.024460</td>\n",
       "      <td>0.047422</td>\n",
       "      <td>0.001617</td>\n",
       "      <td>1.000000</td>\n",
       "      <td>-0.014059</td>\n",
       "    </tr>\n",
       "    <tr>\n",
       "      <th>label</th>\n",
       "      <td>-0.045251</td>\n",
       "      <td>0.022991</td>\n",
       "      <td>0.062461</td>\n",
       "      <td>0.072691</td>\n",
       "      <td>-0.008495</td>\n",
       "      <td>-0.038263</td>\n",
       "      <td>-0.011354</td>\n",
       "      <td>0.065949</td>\n",
       "      <td>0.002710</td>\n",
       "      <td>-0.008845</td>\n",
       "      <td>-0.027375</td>\n",
       "      <td>-0.015168</td>\n",
       "      <td>-0.046428</td>\n",
       "      <td>-0.067917</td>\n",
       "      <td>0.098044</td>\n",
       "      <td>-0.056689</td>\n",
       "      <td>-0.039504</td>\n",
       "      <td>-0.012498</td>\n",
       "      <td>-0.030942</td>\n",
       "      <td>0.019059</td>\n",
       "      <td>0.118623</td>\n",
       "      <td>-0.017491</td>\n",
       "      <td>0.000253</td>\n",
       "      <td>-0.011696</td>\n",
       "      <td>-0.010871</td>\n",
       "      <td>-0.019180</td>\n",
       "      <td>-0.027232</td>\n",
       "      <td>0.050317</td>\n",
       "      <td>-0.029973</td>\n",
       "      <td>0.023273</td>\n",
       "      <td>-0.034461</td>\n",
       "      <td>-0.004944</td>\n",
       "      <td>-0.006145</td>\n",
       "      <td>-0.018365</td>\n",
       "      <td>0.006978</td>\n",
       "      <td>-0.015525</td>\n",
       "      <td>0.083414</td>\n",
       "      <td>0.221726</td>\n",
       "      <td>-0.054818</td>\n",
       "      <td>-0.017915</td>\n",
       "      <td>...</td>\n",
       "      <td>0.018912</td>\n",
       "      <td>0.013487</td>\n",
       "      <td>0.012023</td>\n",
       "      <td>-0.009001</td>\n",
       "      <td>0.033154</td>\n",
       "      <td>0.015923</td>\n",
       "      <td>-0.003683</td>\n",
       "      <td>-0.036015</td>\n",
       "      <td>-0.006148</td>\n",
       "      <td>-0.010579</td>\n",
       "      <td>0.030325</td>\n",
       "      <td>0.039913</td>\n",
       "      <td>-0.054689</td>\n",
       "      <td>-0.001140</td>\n",
       "      <td>0.053098</td>\n",
       "      <td>-0.007173</td>\n",
       "      <td>-0.036042</td>\n",
       "      <td>-0.036254</td>\n",
       "      <td>-0.020404</td>\n",
       "      <td>-0.005331</td>\n",
       "      <td>0.045609</td>\n",
       "      <td>-0.006870</td>\n",
       "      <td>-0.084925</td>\n",
       "      <td>-0.051089</td>\n",
       "      <td>0.149419</td>\n",
       "      <td>-0.019147</td>\n",
       "      <td>0.005741</td>\n",
       "      <td>0.078196</td>\n",
       "      <td>0.001219</td>\n",
       "      <td>-0.020580</td>\n",
       "      <td>0.054961</td>\n",
       "      <td>0.036753</td>\n",
       "      <td>0.067879</td>\n",
       "      <td>-0.061727</td>\n",
       "      <td>0.011882</td>\n",
       "      <td>-0.006384</td>\n",
       "      <td>-0.000420</td>\n",
       "      <td>-0.004278</td>\n",
       "      <td>-0.014059</td>\n",
       "      <td>1.000000</td>\n",
       "    </tr>\n",
       "  </tbody>\n",
       "</table>\n",
       "<p>1025 rows × 1025 columns</p>\n",
       "</div>"
      ],
      "text/plain": [
       "              0         1         2  ...      1022      1023     label\n",
       "0      1.000000 -0.022492 -0.042534  ... -0.012507  0.112294 -0.045251\n",
       "1     -0.022492  1.000000 -0.009623  ...  0.060108  0.013688  0.022991\n",
       "2     -0.042534 -0.009623  1.000000  ...  0.012447  0.014993  0.062461\n",
       "3      0.027393  0.017658 -0.016200  ...  0.001232  0.038928  0.072691\n",
       "4     -0.007580  0.000012 -0.001773  ... -0.004197  0.066497 -0.008495\n",
       "...         ...       ...       ...  ...       ...       ...       ...\n",
       "1020   0.034860 -0.004363  0.007165  ... -0.012436  0.024460 -0.006384\n",
       "1021  -0.027423  0.020537 -0.013458  ... -0.017420  0.047422 -0.000420\n",
       "1022  -0.012507  0.060108  0.012447  ...  1.000000  0.001617 -0.004278\n",
       "1023   0.112294  0.013688  0.014993  ...  0.001617  1.000000 -0.014059\n",
       "label -0.045251  0.022991  0.062461  ... -0.004278 -0.014059  1.000000\n",
       "\n",
       "[1025 rows x 1025 columns]"
      ]
     },
     "execution_count": 10,
     "metadata": {
      "tags": []
     },
     "output_type": "execute_result"
    }
   ],
   "source": [
    "a=df.corr()\n",
    "a"
   ]
  },
  {
   "cell_type": "code",
   "execution_count": null,
   "metadata": {
    "id": "0aTO3l1HGKPc",
    "outputId": "c8c38e6b-b4c9-4f03-9489-c0dfd37a821b"
   },
   "outputs": [
    {
     "data": {
      "text/plain": [
       "0        1.000000\n",
       "1       -0.022492\n",
       "2       -0.042534\n",
       "3        0.027393\n",
       "4       -0.007580\n",
       "           ...   \n",
       "1020     0.034860\n",
       "1021    -0.027423\n",
       "1022    -0.012507\n",
       "1023     0.112294\n",
       "label   -0.045251\n",
       "Name: 0, Length: 1025, dtype: float64"
      ]
     },
     "execution_count": 11,
     "metadata": {
      "tags": []
     },
     "output_type": "execute_result"
    }
   ],
   "source": [
    "a[0]"
   ]
  },
  {
   "cell_type": "code",
   "execution_count": 10,
   "metadata": {
    "id": "_qmkEEpXGKPj"
   },
   "outputs": [],
   "source": [
    "#check for collinearity\n",
    "#https://stackoverflow.com/questions/29294983/how-to-calculate-correlation-between-all-columns-and-remove-highly-correlated-on\n",
    "\n",
    "# Create correlation matrix\n",
    "corr_matrix = df.corr().abs()\n",
    "\n",
    "# Select upper triangle of correlation matrix (not including diagonal)\n",
    "upper = corr_matrix.where(np.triu(np.ones(corr_matrix.shape), k=1).astype(bool))\n",
    "\n",
    "# Find features with correlation greater than 0.95\n",
    "to_drop = [column for column in upper.columns if any(upper[column] > 0.95)]\n",
    "\n",
    "# Drop features \n",
    "df.drop(to_drop, axis=1, inplace=True)"
   ]
  },
  {
   "cell_type": "code",
   "execution_count": 20,
   "metadata": {
    "colab": {
     "base_uri": "https://localhost:8080/"
    },
    "id": "-Er91fL8GKPn",
    "outputId": "9df50b1d-f11f-4356-878b-0f9074d49947"
   },
   "outputs": [
    {
     "data": {
      "text/plain": [
       "[53, 405, 408, 424, 473, 646, 656, 657, 683, 685, 758, 759, 819, 871, 960]"
      ]
     },
     "execution_count": 20,
     "metadata": {},
     "output_type": "execute_result"
    }
   ],
   "source": [
    "to_drop"
   ]
  },
  {
   "cell_type": "code",
   "execution_count": 44,
   "metadata": {},
   "outputs": [],
   "source": [
    "a=[2,4]\n",
    "b =[0,1,2,3,4]\n",
    "#np.where(b not in a)"
   ]
  },
  {
   "cell_type": "code",
   "execution_count": 47,
   "metadata": {},
   "outputs": [
    {
     "data": {
      "text/plain": [
       "[0, 4]"
      ]
     },
     "execution_count": 47,
     "metadata": {},
     "output_type": "execute_result"
    }
   ],
   "source": [
    "b.pop(1)\n",
    "b"
   ]
  },
  {
   "cell_type": "code",
   "execution_count": 50,
   "metadata": {},
   "outputs": [
    {
     "name": "stdout",
     "output_type": "stream",
     "text": [
      "before: [51, 52, 53, 54, 55, 56, 57, 58, 59]\n",
      "after: [51, 52, 53, 54, 55, 56, 58, 59]\n",
      "before: [51, 52, 53, 54, 55, 56, 58, 59]\n",
      "after: [51, 52, 53, 54, 56, 58, 59]\n",
      "before: [51, 52, 53, 54, 56, 58, 59]\n",
      "after: [51, 52, 54, 56, 58, 59]\n",
      "[51, 52, 54, 56, 58, 59]\n"
     ]
    }
   ],
   "source": [
    "def delete_multiple_element(list_object, indices):\n",
    "    indices = sorted(indices, reverse=True)\n",
    "    for idx in indices:\n",
    "        if idx < len(list_object):\n",
    "            print(\"before:\", list_object)\n",
    "            list_object.pop(idx)\n",
    "            print(\"after:\", list_object)\n",
    "list_of_num = [51, 52, 53, 54, 55, 56, 57, 58, 59]\n",
    "list_of_indices = [4, 2, 6]\n",
    "# Remove elements from list_of_num at index 4,2 and 6\n",
    "delete_multiple_element(list_of_num, list_of_indices)\n",
    "print(list_of_num)"
   ]
  },
  {
   "cell_type": "markdown",
   "metadata": {
    "id": "VogNLCL-GKPr"
   },
   "source": [
    "# Continue w/ splitting train,test sets"
   ]
  },
  {
   "cell_type": "code",
   "execution_count": 11,
   "metadata": {
    "id": "40tLdYXiGKPt"
   },
   "outputs": [],
   "source": [
    "#train, test split\n",
    "train, test=train_test_split(df, test_size=0.3, random_state=1)\n",
    "train.reset_index(drop=True, inplace=True)"
   ]
  },
  {
   "cell_type": "code",
   "execution_count": null,
   "metadata": {
    "id": "vwkWO1goGKP9"
   },
   "outputs": [],
   "source": [
    "#######<--"
   ]
  },
  {
   "cell_type": "code",
   "execution_count": null,
   "metadata": {
    "id": "9cYDEIJ3GKQA"
   },
   "outputs": [],
   "source": [
    "#######-->"
   ]
  },
  {
   "cell_type": "code",
   "execution_count": null,
   "metadata": {
    "colab": {
     "base_uri": "https://localhost:8080/"
    },
    "id": "F_VeCU7uGKQC",
    "outputId": "25970590-f377-49aa-f59f-209f7d1ac1f6"
   },
   "outputs": [
    {
     "data": {
      "text/plain": [
       "0    5765\n",
       "1     529\n",
       "Name: label, dtype: int64"
      ]
     },
     "execution_count": 14,
     "metadata": {
      "tags": []
     },
     "output_type": "execute_result"
    }
   ],
   "source": [
    "train[\"label\"].value_counts()"
   ]
  },
  {
   "cell_type": "code",
   "execution_count": null,
   "metadata": {
    "id": "UJWXp8wUGKQH"
   },
   "outputs": [],
   "source": [
    "#!pip install imblearn"
   ]
  },
  {
   "cell_type": "code",
   "execution_count": null,
   "metadata": {
    "id": "mCOicraFGKQI"
   },
   "outputs": [],
   "source": [
    "#upsampling: https://www.kaggle.com/rafjaa/resampling-strategies-for-imbalanced-datasets#t10\n",
    "#from imblearn.over_sampling import SMOTE\n",
    "\n",
    "#smote = SMOTE(random_state=12, sampling_strategy=1)#'minority')"
   ]
  },
  {
   "cell_type": "code",
   "execution_count": 12,
   "metadata": {
    "id": "vx1c_CUfGKQI"
   },
   "outputs": [],
   "source": [
    "X_train=train.drop([\"label\"],1)\n",
    "y_train=train[\"label\"]"
   ]
  },
  {
   "cell_type": "markdown",
   "metadata": {
    "id": "_SEDR44RGKQL"
   },
   "source": [
    "# Optimizing Params - Grid Search"
   ]
  },
  {
   "cell_type": "code",
   "execution_count": null,
   "metadata": {
    "id": "12olPRp7GKQP"
   },
   "outputs": [],
   "source": [
    "#https://stackoverflow.com/questions/58815016/cross-validating-with-imblearn-pipeline-and-gridsearchcv\n",
    "#define some functions to automate Grid search\n",
    "\n",
    "from imblearn.pipeline import Pipeline\n",
    "from imblearn.over_sampling import SMOTE\n",
    "from sklearn.model_selection import RandomizedSearchCV\n",
    "\n",
    "def imb_pipeline(clf, X, y, params):\n",
    "\n",
    "    model = Pipeline([\n",
    "        ('sampling', SMOTE(random_state=1, sampling_strategy=1)),\n",
    "        ('classification', clf)\n",
    "    ])\n",
    "    #optimizing accuracy instead of balanced_accuracy score bc we upsampled and have a balanced training set; can check balanced_accuracy score later, make suree it is low\n",
    "    score={'ACCURACY':'accuracy', 'RECALL':'recall', 'F1':'f1'}\n",
    "\n",
    "    gcv = RandomizedSearchCV(estimator=model, param_distributions=params, cv=5, scoring=score, n_jobs=12, refit='ACCURACY')\n",
    "    gcv.fit(X, y)\n",
    "\n",
    "    return gcv\n",
    "\n",
    "def print_scores(grid_result):\n",
    "    print(\"Best ACCURACY: %f using %s\" % (grid_result.best_score_, grid_result.best_params_))\n",
    "    means = grid_result.cv_results_['mean_test_ACCURACY']\n",
    "    stds = grid_result.cv_results_['std_test_ACCURACY']\n",
    "    means2 = grid_result.cv_results_['mean_test_RECALL']\n",
    "    stds2 = grid_result.cv_results_['std_test_RECALL']\n",
    "    means3 = grid_result.cv_results_['mean_test_F1']\n",
    "    stds3 = grid_result.cv_results_['std_test_F1']\n",
    "    params = grid_result.cv_results_['params']\n",
    "    print(\"ACCURACY, RECALL, F1 with PARAMS\")\n",
    "    for mean, std, mean2, std2, mean3, std3, param in zip(means, stds, means2, stds2, means3, stds3, params):\n",
    "        print(\"%f (%f), %f (%f), %f (%f) with: %r\" % (mean, std, mean2, std2, mean3, std3, param))"
   ]
  },
  {
   "cell_type": "code",
   "execution_count": null,
   "metadata": {
    "colab": {
     "base_uri": "https://localhost:8080/"
    },
    "id": "E4XJFCq3GKQR",
    "outputId": "0e9e75e6-a16c-44ce-ad0e-4f27249a5e60"
   },
   "outputs": [
    {
     "name": "stderr",
     "output_type": "stream",
     "text": [
      "/usr/local/lib/python3.7/dist-packages/sklearn/utils/deprecation.py:87: FutureWarning: Function safe_indexing is deprecated; safe_indexing is deprecated in version 0.22 and will be removed in version 0.24.\n",
      "  warnings.warn(msg, category=FutureWarning)\n"
     ]
    },
    {
     "name": "stdout",
     "output_type": "stream",
     "text": [
      "Best ACCURACY: 0.915952 using {'classification__C': 0.00032348093879459985, 'classification__penalty': 'l1', 'classification__solver': 'liblinear'}\n",
      "ACCURACY, RECALL, F1 with PARAMS\n",
      "nan (nan), nan (nan), nan (nan) with: {'classification__C': 0.00026691998147981697, 'classification__penalty': 'elasticnet', 'classification__solver': 'saga'}\n",
      "0.869079 (0.010081), 0.563199 (0.036261), 0.420247 (0.032522) with: {'classification__C': 0.09505735596622167, 'classification__penalty': 'l1', 'classification__solver': 'liblinear'}\n",
      "nan (nan), nan (nan), nan (nan) with: {'classification__C': 10.528443232906744, 'classification__penalty': 'elasticnet', 'classification__solver': 'saga'}\n",
      "0.860501 (0.007608), 0.498994 (0.025112), 0.375691 (0.014773) with: {'classification__C': 0.032475668260629115, 'classification__penalty': 'none', 'classification__solver': 'newton-cg'}\n",
      "nan (nan), nan (nan), nan (nan) with: {'classification__C': 0.020583368903385264, 'classification__penalty': 'elasticnet', 'classification__solver': 'saga'}\n",
      "0.250371 (0.332718), 0.800000 (0.400000), 0.124001 (0.062002) with: {'classification__C': 0.0003887667604985803, 'classification__penalty': 'l1', 'classification__solver': 'saga'}\n",
      "0.879565 (0.009320), 0.538652 (0.026803), 0.429864 (0.029614) with: {'classification__C': 0.16590860914893776, 'classification__penalty': 'l1', 'classification__solver': 'liblinear'}\n",
      "0.879565 (0.009336), 0.521671 (0.021056), 0.422087 (0.025552) with: {'classification__C': 0.1849995654553083, 'classification__penalty': 'l1', 'classification__solver': 'saga'}\n",
      "nan (nan), nan (nan), nan (nan) with: {'classification__C': 5.168372167949188, 'classification__penalty': 'elasticnet', 'classification__solver': 'saga'}\n",
      "0.915952 (0.000291), 0.000000 (0.000000), 0.000000 (0.000000) with: {'classification__C': 0.00032348093879459985, 'classification__penalty': 'l1', 'classification__solver': 'liblinear'}\n"
     ]
    }
   ],
   "source": [
    "from scipy.stats import loguniform\n",
    "\n",
    "classifiers = LogisticRegression(C=1.0, penalty='l2',\n",
    "                     random_state=None, tol=0.0001, verbose=0,\n",
    "                     warm_start=False)\n",
    "\n",
    "#see solver in https://scikit-learn.org/stable/modules/generated/sklearn.linear_model.LogisticRegression.html\n",
    "params = [{'classification__penalty':['elasticnet'],\n",
    "          'classification__solver':['saga'],\n",
    "          'classification__C': loguniform(1e-5, 100)},\n",
    "          {'classification__penalty':['none','l2'],\n",
    "          'classification__solver':['newton-cg', 'lbfgs', 'sag','saga'],\n",
    "          'classification__C': loguniform(1e-5, 100)},\n",
    "          {'classification__penalty':['l1'],\n",
    "          'classification__solver':('liblinear','saga'),\n",
    "          'classification__C': loguniform(1e-5, 100)}\n",
    "         ]\n",
    "\n",
    "        \n",
    "    \n",
    "#for param, classifier in zip(params, classifiers):\n",
    "grid_result = imb_pipeline(classifiers, X_train, y_train, params) \n",
    "\n",
    "#print\n",
    "print_scores(grid_result)"
   ]
  },
  {
   "cell_type": "code",
   "execution_count": null,
   "metadata": {
    "colab": {
     "base_uri": "https://localhost:8080/"
    },
    "id": "9OT75kZeGKQU",
    "outputId": "1e06c8f3-3906-4d5d-b951-7ccf082c179a"
   },
   "outputs": [
    {
     "name": "stderr",
     "output_type": "stream",
     "text": [
      "/usr/local/lib/python3.7/dist-packages/sklearn/utils/deprecation.py:87: FutureWarning: Function safe_indexing is deprecated; safe_indexing is deprecated in version 0.22 and will be removed in version 0.24.\n",
      "  warnings.warn(msg, category=FutureWarning)\n"
     ]
    },
    {
     "name": "stdout",
     "output_type": "stream",
     "text": [
      "Best ACCURACY: 0.930568 using {'classification__criterion': 'entropy', 'classification__max_depth': 63, 'classification__max_features': 'auto', 'classification__n_estimators': 603}\n",
      "ACCURACY, RECALL, F1 with PARAMS\n",
      "0.922465 (0.007166), 0.549937 (0.042272), 0.543923 (0.040111) with: {'classification__criterion': 'entropy', 'classification__max_depth': 30, 'classification__max_features': 'sqrt', 'classification__n_estimators': 622}\n",
      "0.928344 (0.004393), 0.510225 (0.046554), 0.544007 (0.031830) with: {'classification__criterion': 'gini', 'classification__max_depth': 58, 'classification__max_features': 'sqrt', 'classification__n_estimators': 330}\n",
      "0.928979 (0.004266), 0.525337 (0.049249), 0.553291 (0.036819) with: {'classification__criterion': 'entropy', 'classification__max_depth': 68, 'classification__max_features': 'sqrt', 'classification__n_estimators': 451}\n",
      "0.930568 (0.003652), 0.525337 (0.051024), 0.558675 (0.034542) with: {'classification__criterion': 'entropy', 'classification__max_depth': 63, 'classification__max_features': 'auto', 'classification__n_estimators': 603}\n",
      "0.928503 (0.004644), 0.519695 (0.041395), 0.549416 (0.034309) with: {'classification__criterion': 'entropy', 'classification__max_depth': 49, 'classification__max_features': 'sqrt', 'classification__n_estimators': 669}\n",
      "0.920876 (0.004767), 0.538598 (0.042597), 0.533158 (0.032086) with: {'classification__criterion': 'gini', 'classification__max_depth': 31, 'classification__max_features': 'auto', 'classification__n_estimators': 159}\n",
      "0.929297 (0.003838), 0.517790 (0.045154), 0.550934 (0.033935) with: {'classification__criterion': 'entropy', 'classification__max_depth': 74, 'classification__max_features': 'auto', 'classification__n_estimators': 803}\n",
      "0.921830 (0.005573), 0.534879 (0.025296), 0.535189 (0.027546) with: {'classification__criterion': 'entropy', 'classification__max_depth': 38, 'classification__max_features': 'log2', 'classification__n_estimators': 780}\n",
      "0.929297 (0.003306), 0.496999 (0.046499), 0.540588 (0.033300) with: {'classification__criterion': 'gini', 'classification__max_depth': 91, 'classification__max_features': 'auto', 'classification__n_estimators': 411}\n",
      "0.929297 (0.004059), 0.514016 (0.044508), 0.549181 (0.034123) with: {'classification__criterion': 'entropy', 'classification__max_depth': 83, 'classification__max_features': 'sqrt', 'classification__n_estimators': 926}\n"
     ]
    }
   ],
   "source": [
    "from scipy.stats import randint\n",
    "\n",
    "classifiers = RandomForestClassifier(n_estimators=50)\n",
    "\n",
    "#some selected params in https://scikit-learn.org/stable/modules/generated/sklearn.ensemble.RandomForestClassifier.html\n",
    "params = {'classification__n_estimators': randint(10, 1000), 'classification__max_depth': randint(10,100),\n",
    "         'classification__criterion':('gini', 'entropy'), 'classification__max_features':('auto', 'sqrt', 'log2')}\n",
    "    \n",
    "#for param, classifier in zip(params, classifiers):\n",
    "grid_result = imb_pipeline(classifiers, X_train, y_train, params) \n",
    "\n",
    "#print\n",
    "print_scores(grid_result)"
   ]
  },
  {
   "cell_type": "code",
   "execution_count": null,
   "metadata": {
    "colab": {
     "base_uri": "https://localhost:8080/"
    },
    "id": "Fw7Xfs1zGKQa",
    "outputId": "812cddf4-969c-4314-f20d-a73c0a41ad00"
   },
   "outputs": [
    {
     "name": "stderr",
     "output_type": "stream",
     "text": [
      "/usr/local/lib/python3.7/dist-packages/joblib/externals/loky/process_executor.py:691: UserWarning: A worker stopped while some jobs were given to the executor. This can be caused by a too short worker timeout or by a memory leak.\n",
      "  \"timeout or by a memory leak.\", UserWarning\n",
      "/usr/local/lib/python3.7/dist-packages/sklearn/utils/deprecation.py:87: FutureWarning: Function safe_indexing is deprecated; safe_indexing is deprecated in version 0.22 and will be removed in version 0.24.\n",
      "  warnings.warn(msg, category=FutureWarning)\n"
     ]
    },
    {
     "name": "stdout",
     "output_type": "stream",
     "text": [
      "Best ACCURACY: 0.923100 using {'classification__lr': 2.9022763719154856, 'classification__momentums': 0.7352085063534269, 'classification__n1': 8, 'classification__n2': 12}\n",
      "ACCURACY, RECALL, F1 with PARAMS\n",
      "0.783921 (0.013301), 0.614148 (0.047013), 0.323428 (0.034362) with: {'classification__lr': 0.008732680554832022, 'classification__momentums': 0.24091055904946754, 'classification__n1': 8, 'classification__n2': 10}\n",
      "0.593771 (0.193742), 0.558980 (0.178260), 0.202722 (0.043780) with: {'classification__lr': 0.0007694890286435386, 'classification__momentums': 0.483614091650539, 'classification__n1': 6, 'classification__n2': 5}\n",
      "0.913885 (0.005900), 0.475449 (0.057427), 0.479739 (0.049926) with: {'classification__lr': 0.5241304444212942, 'classification__momentums': 0.3853443709845092, 'classification__n1': 6, 'classification__n2': 11}\n",
      "0.921035 (0.003372), 0.498865 (0.092580), 0.509713 (0.065847) with: {'classification__lr': 8.40951537676506, 'classification__momentums': 0.5045174303321805, 'classification__n1': 7, 'classification__n2': 10}\n",
      "0.772161 (0.027992), 0.617145 (0.066534), 0.313441 (0.026067) with: {'classification__lr': 0.00106318584498782, 'classification__momentums': 0.8661749872128056, 'classification__n1': 6, 'classification__n2': 10}\n",
      "0.725765 (0.043704), 0.526980 (0.074716), 0.247220 (0.046823) with: {'classification__lr': 0.002072502582712398, 'classification__momentums': 0.11676388131957038, 'classification__n1': 5, 'classification__n2': 5}\n",
      "0.882268 (0.005209), 0.525628 (0.060822), 0.427205 (0.037526) with: {'classification__lr': 0.02651797964865614, 'classification__momentums': 0.04792191520942434, 'classification__n1': 9, 'classification__n2': 9}\n",
      "0.885287 (0.004920), 0.526596 (0.057331), 0.434015 (0.030367) with: {'classification__lr': 0.004031448481193617, 'classification__momentums': 0.858772269253605, 'classification__n1': 12, 'classification__n2': 5}\n",
      "0.923100 (0.006874), 0.477542 (0.077346), 0.507559 (0.063103) with: {'classification__lr': 2.9022763719154856, 'classification__momentums': 0.7352085063534269, 'classification__n1': 8, 'classification__n2': 12}\n",
      "0.733770 (0.326477), 0.582954 (0.222174), 0.384219 (0.120002) with: {'classification__lr': 2.810252068743526, 'classification__momentums': 0.9677137950953797, 'classification__n1': 10, 'classification__n2': 10}\n"
     ]
    }
   ],
   "source": [
    "import numpy\n",
    "from sklearn.model_selection import RandomizedSearchCV\n",
    "from keras.wrappers.scikit_learn import KerasClassifier\n",
    "import tensorflow as tf\n",
    "from tensorflow import keras\n",
    "from tensorflow.keras import layers\n",
    "from scipy.stats import uniform\n",
    "from scipy.stats import randint\n",
    "from scipy.stats import loguniform\n",
    "\n",
    "#setting up NN model \n",
    "def setUpModel(n1, n2, lr=0.001, momentums=0.9):\n",
    "    #set up and compile a model\n",
    "    model = keras.Sequential()\n",
    "    \n",
    "    model.add(layers.Dense(n1, input_dim=X_train.shape[1], activation=\"sigmoid\"))\n",
    "    model.add(layers.Dense(n2, activation=\"sigmoid\"))\n",
    "    model.add(layers.Dense(1, activation=\"sigmoid\")) #1 output layer bc of binary output\n",
    "    \n",
    "    model.compile(loss='mse',\n",
    "         optimizer = keras.optimizers.SGD(momentum=momentums, learning_rate=lr),\n",
    "         metrics=['accuracy',\n",
    "             keras.metrics.Recall(name=\"recall\", thresholds=0.3)\n",
    "                 ])\n",
    "        \n",
    "    return model\n",
    "\n",
    "#create a scikilearn-compatible model\n",
    "Kmodel = KerasClassifier(build_fn=setUpModel, verbose=0, batch_size=100, epochs=100)\n",
    "# define the grid search parameters\n",
    "neurons1 = (5, 10, 15, 20)\n",
    "neurons2 = (5, 10, 15, 20)\n",
    "lr = [0.005,0.01,0.05,0.1]\n",
    "momentum = [0.1, 0.4,0.7,0.9,0.99]\n",
    "params = {\"classification__n1\":randint(5,15), \"classification__n2\":randint(5,15),\n",
    "         \"classification__lr\":loguniform(0.0001,10), \"classification__momentums\": uniform(0.01,0.999999)}\n",
    "\n",
    "#for param, classifier in zip(params, classifiers):\n",
    "grid_result = imb_pipeline(Kmodel, X_train, y_train, params) \n",
    "\n",
    "#print\n",
    "print_scores(grid_result)"
   ]
  },
  {
   "cell_type": "code",
   "execution_count": null,
   "metadata": {
    "id": "TvOXUrdCZVEN"
   },
   "outputs": [],
   "source": [
    "X_test = test.drop([\"label\"],1)\n",
    "y_test = test[\"label\"]"
   ]
  },
  {
   "cell_type": "markdown",
   "metadata": {
    "id": "rfUKe9zo-kIp"
   },
   "source": [
    "# Test model result consistency"
   ]
  },
  {
   "cell_type": "code",
   "execution_count": null,
   "metadata": {
    "id": "7IyYvph2_UN-"
   },
   "outputs": [],
   "source": []
  },
  {
   "cell_type": "code",
   "execution_count": null,
   "metadata": {
    "colab": {
     "base_uri": "https://localhost:8080/"
    },
    "id": "eYs0MsTGXQRJ",
    "outputId": "23fe7fb2-7ed7-47fc-c583-c54cb8da5d42"
   },
   "outputs": [
    {
     "name": "stderr",
     "output_type": "stream",
     "text": [
      "/usr/local/lib/python3.7/dist-packages/sklearn/utils/deprecation.py:87: FutureWarning: Function safe_indexing is deprecated; safe_indexing is deprecated in version 0.22 and will be removed in version 0.24.\n",
      "  warnings.warn(msg, category=FutureWarning)\n"
     ]
    },
    {
     "data": {
      "text/plain": [
       "<tensorflow.python.keras.callbacks.History at 0x7f6c9d934810>"
      ]
     },
     "execution_count": 47,
     "metadata": {
      "tags": []
     },
     "output_type": "execute_result"
    }
   ],
   "source": [
    "import numpy\n",
    "from sklearn.model_selection import RandomizedSearchCV\n",
    "from keras.wrappers.scikit_learn import KerasClassifier\n",
    "import tensorflow as tf\n",
    "from tensorflow import keras\n",
    "from tensorflow.keras import layers\n",
    "from scipy.stats import uniform\n",
    "\n",
    "def setUpModel(n1, n2, lr=0.001, momentums=0.9):\n",
    "    #set up and compile a model\n",
    "    model = keras.Sequential()\n",
    "    \n",
    "    model.add(layers.Dense(n1, input_dim=X_train.shape[1], activation=\"sigmoid\"))\n",
    "    model.add(layers.Dense(n2, activation=\"sigmoid\"))\n",
    "    model.add(layers.Dense(1, activation=\"sigmoid\")) #1 output layer bc of binary output\n",
    "    \n",
    "    model.compile(loss='mse',\n",
    "         optimizer = keras.optimizers.SGD(momentum=momentums, learning_rate=lr),\n",
    "         metrics=['accuracy',\n",
    "             keras.metrics.Recall(name=\"recall\", thresholds=0.5)\n",
    "                 ])\n",
    "        \n",
    "    return model\n",
    "\n",
    "model = setUpModel(lr=8.4095,momentums=0.5045,n1=7,n2=10)\n",
    "from imblearn.over_sampling import SMOTE\n",
    "smote = SMOTE(random_state=1, sampling_strategy=1)#'minority')\n",
    "Xtt, ytt = smote.fit_resample(train.drop([\"label\"],1), train[\"label\"])\n",
    "#fit\n",
    "model.fit(Xtt, ytt, batch_size=100, epochs=100, verbose=0)"
   ]
  },
  {
   "cell_type": "code",
   "execution_count": null,
   "metadata": {
    "colab": {
     "base_uri": "https://localhost:8080/"
    },
    "id": "6-VxTVmLZ_5m",
    "outputId": "56ec49b5-e146-4c46-9752-ffe36827f110"
   },
   "outputs": [
    {
     "data": {
      "text/plain": [
       "array([0.9990144], dtype=float32)"
      ]
     },
     "execution_count": 53,
     "metadata": {
      "tags": []
     },
     "output_type": "execute_result"
    }
   ],
   "source": [
    "np.where(model.predict(X_train) > 0.5)[0]\n",
    "#X_train.shape\n",
    "#model.predict(X_train)\n",
    "model.predict(X_train)[13]"
   ]
  },
  {
   "cell_type": "code",
   "execution_count": null,
   "metadata": {
    "colab": {
     "base_uri": "https://localhost:8080/"
    },
    "id": "YiFvJUKDafxk",
    "outputId": "ffb8c636-1f92-4378-dff2-7443478f0d31"
   },
   "outputs": [
    {
     "name": "stdout",
     "output_type": "stream",
     "text": [
      "197/197 [==============================] - 0s 1ms/step - loss: 0.0116 - accuracy: 0.9881 - recall: 0.9017\n"
     ]
    },
    {
     "data": {
      "text/plain": [
       "[0.011638537980616093, 0.9880838990211487, 0.9017013311386108]"
      ]
     },
     "execution_count": 49,
     "metadata": {
      "tags": []
     },
     "output_type": "execute_result"
    }
   ],
   "source": [
    "model.evaluate(X_train, y_train)"
   ]
  },
  {
   "cell_type": "code",
   "execution_count": null,
   "metadata": {
    "colab": {
     "base_uri": "https://localhost:8080/"
    },
    "id": "WBs5P9gFZGiq",
    "outputId": "56ed81a9-ddd2-401f-cef7-8363f694d2bd"
   },
   "outputs": [
    {
     "name": "stdout",
     "output_type": "stream",
     "text": [
      "85/85 [==============================] - 0s 1ms/step - loss: 0.0666 - accuracy: 0.9266 - recall: 0.5047\n"
     ]
    },
    {
     "data": {
      "text/plain": [
       "[0.06657195091247559, 0.9266123175621033, 0.5047169923782349]"
      ]
     },
     "execution_count": 50,
     "metadata": {
      "tags": []
     },
     "output_type": "execute_result"
    }
   ],
   "source": [
    "model.evaluate(X_test, y_test)"
   ]
  },
  {
   "cell_type": "markdown",
   "metadata": {
    "id": "23CdNLU3GKQh"
   },
   "source": [
    "# Acc, F1, Recall vs Threshold "
   ]
  },
  {
   "cell_type": "code",
   "execution_count": 13,
   "metadata": {
    "id": "GBRYIHkKGKQk"
   },
   "outputs": [],
   "source": [
    "from sklearn.metrics import precision_recall_curve\n",
    "import matplotlib.pyplot as plt\n",
    "import numpy as np\n",
    "\n",
    "def getAcc(y_true, y_pred):\n",
    "    number_matches = len(np.where((y_true==y_pred) == True)[0])\n",
    "    total_sample = len(y_true)\n",
    "    return number_matches/total_sample\n",
    "\n",
    "def getBalAcc(y_true, y_pred):\n",
    "    tn, total_neg = 0, 0\n",
    "    tp, total_pos = 0, 0\n",
    "    for i in range(len(y_true)):\n",
    "        if y_true[i]==1:\n",
    "            total_pos+=1\n",
    "            if y_pred[i]==1:\n",
    "                tp+=1\n",
    "        else:\n",
    "            total_neg +=1\n",
    "            if y_pred[i]==0:\n",
    "                tn+=1\n",
    "    return (tn/total_neg + tp/total_pos)/2\n",
    "\n",
    "def AFRvsTh_graph(X_test, y_test, sk_model): #fitted model\n",
    "    pred = sk_model.predict_proba(X_test)\n",
    "    \n",
    "    #plot recall\n",
    "    pre, rec, th = precision_recall_curve(y_test, pred[:,1])\n",
    "    plt.plot(th, rec[:-1], color = 'b', label='Recall score')\n",
    "    \n",
    "    #plot f1\n",
    "    f1 = 2*pre[:-1]*rec[:-1]/(pre[:-1]+rec[:-1])\n",
    "    plt.plot(th, f1, color = 'g', label='F1 score')\n",
    "    \n",
    "    #plot accuracy and balanced accuracy\n",
    "    th_for_acc = np.linspace(0,1,100)\n",
    "    acc=[]\n",
    "    bal_acc=[]\n",
    "    for i in range(len(th_for_acc)):\n",
    "        y_out = pred[:,1]\n",
    "        y_out = np.where(y_out>=th_for_acc[i], 1, y_out) #convert prob to 1 if prob[i]>=threshold\n",
    "        y_out = np.where(y_out!=1, 0, y_out) #convert prob to 0 if prob[i]<threshold\n",
    "        acc.append(getAcc(y_test, y_out))\n",
    "        bal_acc.append(getBalAcc(list(y_test), list(y_out)))\n",
    "    plt.plot(th_for_acc, acc, linestyle='--', color = 'r', label='Accuracy score')\n",
    "    plt.plot(th_for_acc, bal_acc, linestyle='--', color = 'c', label='Balanced accuracy score')\n",
    "    \n",
    "    plt.xlabel(\"Threshold\")\n",
    "    plt.ylabel(\"Percentage\")\n",
    "    plt.legend()\n",
    "    plt.show()\n",
    "\n",
    "def balAcc_rec_f1(y_true, y_pred):\n",
    "    tn, fn, total_neg = 0, 0, 0\n",
    "    tp, fp, total_pos = 0, 0, 0\n",
    "    for i in range(len(y_true)):\n",
    "        if y_true[i]==1:\n",
    "            total_pos+=1\n",
    "            if y_pred[i]==1:\n",
    "                tp+=1\n",
    "            else:\n",
    "                fn+=1\n",
    "        else:#y_true[i]==0\n",
    "            total_neg +=1\n",
    "            if y_pred[i]==0:\n",
    "                tn+=1\n",
    "            else:\n",
    "                fp+=1\n",
    "    #print(tn, fn, total_neg, tp, fp, total_pos)\n",
    "    b_acc = (tn/total_neg + tp/total_pos)/2\n",
    "    rec = tp/total_pos\n",
    "    if tp+fp != 0:\n",
    "        prec = tp/(tp+fp)\n",
    "    else:\n",
    "        prec = 1\n",
    "    f1 = 2*rec*prec/(rec+prec)\n",
    "    return b_acc,rec,f1\n",
    "\n",
    "def AFRvsTh_graph_Keras(X_test, y_test, keras_model): #fitted model\n",
    "    pred = keras_model.predict(X_test).reshape(1,-1)[0]\n",
    "    \n",
    "    #plot 4 metrics\n",
    "    th_for_acc = np.linspace(0,1,100)\n",
    "    acc=[]\n",
    "    bal_acc=[]\n",
    "    rec=[]\n",
    "    f1=[]\n",
    "    for i in range(len(th_for_acc)):\n",
    "        y_out = pred\n",
    "        y_out = np.where(y_out>=th_for_acc[i], 1, y_out) #convert prob to 1 if prob[i]>=threshold\n",
    "        y_out = np.where(y_out!=1, 0, y_out) #convert prob to 0 if prob[i]<threshold\n",
    "        acc.append(getAcc(y_test, y_out))\n",
    "        b_acc_score, r_score, f1_score = balAcc_rec_f1(list(y_test), list(y_out))\n",
    "        bal_acc.append(b_acc_score)\n",
    "        rec.append(r_score)\n",
    "        f1.append(f1_score)\n",
    "    plt.plot(th_for_acc, acc, linestyle='--', color = 'r', label='Accuracy score')\n",
    "    plt.plot(th_for_acc, bal_acc, linestyle='--', color = 'c', label='Balanced accuracy score')\n",
    "    plt.plot(th_for_acc[:-1], f1[:-1], color = 'g', label='F1 score') #last one is precission=0 -> DN count; last val here counts as trash\n",
    "    plt.plot(th_for_acc, rec, color = 'b', label='Recall score')\n",
    "\n",
    "    plt.xlabel(\"Threshold\")\n",
    "    plt.ylabel(\"Percentage\")\n",
    "    plt.legend()\n",
    "    plt.show()"
   ]
  },
  {
   "cell_type": "code",
   "execution_count": 81,
   "metadata": {
    "colab": {
     "base_uri": "https://localhost:8080/"
    },
    "id": "GjGEOeagt_0d",
    "outputId": "ffd62bd7-9c3f-42ef-8d09-53a26b1b1ee6"
   },
   "outputs": [
    {
     "data": {
      "text/plain": [
       "array([0.        , 0.01010101, 0.02020202, 0.03030303, 0.04040404,\n",
       "       0.05050505, 0.06060606, 0.07070707, 0.08080808, 0.09090909,\n",
       "       0.1010101 , 0.11111111, 0.12121212, 0.13131313, 0.14141414,\n",
       "       0.15151515, 0.16161616, 0.17171717, 0.18181818, 0.19191919,\n",
       "       0.2020202 , 0.21212121, 0.22222222, 0.23232323, 0.24242424,\n",
       "       0.25252525, 0.26262626, 0.27272727, 0.28282828, 0.29292929,\n",
       "       0.3030303 , 0.31313131, 0.32323232, 0.33333333, 0.34343434,\n",
       "       0.35353535, 0.36363636, 0.37373737, 0.38383838, 0.39393939,\n",
       "       0.4040404 , 0.41414141, 0.42424242, 0.43434343, 0.44444444,\n",
       "       0.45454545, 0.46464646, 0.47474747, 0.48484848, 0.49494949,\n",
       "       0.50505051, 0.51515152, 0.52525253, 0.53535354, 0.54545455,\n",
       "       0.55555556, 0.56565657, 0.57575758, 0.58585859, 0.5959596 ,\n",
       "       0.60606061, 0.61616162, 0.62626263, 0.63636364, 0.64646465,\n",
       "       0.65656566, 0.66666667, 0.67676768, 0.68686869, 0.6969697 ,\n",
       "       0.70707071, 0.71717172, 0.72727273, 0.73737374, 0.74747475,\n",
       "       0.75757576, 0.76767677, 0.77777778, 0.78787879, 0.7979798 ,\n",
       "       0.80808081, 0.81818182, 0.82828283, 0.83838384, 0.84848485,\n",
       "       0.85858586, 0.86868687, 0.87878788, 0.88888889, 0.8989899 ,\n",
       "       0.90909091, 0.91919192, 0.92929293, 0.93939394, 0.94949495,\n",
       "       0.95959596, 0.96969697, 0.97979798, 0.98989899, 1.        ])"
      ]
     },
     "execution_count": 81,
     "metadata": {
      "tags": []
     },
     "output_type": "execute_result"
    }
   ],
   "source": [
    "np.linspace(0,1,100)"
   ]
  },
  {
   "cell_type": "code",
   "execution_count": null,
   "metadata": {
    "id": "FnDonEzYnMu1",
    "outputId": "225f31ea-4b46-49cb-af29-10425c3c6626"
   },
   "outputs": [
    {
     "data": {
      "text/plain": [
       "array([ 0,  0,  0, 10, 10, 10,  0,  0,  0])"
      ]
     },
     "execution_count": 8,
     "metadata": {
      "tags": []
     },
     "output_type": "execute_result"
    }
   ],
   "source": [
    "import numpy as np\n",
    "a = np.array([1,2,3,0,0,0,1,1,1])\n",
    "b = np.where(a==0,10,a)\n",
    "b = np.where(b!=10,0,b)\n",
    "b"
   ]
  },
  {
   "cell_type": "code",
   "execution_count": null,
   "metadata": {
    "id": "O-jUZTchnMu2",
    "outputId": "45260381-bc53-4998-b0f2-793e9bc80fc1"
   },
   "outputs": [
    {
     "data": {
      "text/plain": [
       "0.75"
      ]
     },
     "execution_count": 37,
     "metadata": {
      "tags": []
     },
     "output_type": "execute_result"
    }
   ],
   "source": []
  },
  {
   "cell_type": "code",
   "execution_count": 62,
   "metadata": {
    "colab": {
     "base_uri": "https://localhost:8080/"
    },
    "id": "8FghKfgFnMu3",
    "outputId": "83d835d4-14d6-40a1-8de1-056d53d92dfd"
   },
   "outputs": [
    {
     "name": "stderr",
     "output_type": "stream",
     "text": [
      "/usr/local/lib/python3.7/dist-packages/sklearn/utils/deprecation.py:87: FutureWarning: Function safe_indexing is deprecated; safe_indexing is deprecated in version 0.22 and will be removed in version 0.24.\n",
      "  warnings.warn(msg, category=FutureWarning)\n"
     ]
    },
    {
     "data": {
      "text/plain": [
       "<tensorflow.python.keras.callbacks.History at 0x7f6c95cdbd10>"
      ]
     },
     "execution_count": 62,
     "metadata": {
      "tags": []
     },
     "output_type": "execute_result"
    }
   ],
   "source": [
    "from imblearn.over_sampling import SMOTE\n",
    "import numpy\n",
    "from keras.wrappers.scikit_learn import KerasClassifier\n",
    "import tensorflow as tf\n",
    "from tensorflow import keras\n",
    "from tensorflow.keras import layers\n",
    "\n",
    "def setUpModel(n1, n2, lr=0.001, momentums=0.9):\n",
    "    #set up and compile a model\n",
    "    model = keras.Sequential()\n",
    "    \n",
    "    model.add(layers.Dense(n1, input_dim=X_train.shape[1], activation=\"sigmoid\"))\n",
    "    model.add(layers.Dense(n2, activation=\"sigmoid\"))\n",
    "    model.add(layers.Dense(1, activation=\"sigmoid\")) #1 output layer bc of binary output\n",
    "    \n",
    "    model.compile(loss='mse',\n",
    "         optimizer = keras.optimizers.SGD(momentum=momentums, learning_rate=lr),\n",
    "         metrics=['accuracy',\n",
    "             keras.metrics.Recall(name=\"recall\", thresholds=0.5)\n",
    "                 ])\n",
    "        \n",
    "    return model\n",
    "\n",
    "#upsample\n",
    "smote = SMOTE(random_state=1, sampling_strategy=1)#'minority')\n",
    "Xtt, ytt = smote.fit_resample(train.drop([\"label\"],1), train[\"label\"])\n",
    "\n",
    "#models\n",
    "lr_model = LogisticRegression(C=0.1659, penalty='l1', solver='liblinear',\n",
    "                     random_state=None, tol=0.0001, verbose=0,\n",
    "                     warm_start=False)\n",
    "rf_model = RandomForestClassifier(criterion=\"entropy\", max_depth=63, max_features=\"auto\", n_estimators=603)\n",
    "\n",
    "model = setUpModel(lr=8.4095,momentums=0.5045,n1=7,n2=10)\n",
    "model.fit(Xtt, ytt, batch_size=100, epochs=100, verbose=0)"
   ]
  },
  {
   "cell_type": "code",
   "execution_count": 16,
   "metadata": {},
   "outputs": [
    {
     "data": {
      "text/plain": [
       "RandomForestClassifier(criterion='entropy', max_depth=63, n_estimators=603)"
      ]
     },
     "execution_count": 16,
     "metadata": {},
     "output_type": "execute_result"
    }
   ],
   "source": [
    "#upsample; tesing for web app\n",
    "from imblearn.over_sampling import SMOTE\n",
    "smote = SMOTE(random_state=1, sampling_strategy=1)#'minority')\n",
    "Xtt, ytt = smote.fit_resample(train.drop([\"label\"],1), train[\"label\"])\n",
    "rf_model = RandomForestClassifier(criterion=\"entropy\", max_depth=63, max_features=\"auto\", n_estimators=603)\n",
    "rf_model.fit(Xtt, ytt)"
   ]
  },
  {
   "cell_type": "code",
   "execution_count": 52,
   "metadata": {},
   "outputs": [],
   "source": [
    "data_input=\"0000000000100000100000000000000000000000100000000000000000000000000000000000001000100000000010000000000000000000000000000000000000000000000000000000000000000000000000000000000000111000010000000010000000000000000000000000001001000000000000000000000000000000000000000001000000000000000000001000000000000000000000000000000000100000000000000000001000000000000000000000000000000000000000000000010000000000000001000000001000000000000000000100010000000000000000000010000001010000010000000000000000000100000000000000000000000000000000000000000000000000000000000000010000000000010000000000000000000010000000000010000000000000001000000000010000000000100000100000000010000000010000000000000000000100000000000000000000000000001000000000000000000000000100000000000000000011000000000000000000000000001010000000000000000000000000000000000000000000000000000000000000000000000000000000000100000000000000000000000000000000010000000000000000000000010000001000000000000000000000001000000000100000100000000100010000000000000000000000000000000000\"\n",
    "data_array = [int(x) for x in data_input]"
   ]
  },
  {
   "cell_type": "code",
   "execution_count": 53,
   "metadata": {},
   "outputs": [],
   "source": [
    "def delete_multiple_element(list_object, indices):\n",
    "    indices = sorted(indices, reverse=True)\n",
    "    for idx in indices:\n",
    "        if idx < len(list_object):\n",
    "            #print(\"before:\", list_object)\n",
    "            list_object.pop(idx)\n",
    "            #print(\"after:\", list_object)\n",
    "delete_multiple_element(data_array, to_drop)"
   ]
  },
  {
   "cell_type": "code",
   "execution_count": 67,
   "metadata": {},
   "outputs": [
    {
     "name": "stdout",
     "output_type": "stream",
     "text": [
      "y\n"
     ]
    }
   ],
   "source": [
    "a = 0\n",
    "if not a:\n",
    "    print(\"y\")\n",
    "else:\n",
    "    print(\"n\")"
   ]
  },
  {
   "cell_type": "code",
   "execution_count": 93,
   "metadata": {},
   "outputs": [],
   "source": [
    "a=[1,2,3]"
   ]
  },
  {
   "cell_type": "code",
   "execution_count": 96,
   "metadata": {},
   "outputs": [
    {
     "data": {
      "text/plain": [
       "2"
      ]
     },
     "execution_count": 96,
     "metadata": {},
     "output_type": "execute_result"
    }
   ],
   "source": [
    "a.pop()"
   ]
  },
  {
   "cell_type": "code",
   "execution_count": 97,
   "metadata": {},
   "outputs": [
    {
     "data": {
      "text/plain": [
       "[1]"
      ]
     },
     "execution_count": 97,
     "metadata": {},
     "output_type": "execute_result"
    }
   ],
   "source": [
    "a"
   ]
  },
  {
   "cell_type": "code",
   "execution_count": 59,
   "metadata": {},
   "outputs": [
    {
     "data": {
      "text/plain": [
       "0.011608623548922056"
      ]
     },
     "execution_count": 59,
     "metadata": {},
     "output_type": "execute_result"
    }
   ],
   "source": [
    "rf_model.predict_proba([data_array])[:,1][0]"
   ]
  },
  {
   "cell_type": "code",
   "execution_count": null,
   "metadata": {
    "id": "Qx1GW5h_nMu4",
    "outputId": "72d85f22-ca64-4d35-dc4b-d2fecf86fde5"
   },
   "outputs": [
    {
     "data": {
      "image/png": "[encoded data removed]",
      "text/plain": [
       "<Figure size 432x288 with 1 Axes>"
      ]
     },
     "metadata": {
      "needs_background": "light",
      "tags": []
     },
     "output_type": "display_data"
    }
   ],
   "source": [
    "lr_model.fit(Xtt, ytt)\n",
    "AFRvsTh_graph(sk_model=lr_model, X_test=X_test, y_test=y_test)"
   ]
  },
  {
   "cell_type": "code",
   "execution_count": null,
   "metadata": {
    "id": "M8r0R_XqnMu5",
    "outputId": "f1bca342-2ca6-46cb-8fa5-67956ca8d17a"
   },
   "outputs": [
    {
     "data": {
      "image/png": "[encoded data removed]",
      "text/plain": [
       "<Figure size 432x288 with 1 Axes>"
      ]
     },
     "metadata": {
      "needs_background": "light",
      "tags": []
     },
     "output_type": "display_data"
    }
   ],
   "source": [
    "rf_model.fit(Xtt, ytt)\n",
    "AFRvsTh_graph(sk_model=rf_model, X_test=X_test, y_test=y_test)"
   ]
  },
  {
   "cell_type": "code",
   "execution_count": 87,
   "metadata": {
    "colab": {
     "base_uri": "https://localhost:8080/",
     "height": 296
    },
    "id": "8xuNoGSenMu6",
    "outputId": "507292c5-244c-4249-ef8e-522e53b1a80f"
   },
   "outputs": [
    {
     "name": "stdout",
     "output_type": "stream",
     "text": [
      "361/361 [==============================] - 0s 1ms/step - loss: 0.0165 - accuracy: 0.9815 - recall: 0.9743\n"
     ]
    },
    {
     "data": {
      "image/png": "[encoded data removed]",
      "text/plain": [
       "<Figure size 432x288 with 1 Axes>"
      ]
     },
     "metadata": {
      "needs_background": "light",
      "tags": []
     },
     "output_type": "display_data"
    }
   ],
   "source": [
    "model.fit(Xtt, ytt)\n",
    "#model.predict(X_test).reshape(1,-1)[0]\n",
    "AFRvsTh_graph_Keras(keras_model=model, X_test=X_test, y_test=y_test)"
   ]
  },
  {
   "cell_type": "code",
   "execution_count": null,
   "metadata": {
    "id": "BEx-Nl4EnMu7",
    "outputId": "25a59e1d-208d-4944-88aa-e0b47cb4d894"
   },
   "outputs": [
    {
     "name": "stdout",
     "output_type": "stream",
     "text": [
      "no\n"
     ]
    }
   ],
   "source": [
    "def ag(d=0):\n",
    "    if 0:\n",
    "        print(\"yes\")\n",
    "    else:\n",
    "        print(\"no\")\n",
    "    \n",
    "ag()"
   ]
  },
  {
   "cell_type": "markdown",
   "metadata": {
    "id": "Q-Y7R6dkGKQl"
   },
   "source": [
    "# Result (using best parameters)"
   ]
  },
  {
   "cell_type": "markdown",
   "metadata": {
    "id": "degUDKhXGKQm"
   },
   "source": [
    "## Precision, Recall vs Threshold"
   ]
  },
  {
   "cell_type": "code",
   "execution_count": null,
   "metadata": {
    "colab": {
     "base_uri": "https://localhost:8080/"
    },
    "id": "jHAGyijrGKQn",
    "outputId": "554abb40-7833-4599-8597-f2fe8660d713"
   },
   "outputs": [
    {
     "data": {
      "text/plain": [
       "0    5765\n",
       "1     529\n",
       "Name: label, dtype: int64"
      ]
     },
     "execution_count": 44,
     "metadata": {
      "tags": []
     },
     "output_type": "execute_result"
    }
   ],
   "source": [
    "from sklearn.metrics import plot_precision_recall_curve\n",
    "from sklearn.metrics import plot_roc_curve\n",
    "from sklearn.metrics import precision_recall_curve\n",
    "import matplotlib.pyplot as plt\n",
    "\n",
    "train[\"label\"].value_counts()"
   ]
  },
  {
   "cell_type": "code",
   "execution_count": null,
   "metadata": {
    "id": "MA9eB_aAGKQp"
   },
   "outputs": [],
   "source": []
  },
  {
   "cell_type": "code",
   "execution_count": null,
   "metadata": {
    "colab": {
     "base_uri": "https://localhost:8080/"
    },
    "id": "zL24wpEXGKQw",
    "outputId": "04964bee-9c41-4868-f86e-de07a8a1ab23"
   },
   "outputs": [
    {
     "data": {
      "text/plain": [
       "LogisticRegression(C=0.1, class_weight=None, dual=False, fit_intercept=True,\n",
       "                   intercept_scaling=1, l1_ratio=None, max_iter=2000,\n",
       "                   multi_class='auto', n_jobs=None, penalty='l2',\n",
       "                   random_state=None, solver='lbfgs', tol=0.0001, verbose=0,\n",
       "                   warm_start=False)"
      ]
     },
     "execution_count": 45,
     "metadata": {
      "tags": []
     },
     "output_type": "execute_result"
    }
   ],
   "source": [
    "#log\n",
    "X_test = test.drop([\"label\"],1)\n",
    "y_test = test[\"label\"]\n",
    "\n",
    "log = LogisticRegression(C=0.1, max_iter=2000)\n",
    "\n",
    "log.fit(X_train, y_train)\n",
    "\n",
    "#plot_precision_recall_curve(log, X_test, y_test)"
   ]
  },
  {
   "cell_type": "code",
   "execution_count": null,
   "metadata": {
    "colab": {
     "base_uri": "https://localhost:8080/",
     "height": 341
    },
    "id": "uxOC_ExWGKQ6",
    "outputId": "d08e64fe-16cf-4984-e3cd-7c85bfb2fd8c"
   },
   "outputs": [
    {
     "ename": "KeyboardInterrupt",
     "evalue": "ignored",
     "output_type": "error",
     "traceback": [
      "\u001b[0;31m---------------------------------------------------------------------------\u001b[0m",
      "\u001b[0;31mKeyboardInterrupt\u001b[0m                         Traceback (most recent call last)",
      "\u001b[0;32m<ipython-input-46-68214cb06a17>\u001b[0m in \u001b[0;36m<module>\u001b[0;34m()\u001b[0m\n\u001b[1;32m      6\u001b[0m \u001b[0mplt\u001b[0m\u001b[0;34m.\u001b[0m\u001b[0mylabel\u001b[0m\u001b[0;34m(\u001b[0m\u001b[0;34m\"Scores\"\u001b[0m\u001b[0;34m)\u001b[0m\u001b[0;34m\u001b[0m\u001b[0;34m\u001b[0m\u001b[0m\n\u001b[1;32m      7\u001b[0m \u001b[0mplt\u001b[0m\u001b[0;34m.\u001b[0m\u001b[0mlegend\u001b[0m\u001b[0;34m(\u001b[0m\u001b[0;34m)\u001b[0m\u001b[0;34m\u001b[0m\u001b[0;34m\u001b[0m\u001b[0m\n\u001b[0;32m----> 8\u001b[0;31m \u001b[0mplt\u001b[0m\u001b[0;34m.\u001b[0m\u001b[0mshow\u001b[0m\u001b[0;34m(\u001b[0m\u001b[0;34m)\u001b[0m\u001b[0;34m\u001b[0m\u001b[0;34m\u001b[0m\u001b[0m\n\u001b[0m",
      "\u001b[0;32m/usr/local/lib/python3.7/dist-packages/matplotlib/pyplot.py\u001b[0m in \u001b[0;36mshow\u001b[0;34m(*args, **kw)\u001b[0m\n\u001b[1;32m    270\u001b[0m     \"\"\"\n\u001b[1;32m    271\u001b[0m     \u001b[0;32mglobal\u001b[0m \u001b[0m_show\u001b[0m\u001b[0;34m\u001b[0m\u001b[0;34m\u001b[0m\u001b[0m\n\u001b[0;32m--> 272\u001b[0;31m     \u001b[0;32mreturn\u001b[0m \u001b[0m_show\u001b[0m\u001b[0;34m(\u001b[0m\u001b[0;34m*\u001b[0m\u001b[0margs\u001b[0m\u001b[0;34m,\u001b[0m \u001b[0;34m**\u001b[0m\u001b[0mkw\u001b[0m\u001b[0;34m)\u001b[0m\u001b[0;34m\u001b[0m\u001b[0;34m\u001b[0m\u001b[0m\n\u001b[0m\u001b[1;32m    273\u001b[0m \u001b[0;34m\u001b[0m\u001b[0m\n\u001b[1;32m    274\u001b[0m \u001b[0;34m\u001b[0m\u001b[0m\n",
      "\u001b[0;32m/usr/local/lib/python3.7/dist-packages/ipykernel/pylab/backend_inline.py\u001b[0m in \u001b[0;36mshow\u001b[0;34m(close, block)\u001b[0m\n\u001b[1;32m     37\u001b[0m             display(\n\u001b[1;32m     38\u001b[0m                 \u001b[0mfigure_manager\u001b[0m\u001b[0;34m.\u001b[0m\u001b[0mcanvas\u001b[0m\u001b[0;34m.\u001b[0m\u001b[0mfigure\u001b[0m\u001b[0;34m,\u001b[0m\u001b[0;34m\u001b[0m\u001b[0;34m\u001b[0m\u001b[0m\n\u001b[0;32m---> 39\u001b[0;31m                 \u001b[0mmetadata\u001b[0m\u001b[0;34m=\u001b[0m\u001b[0m_fetch_figure_metadata\u001b[0m\u001b[0;34m(\u001b[0m\u001b[0mfigure_manager\u001b[0m\u001b[0;34m.\u001b[0m\u001b[0mcanvas\u001b[0m\u001b[0;34m.\u001b[0m\u001b[0mfigure\u001b[0m\u001b[0;34m)\u001b[0m\u001b[0;34m\u001b[0m\u001b[0;34m\u001b[0m\u001b[0m\n\u001b[0m\u001b[1;32m     40\u001b[0m             )\n\u001b[1;32m     41\u001b[0m     \u001b[0;32mfinally\u001b[0m\u001b[0;34m:\u001b[0m\u001b[0;34m\u001b[0m\u001b[0;34m\u001b[0m\u001b[0m\n",
      "\u001b[0;32m/usr/local/lib/python3.7/dist-packages/ipykernel/pylab/backend_inline.py\u001b[0m in \u001b[0;36m_fetch_figure_metadata\u001b[0;34m(fig)\u001b[0m\n\u001b[1;32m    175\u001b[0m         \u001b[0;31m# the background is transparent\u001b[0m\u001b[0;34m\u001b[0m\u001b[0;34m\u001b[0m\u001b[0;34m\u001b[0m\u001b[0m\n\u001b[1;32m    176\u001b[0m         ticksLight = _is_light([label.get_color()\n\u001b[0;32m--> 177\u001b[0;31m                                 \u001b[0;32mfor\u001b[0m \u001b[0maxes\u001b[0m \u001b[0;32min\u001b[0m \u001b[0mfig\u001b[0m\u001b[0;34m.\u001b[0m\u001b[0maxes\u001b[0m\u001b[0;34m\u001b[0m\u001b[0;34m\u001b[0m\u001b[0m\n\u001b[0m\u001b[1;32m    178\u001b[0m                                 \u001b[0;32mfor\u001b[0m \u001b[0maxis\u001b[0m \u001b[0;32min\u001b[0m \u001b[0;34m(\u001b[0m\u001b[0maxes\u001b[0m\u001b[0;34m.\u001b[0m\u001b[0mxaxis\u001b[0m\u001b[0;34m,\u001b[0m \u001b[0maxes\u001b[0m\u001b[0;34m.\u001b[0m\u001b[0myaxis\u001b[0m\u001b[0;34m)\u001b[0m\u001b[0;34m\u001b[0m\u001b[0;34m\u001b[0m\u001b[0m\n\u001b[1;32m    179\u001b[0m                                 for label in axis.get_ticklabels()])\n",
      "\u001b[0;32m/usr/local/lib/python3.7/dist-packages/ipykernel/pylab/backend_inline.py\u001b[0m in \u001b[0;36m<listcomp>\u001b[0;34m(.0)\u001b[0m\n\u001b[1;32m    177\u001b[0m                                 \u001b[0;32mfor\u001b[0m \u001b[0maxes\u001b[0m \u001b[0;32min\u001b[0m \u001b[0mfig\u001b[0m\u001b[0;34m.\u001b[0m\u001b[0maxes\u001b[0m\u001b[0;34m\u001b[0m\u001b[0;34m\u001b[0m\u001b[0m\n\u001b[1;32m    178\u001b[0m                                 \u001b[0;32mfor\u001b[0m \u001b[0maxis\u001b[0m \u001b[0;32min\u001b[0m \u001b[0;34m(\u001b[0m\u001b[0maxes\u001b[0m\u001b[0;34m.\u001b[0m\u001b[0mxaxis\u001b[0m\u001b[0;34m,\u001b[0m \u001b[0maxes\u001b[0m\u001b[0;34m.\u001b[0m\u001b[0myaxis\u001b[0m\u001b[0;34m)\u001b[0m\u001b[0;34m\u001b[0m\u001b[0;34m\u001b[0m\u001b[0m\n\u001b[0;32m--> 179\u001b[0;31m                                 for label in axis.get_ticklabels()])\n\u001b[0m\u001b[1;32m    180\u001b[0m         \u001b[0;32mif\u001b[0m \u001b[0mticksLight\u001b[0m\u001b[0;34m.\u001b[0m\u001b[0msize\u001b[0m \u001b[0;32mand\u001b[0m \u001b[0;34m(\u001b[0m\u001b[0mticksLight\u001b[0m \u001b[0;34m==\u001b[0m \u001b[0mticksLight\u001b[0m\u001b[0;34m[\u001b[0m\u001b[0;36m0\u001b[0m\u001b[0;34m]\u001b[0m\u001b[0;34m)\u001b[0m\u001b[0;34m.\u001b[0m\u001b[0mall\u001b[0m\u001b[0;34m(\u001b[0m\u001b[0;34m)\u001b[0m\u001b[0;34m:\u001b[0m\u001b[0;34m\u001b[0m\u001b[0;34m\u001b[0m\u001b[0m\n\u001b[1;32m    181\u001b[0m             \u001b[0;31m# there are one or more tick labels, all with the same lightness\u001b[0m\u001b[0;34m\u001b[0m\u001b[0;34m\u001b[0m\u001b[0;34m\u001b[0m\u001b[0m\n",
      "\u001b[0;32m/usr/local/lib/python3.7/dist-packages/matplotlib/axis.py\u001b[0m in \u001b[0;36mget_ticklabels\u001b[0;34m(self, minor, which)\u001b[0m\n\u001b[1;32m   1318\u001b[0m         \u001b[0;32mif\u001b[0m \u001b[0mminor\u001b[0m\u001b[0;34m:\u001b[0m\u001b[0;34m\u001b[0m\u001b[0;34m\u001b[0m\u001b[0m\n\u001b[1;32m   1319\u001b[0m             \u001b[0;32mreturn\u001b[0m \u001b[0mself\u001b[0m\u001b[0;34m.\u001b[0m\u001b[0mget_minorticklabels\u001b[0m\u001b[0;34m(\u001b[0m\u001b[0;34m)\u001b[0m\u001b[0;34m\u001b[0m\u001b[0;34m\u001b[0m\u001b[0m\n\u001b[0;32m-> 1320\u001b[0;31m         \u001b[0;32mreturn\u001b[0m \u001b[0mself\u001b[0m\u001b[0;34m.\u001b[0m\u001b[0mget_majorticklabels\u001b[0m\u001b[0;34m(\u001b[0m\u001b[0;34m)\u001b[0m\u001b[0;34m\u001b[0m\u001b[0;34m\u001b[0m\u001b[0m\n\u001b[0m\u001b[1;32m   1321\u001b[0m \u001b[0;34m\u001b[0m\u001b[0m\n\u001b[1;32m   1322\u001b[0m     \u001b[0;32mdef\u001b[0m \u001b[0mget_majorticklines\u001b[0m\u001b[0;34m(\u001b[0m\u001b[0mself\u001b[0m\u001b[0;34m)\u001b[0m\u001b[0;34m:\u001b[0m\u001b[0;34m\u001b[0m\u001b[0;34m\u001b[0m\u001b[0m\n",
      "\u001b[0;32m/usr/local/lib/python3.7/dist-packages/matplotlib/axis.py\u001b[0m in \u001b[0;36mget_majorticklabels\u001b[0;34m(self)\u001b[0m\n\u001b[1;32m   1274\u001b[0m     \u001b[0;32mdef\u001b[0m \u001b[0mget_majorticklabels\u001b[0m\u001b[0;34m(\u001b[0m\u001b[0mself\u001b[0m\u001b[0;34m)\u001b[0m\u001b[0;34m:\u001b[0m\u001b[0;34m\u001b[0m\u001b[0;34m\u001b[0m\u001b[0m\n\u001b[1;32m   1275\u001b[0m         \u001b[0;34m'Return a list of Text instances for the major ticklabels.'\u001b[0m\u001b[0;34m\u001b[0m\u001b[0;34m\u001b[0m\u001b[0m\n\u001b[0;32m-> 1276\u001b[0;31m         \u001b[0mticks\u001b[0m \u001b[0;34m=\u001b[0m \u001b[0mself\u001b[0m\u001b[0;34m.\u001b[0m\u001b[0mget_major_ticks\u001b[0m\u001b[0;34m(\u001b[0m\u001b[0;34m)\u001b[0m\u001b[0;34m\u001b[0m\u001b[0;34m\u001b[0m\u001b[0m\n\u001b[0m\u001b[1;32m   1277\u001b[0m         \u001b[0mlabels1\u001b[0m \u001b[0;34m=\u001b[0m \u001b[0;34m[\u001b[0m\u001b[0mtick\u001b[0m\u001b[0;34m.\u001b[0m\u001b[0mlabel1\u001b[0m \u001b[0;32mfor\u001b[0m \u001b[0mtick\u001b[0m \u001b[0;32min\u001b[0m \u001b[0mticks\u001b[0m \u001b[0;32mif\u001b[0m \u001b[0mtick\u001b[0m\u001b[0;34m.\u001b[0m\u001b[0mlabel1\u001b[0m\u001b[0;34m.\u001b[0m\u001b[0mget_visible\u001b[0m\u001b[0;34m(\u001b[0m\u001b[0;34m)\u001b[0m\u001b[0;34m]\u001b[0m\u001b[0;34m\u001b[0m\u001b[0;34m\u001b[0m\u001b[0m\n\u001b[1;32m   1278\u001b[0m         \u001b[0mlabels2\u001b[0m \u001b[0;34m=\u001b[0m \u001b[0;34m[\u001b[0m\u001b[0mtick\u001b[0m\u001b[0;34m.\u001b[0m\u001b[0mlabel2\u001b[0m \u001b[0;32mfor\u001b[0m \u001b[0mtick\u001b[0m \u001b[0;32min\u001b[0m \u001b[0mticks\u001b[0m \u001b[0;32mif\u001b[0m \u001b[0mtick\u001b[0m\u001b[0;34m.\u001b[0m\u001b[0mlabel2\u001b[0m\u001b[0;34m.\u001b[0m\u001b[0mget_visible\u001b[0m\u001b[0;34m(\u001b[0m\u001b[0;34m)\u001b[0m\u001b[0;34m]\u001b[0m\u001b[0;34m\u001b[0m\u001b[0;34m\u001b[0m\u001b[0m\n",
      "\u001b[0;32m/usr/local/lib/python3.7/dist-packages/matplotlib/axis.py\u001b[0m in \u001b[0;36mget_major_ticks\u001b[0;34m(self, numticks)\u001b[0m\n\u001b[1;32m   1429\u001b[0m         \u001b[0;34m'Get the tick instances; grow as necessary.'\u001b[0m\u001b[0;34m\u001b[0m\u001b[0;34m\u001b[0m\u001b[0m\n\u001b[1;32m   1430\u001b[0m         \u001b[0;32mif\u001b[0m \u001b[0mnumticks\u001b[0m \u001b[0;32mis\u001b[0m \u001b[0;32mNone\u001b[0m\u001b[0;34m:\u001b[0m\u001b[0;34m\u001b[0m\u001b[0;34m\u001b[0m\u001b[0m\n\u001b[0;32m-> 1431\u001b[0;31m             \u001b[0mnumticks\u001b[0m \u001b[0;34m=\u001b[0m \u001b[0mlen\u001b[0m\u001b[0;34m(\u001b[0m\u001b[0mself\u001b[0m\u001b[0;34m.\u001b[0m\u001b[0mget_majorticklocs\u001b[0m\u001b[0;34m(\u001b[0m\u001b[0;34m)\u001b[0m\u001b[0;34m)\u001b[0m\u001b[0;34m\u001b[0m\u001b[0;34m\u001b[0m\u001b[0m\n\u001b[0m\u001b[1;32m   1432\u001b[0m \u001b[0;34m\u001b[0m\u001b[0m\n\u001b[1;32m   1433\u001b[0m         \u001b[0;32mwhile\u001b[0m \u001b[0mlen\u001b[0m\u001b[0;34m(\u001b[0m\u001b[0mself\u001b[0m\u001b[0;34m.\u001b[0m\u001b[0mmajorTicks\u001b[0m\u001b[0;34m)\u001b[0m \u001b[0;34m<\u001b[0m \u001b[0mnumticks\u001b[0m\u001b[0;34m:\u001b[0m\u001b[0;34m\u001b[0m\u001b[0;34m\u001b[0m\u001b[0m\n",
      "\u001b[0;32m/usr/local/lib/python3.7/dist-packages/matplotlib/axis.py\u001b[0m in \u001b[0;36mget_majorticklocs\u001b[0;34m(self)\u001b[0m\n\u001b[1;32m   1346\u001b[0m     \u001b[0;32mdef\u001b[0m \u001b[0mget_majorticklocs\u001b[0m\u001b[0;34m(\u001b[0m\u001b[0mself\u001b[0m\u001b[0;34m)\u001b[0m\u001b[0;34m:\u001b[0m\u001b[0;34m\u001b[0m\u001b[0;34m\u001b[0m\u001b[0m\n\u001b[1;32m   1347\u001b[0m         \u001b[0;34m\"\"\"Get the array of major tick locations in data coordinates.\"\"\"\u001b[0m\u001b[0;34m\u001b[0m\u001b[0;34m\u001b[0m\u001b[0m\n\u001b[0;32m-> 1348\u001b[0;31m         \u001b[0;32mreturn\u001b[0m \u001b[0mself\u001b[0m\u001b[0;34m.\u001b[0m\u001b[0mmajor\u001b[0m\u001b[0;34m.\u001b[0m\u001b[0mlocator\u001b[0m\u001b[0;34m(\u001b[0m\u001b[0;34m)\u001b[0m\u001b[0;34m\u001b[0m\u001b[0;34m\u001b[0m\u001b[0m\n\u001b[0m\u001b[1;32m   1349\u001b[0m \u001b[0;34m\u001b[0m\u001b[0m\n\u001b[1;32m   1350\u001b[0m     \u001b[0;32mdef\u001b[0m \u001b[0mget_minorticklocs\u001b[0m\u001b[0;34m(\u001b[0m\u001b[0mself\u001b[0m\u001b[0;34m)\u001b[0m\u001b[0;34m:\u001b[0m\u001b[0;34m\u001b[0m\u001b[0;34m\u001b[0m\u001b[0m\n",
      "\u001b[0;32m/usr/local/lib/python3.7/dist-packages/matplotlib/ticker.py\u001b[0m in \u001b[0;36m__call__\u001b[0;34m(self)\u001b[0m\n\u001b[1;32m   2201\u001b[0m     \u001b[0;32mdef\u001b[0m \u001b[0m__call__\u001b[0m\u001b[0;34m(\u001b[0m\u001b[0mself\u001b[0m\u001b[0;34m)\u001b[0m\u001b[0;34m:\u001b[0m\u001b[0;34m\u001b[0m\u001b[0;34m\u001b[0m\u001b[0m\n\u001b[1;32m   2202\u001b[0m         \u001b[0mvmin\u001b[0m\u001b[0;34m,\u001b[0m \u001b[0mvmax\u001b[0m \u001b[0;34m=\u001b[0m \u001b[0mself\u001b[0m\u001b[0;34m.\u001b[0m\u001b[0maxis\u001b[0m\u001b[0;34m.\u001b[0m\u001b[0mget_view_interval\u001b[0m\u001b[0;34m(\u001b[0m\u001b[0;34m)\u001b[0m\u001b[0;34m\u001b[0m\u001b[0;34m\u001b[0m\u001b[0m\n\u001b[0;32m-> 2203\u001b[0;31m         \u001b[0;32mreturn\u001b[0m \u001b[0mself\u001b[0m\u001b[0;34m.\u001b[0m\u001b[0mtick_values\u001b[0m\u001b[0;34m(\u001b[0m\u001b[0mvmin\u001b[0m\u001b[0;34m,\u001b[0m \u001b[0mvmax\u001b[0m\u001b[0;34m)\u001b[0m\u001b[0;34m\u001b[0m\u001b[0;34m\u001b[0m\u001b[0m\n\u001b[0m\u001b[1;32m   2204\u001b[0m \u001b[0;34m\u001b[0m\u001b[0m\n\u001b[1;32m   2205\u001b[0m     \u001b[0;32mdef\u001b[0m \u001b[0mtick_values\u001b[0m\u001b[0;34m(\u001b[0m\u001b[0mself\u001b[0m\u001b[0;34m,\u001b[0m \u001b[0mvmin\u001b[0m\u001b[0;34m,\u001b[0m \u001b[0mvmax\u001b[0m\u001b[0;34m)\u001b[0m\u001b[0;34m:\u001b[0m\u001b[0;34m\u001b[0m\u001b[0;34m\u001b[0m\u001b[0m\n",
      "\u001b[0;32m/usr/local/lib/python3.7/dist-packages/matplotlib/ticker.py\u001b[0m in \u001b[0;36mtick_values\u001b[0;34m(self, vmin, vmax)\u001b[0m\n\u001b[1;32m   2209\u001b[0m         vmin, vmax = mtransforms.nonsingular(\n\u001b[1;32m   2210\u001b[0m             vmin, vmax, expander=1e-13, tiny=1e-14)\n\u001b[0;32m-> 2211\u001b[0;31m         \u001b[0mlocs\u001b[0m \u001b[0;34m=\u001b[0m \u001b[0mself\u001b[0m\u001b[0;34m.\u001b[0m\u001b[0m_raw_ticks\u001b[0m\u001b[0;34m(\u001b[0m\u001b[0mvmin\u001b[0m\u001b[0;34m,\u001b[0m \u001b[0mvmax\u001b[0m\u001b[0;34m)\u001b[0m\u001b[0;34m\u001b[0m\u001b[0;34m\u001b[0m\u001b[0m\n\u001b[0m\u001b[1;32m   2212\u001b[0m \u001b[0;34m\u001b[0m\u001b[0m\n\u001b[1;32m   2213\u001b[0m         \u001b[0mprune\u001b[0m \u001b[0;34m=\u001b[0m \u001b[0mself\u001b[0m\u001b[0;34m.\u001b[0m\u001b[0m_prune\u001b[0m\u001b[0;34m\u001b[0m\u001b[0;34m\u001b[0m\u001b[0m\n",
      "\u001b[0;32m/usr/local/lib/python3.7/dist-packages/matplotlib/ticker.py\u001b[0m in \u001b[0;36m_raw_ticks\u001b[0;34m(self, vmin, vmax)\u001b[0m\n\u001b[1;32m   2155\u001b[0m             \u001b[0mnbins\u001b[0m \u001b[0;34m=\u001b[0m \u001b[0mself\u001b[0m\u001b[0;34m.\u001b[0m\u001b[0m_nbins\u001b[0m\u001b[0;34m\u001b[0m\u001b[0;34m\u001b[0m\u001b[0m\n\u001b[1;32m   2156\u001b[0m \u001b[0;34m\u001b[0m\u001b[0m\n\u001b[0;32m-> 2157\u001b[0;31m         \u001b[0mscale\u001b[0m\u001b[0;34m,\u001b[0m \u001b[0moffset\u001b[0m \u001b[0;34m=\u001b[0m \u001b[0mscale_range\u001b[0m\u001b[0;34m(\u001b[0m\u001b[0mvmin\u001b[0m\u001b[0;34m,\u001b[0m \u001b[0mvmax\u001b[0m\u001b[0;34m,\u001b[0m \u001b[0mnbins\u001b[0m\u001b[0;34m)\u001b[0m\u001b[0;34m\u001b[0m\u001b[0;34m\u001b[0m\u001b[0m\n\u001b[0m\u001b[1;32m   2158\u001b[0m         \u001b[0m_vmin\u001b[0m \u001b[0;34m=\u001b[0m \u001b[0mvmin\u001b[0m \u001b[0;34m-\u001b[0m \u001b[0moffset\u001b[0m\u001b[0;34m\u001b[0m\u001b[0;34m\u001b[0m\u001b[0m\n\u001b[1;32m   2159\u001b[0m         \u001b[0m_vmax\u001b[0m \u001b[0;34m=\u001b[0m \u001b[0mvmax\u001b[0m \u001b[0;34m-\u001b[0m \u001b[0moffset\u001b[0m\u001b[0;34m\u001b[0m\u001b[0;34m\u001b[0m\u001b[0m\n",
      "\u001b[0;32m/usr/local/lib/python3.7/dist-packages/matplotlib/ticker.py\u001b[0m in \u001b[0;36mscale_range\u001b[0;34m(vmin, vmax, n, threshold)\u001b[0m\n\u001b[1;32m   1960\u001b[0m     \u001b[0;32melse\u001b[0m\u001b[0;34m:\u001b[0m\u001b[0;34m\u001b[0m\u001b[0;34m\u001b[0m\u001b[0m\n\u001b[1;32m   1961\u001b[0m         \u001b[0moffset\u001b[0m \u001b[0;34m=\u001b[0m \u001b[0mmath\u001b[0m\u001b[0;34m.\u001b[0m\u001b[0mcopysign\u001b[0m\u001b[0;34m(\u001b[0m\u001b[0;36m10\u001b[0m \u001b[0;34m**\u001b[0m \u001b[0;34m(\u001b[0m\u001b[0mmath\u001b[0m\u001b[0;34m.\u001b[0m\u001b[0mlog10\u001b[0m\u001b[0;34m(\u001b[0m\u001b[0mabs\u001b[0m\u001b[0;34m(\u001b[0m\u001b[0mmeanv\u001b[0m\u001b[0;34m)\u001b[0m\u001b[0;34m)\u001b[0m \u001b[0;34m//\u001b[0m \u001b[0;36m1\u001b[0m\u001b[0;34m)\u001b[0m\u001b[0;34m,\u001b[0m \u001b[0mmeanv\u001b[0m\u001b[0;34m)\u001b[0m\u001b[0;34m\u001b[0m\u001b[0;34m\u001b[0m\u001b[0m\n\u001b[0;32m-> 1962\u001b[0;31m     \u001b[0mscale\u001b[0m \u001b[0;34m=\u001b[0m \u001b[0;36m10\u001b[0m \u001b[0;34m**\u001b[0m \u001b[0;34m(\u001b[0m\u001b[0mmath\u001b[0m\u001b[0;34m.\u001b[0m\u001b[0mlog10\u001b[0m\u001b[0;34m(\u001b[0m\u001b[0mdv\u001b[0m \u001b[0;34m/\u001b[0m \u001b[0mn\u001b[0m\u001b[0;34m)\u001b[0m \u001b[0;34m//\u001b[0m \u001b[0;36m1\u001b[0m\u001b[0;34m)\u001b[0m\u001b[0;34m\u001b[0m\u001b[0;34m\u001b[0m\u001b[0m\n\u001b[0m\u001b[1;32m   1963\u001b[0m     \u001b[0;32mreturn\u001b[0m \u001b[0mscale\u001b[0m\u001b[0;34m,\u001b[0m \u001b[0moffset\u001b[0m\u001b[0;34m\u001b[0m\u001b[0;34m\u001b[0m\u001b[0m\n\u001b[1;32m   1964\u001b[0m \u001b[0;34m\u001b[0m\u001b[0m\n",
      "\u001b[0;31mKeyboardInterrupt\u001b[0m: "
     ]
    }
   ],
   "source": [
    "y_scores=log.predict_proba(X_test)\n",
    "prec, rec, tre = precision_recall_curve(y_test, y_scores[:,1])\n",
    "plt.plot(tre, prec[:-1], linestyle='--', label='Precision')\n",
    "plt.plot(tre, rec[:-1], linestyle='--', color = 'b', label='Recall')\n",
    "plt.xlabel(\"Threshold\")\n",
    "plt.ylabel(\"Scores\")\n",
    "plt.legend()\n",
    "plt.show()"
   ]
  },
  {
   "cell_type": "code",
   "execution_count": null,
   "metadata": {
    "id": "8DK3oHQxGKRA"
   },
   "outputs": [],
   "source": [
    "#forest; grid search 2 vars\n",
    "classifier = RandomForestClassifier(n_estimators=500, max_depth=70)\n",
    "classifier.fit(X_train, y_train)\n",
    "#plot_precision_recall_curve(classifier, X_test, y_test)\n",
    "y_scores=classifier.predict_proba(X_test)\n",
    "prec, rec, tre = precision_recall_curve(y_test, y_scores[:,1])\n",
    "plt.plot(tre, prec[:-1], linestyle='--', label='Precision')\n",
    "plt.plot(tre, rec[:-1], linestyle='--', color = 'b', label='Recall')\n",
    "plt.xlabel(\"Threshold\")\n",
    "plt.ylabel(\"Scores\")\n",
    "plt.legend()\n",
    "plt.show()"
   ]
  },
  {
   "cell_type": "code",
   "execution_count": null,
   "metadata": {
    "id": "2Qixmc_TGKRG"
   },
   "outputs": [],
   "source": [
    "def setUpModel(n1=5, n2=5):\n",
    "    #set up and compile a model\n",
    "    model = keras.Sequential()\n",
    "    \n",
    "    model.add(layers.Dense(n1, input_dim=X_train.shape[1], activation=\"sigmoid\"))\n",
    "    model.add(layers.Dense(n2, activation=\"sigmoid\"))\n",
    "    model.add(layers.Dense(1, activation=\"sigmoid\")) #1 output layer bc of binary output\n",
    "    \n",
    "    model.compile(loss='mse',\n",
    "         optimizer = keras.optimizers.SGD(momentum=0.99, learning_rate=0.01),\n",
    "         metrics=['accuracy',\n",
    "             keras.metrics.Recall(name=\"recall\", thresholds=0.3)\n",
    "                 ])\n",
    "        \n",
    "    return model\n",
    "\n",
    "#create a scikilearn-compatible model\n",
    "Kmodel = KerasClassifier(build_fn=setUpModel, verbose=0, batch_size=1000, epochs=30)\n",
    "Kmodel.fit(X_train, y_train)\n",
    "#plot_precision_recall_curve(Kmodel, X_test, y_test)"
   ]
  },
  {
   "cell_type": "code",
   "execution_count": null,
   "metadata": {
    "id": "WKW3ZENDGKRK"
   },
   "outputs": [],
   "source": [
    "y_scores=Kmodel.predict_proba(X_test)\n",
    "prec, rec, tre = precision_recall_curve(y_test, y_scores[:,1])\n",
    "plt.plot(tre, prec[:-1], linestyle='--', label='Precision')\n",
    "plt.plot(tre, rec[:-1], linestyle='--', color = 'b', label='Recall')\n",
    "plt.xlabel(\"Threshold\")\n",
    "plt.ylabel(\"Scores\")\n",
    "plt.legend()\n",
    "plt.show()"
   ]
  },
  {
   "cell_type": "code",
   "execution_count": null,
   "metadata": {
    "id": "piKTs7sLGKRS"
   },
   "outputs": [],
   "source": [
    "prec"
   ]
  },
  {
   "cell_type": "code",
   "execution_count": null,
   "metadata": {
    "id": "x-WqeCx-GKRY"
   },
   "outputs": [],
   "source": [
    "plt.plot(rec,prec )"
   ]
  },
  {
   "cell_type": "markdown",
   "metadata": {
    "id": "zkyp9pQGGKRY"
   },
   "source": [
    "## ROC"
   ]
  },
  {
   "cell_type": "code",
   "execution_count": null,
   "metadata": {
    "id": "5cyinVaWGKRa"
   },
   "outputs": [],
   "source": []
  },
  {
   "cell_type": "code",
   "execution_count": null,
   "metadata": {
    "id": "9wV_PbjGGKRb"
   },
   "outputs": [],
   "source": []
  }
 ],
 "metadata": {
  "colab": {
   "name": "upSampling+dimenRed.ipynb",
   "provenance": [],
   "toc_visible": true
  },
  "kernelspec": {
   "display_name": "Python 3",
   "language": "python",
   "name": "python3"
  },
  "language_info": {
   "codemirror_mode": {
    "name": "ipython",
    "version": 3
   },
   "file_extension": ".py",
   "mimetype": "text/x-python",
   "name": "python",
   "nbconvert_exporter": "python",
   "pygments_lexer": "ipython3",
   "version": "3.8.5"
  }
 },
 "nbformat": 4,
 "nbformat_minor": 4
}
